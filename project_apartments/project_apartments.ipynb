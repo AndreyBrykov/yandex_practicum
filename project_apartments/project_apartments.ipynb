{
 "cells": [
  {
   "cell_type": "markdown",
   "id": "fcb8471b",
   "metadata": {},
   "source": [
    "Проект выполнен на основе данных сервиса Яндекс Недвижимость — архива объявлений за несколько лет о продаже квартир в Санкт-Петербурге и соседних населённых пунктах. О каждой квартире в базе содержится два типа данных: добавленные пользователем и картографические. \n",
    "\n",
    "Среди задач проекта - предобработка данных и их изучение, поиск интересных особенностей и зависимостей, которые существуют на рынке недвижимости.\n",
    "\n",
    "**Описание данных**\n",
    "- airports_nearest — расстояние до ближайшего аэропорта в метрах (м)\n",
    "- balcony — число балконов\n",
    "- ceiling_height — высота потолков (м)\n",
    "- cityCenters_nearest — расстояние до центра города (м)\n",
    "- days_exposition — сколько дней было размещено объявление (от публикации до снятия)\n",
    "- first_day_exposition — дата публикации\n",
    "- floor — этаж\n",
    "- floors_total — всего этажей в доме\n",
    "- is_apartment — апартаменты (булев тип)\n",
    "- kitchen_area — площадь кухни в квадратных метрах (м²)\n",
    "- last_price — цена на момент снятия с публикации\n",
    "- vliving_area — жилая площадь в квадратных метрах (м²)\n",
    "- locality_name — название населённого пункта\n",
    "- open_plan — свободная планировка (булев тип)\n",
    "- parks_around3000 — число парков в радиусе 3 км\n",
    "- parks_nearest — расстояние до ближайшего парка (м)\n",
    "- ponds_around3000 — число водоёмов в радиусе 3 км\n",
    "- ponds_nearest — расстояние до ближайшего водоёма (м)\n",
    "- rooms — число комнат\n",
    "- studio — квартира-студия (булев тип)\n",
    "- total_area — общая площадь квартиры в квадратных метрах (м²)\n",
    "- total_images — число фотографий квартиры в объявлении"
   ]
  },
  {
   "cell_type": "markdown",
   "id": "691f36b8",
   "metadata": {
    "toc": true
   },
   "source": [
    "<h1>Table of Contents<span class=\"tocSkip\"></span></h1>\n",
    "<div class=\"toc\"><ul class=\"toc-item\"><li><span><a href=\"#Первый-взгляд\" data-toc-modified-id=\"Первый-взгляд-1\"><span class=\"toc-item-num\">1&nbsp;&nbsp;</span>Первый взгляд</a></span></li><li><span><a href=\"#Предобработка-данных\" data-toc-modified-id=\"Предобработка-данных-2\"><span class=\"toc-item-num\">2&nbsp;&nbsp;</span>Предобработка данных</a></span><ul class=\"toc-item\"><li><span><a href=\"#Работа-с-пропусками\" data-toc-modified-id=\"Работа-с-пропусками-2.1\"><span class=\"toc-item-num\">2.1&nbsp;&nbsp;</span>Работа с пропусками</a></span></li><li><span><a href=\"#Изменение-типов-данных\" data-toc-modified-id=\"Изменение-типов-данных-2.2\"><span class=\"toc-item-num\">2.2&nbsp;&nbsp;</span>Изменение типов данных</a></span></li><li><span><a href=\"#Обработка-дубликатов\" data-toc-modified-id=\"Обработка-дубликатов-2.3\"><span class=\"toc-item-num\">2.3&nbsp;&nbsp;</span>Обработка дубликатов</a></span></li><li><span><a href=\"#Обработка-аномалий-и-выбросов\" data-toc-modified-id=\"Обработка-аномалий-и-выбросов-2.4\"><span class=\"toc-item-num\">2.4&nbsp;&nbsp;</span>Обработка аномалий и выбросов</a></span></li></ul></li><li><span><a href=\"#Добавляем-столбцы\" data-toc-modified-id=\"Добавляем-столбцы-3\"><span class=\"toc-item-num\">3&nbsp;&nbsp;</span>Добавляем столбцы</a></span></li><li><span><a href=\"#Исследовательский-анализ-данных\" data-toc-modified-id=\"Исследовательский-анализ-данных-4\"><span class=\"toc-item-num\">4&nbsp;&nbsp;</span>Исследовательский анализ данных</a></span></li><li><span><a href=\"#Как-быстро-продаются-квартиры?\" data-toc-modified-id=\"Как-быстро-продаются-квартиры?-5\"><span class=\"toc-item-num\">5&nbsp;&nbsp;</span>Как быстро продаются квартиры?</a></span></li><li><span><a href=\"#Факторы-влияния-на-цену\" data-toc-modified-id=\"Факторы-влияния-на-цену-6\"><span class=\"toc-item-num\">6&nbsp;&nbsp;</span>Факторы влияния на цену</a></span></li><li><span><a href=\"#Топ-10-населенных-пунктов-по-числу-объявлений\" data-toc-modified-id=\"Топ-10-населенных-пунктов-по-числу-объявлений-7\"><span class=\"toc-item-num\">7&nbsp;&nbsp;</span>Топ-10 населенных пунктов по числу объявлений</a></span></li><li><span><a href=\"#Километры-стоят-денег\" data-toc-modified-id=\"Километры-стоят-денег-8\"><span class=\"toc-item-num\">8&nbsp;&nbsp;</span>Километры стоят денег</a></span><ul class=\"toc-item\"><li><span><a href=\"#Результаты-и-выводы\" data-toc-modified-id=\"Результаты-и-выводы-8.1\"><span class=\"toc-item-num\">8.1&nbsp;&nbsp;</span>Результаты и выводы</a></span><ul class=\"toc-item\"><li><span><a href=\"#Наблюдения-по-исходным-данным\" data-toc-modified-id=\"Наблюдения-по-исходным-данным-8.1.1\"><span class=\"toc-item-num\">8.1.1&nbsp;&nbsp;</span>Наблюдения по исходным данным</a></span></li><li><span><a href=\"#Зависимости-и-выводы\" data-toc-modified-id=\"Зависимости-и-выводы-8.1.2\"><span class=\"toc-item-num\">8.1.2&nbsp;&nbsp;</span>Зависимости и выводы</a></span></li><li><span><a href=\"#Как-быстро-продаются-квартиры\" data-toc-modified-id=\"Как-быстро-продаются-квартиры-8.1.3\"><span class=\"toc-item-num\">8.1.3&nbsp;&nbsp;</span>Как быстро продаются квартиры</a></span></li><li><span><a href=\"#Факторы-влияния-на-цену\" data-toc-modified-id=\"Факторы-влияния-на-цену-8.1.4\"><span class=\"toc-item-num\">8.1.4&nbsp;&nbsp;</span>Факторы влияния на цену</a></span></li><li><span><a href=\"#Топ-10-населенных-пунктов-по-числу-публикаций\" data-toc-modified-id=\"Топ-10-населенных-пунктов-по-числу-публикаций-8.1.5\"><span class=\"toc-item-num\">8.1.5&nbsp;&nbsp;</span>Топ-10 населенных пунктов по числу публикаций</a></span></li><li><span><a href=\"#Зависимость-цены-от-расстояния-до-центра-города\" data-toc-modified-id=\"Зависимость-цены-от-расстояния-до-центра-города-8.1.6\"><span class=\"toc-item-num\">8.1.6&nbsp;&nbsp;</span>Зависимость цены от расстояния до центра города</a></span></li></ul></li><li><span><a href=\"#Общий-вывод\" data-toc-modified-id=\"Общий-вывод-8.2\"><span class=\"toc-item-num\">8.2&nbsp;&nbsp;</span>Общий вывод</a></span></li></ul></li></ul></div>"
   ]
  },
  {
   "cell_type": "code",
   "execution_count": 105,
   "id": "b0c7f462",
   "metadata": {},
   "outputs": [],
   "source": [
    "#Подключаем библиотеки и загружаем данные\n",
    "import pandas as pd\n",
    "import seaborn as sn\n",
    "import matplotlib.pyplot as plt\n",
    "try:\n",
    "    data = pd.read_csv('datasets/real_estate_data.csv', sep='\\\\t', engine='python')\n",
    "except:\n",
    "    print('Локально не получилось')\n",
    "    data = pd.read_csv('https://code.s3.yandex.net/datasets/real_estate_data.csv', sep='\\\\t', engine='python')"
   ]
  },
  {
   "cell_type": "markdown",
   "id": "a5db9480",
   "metadata": {},
   "source": [
    "### Первый взгляд"
   ]
  },
  {
   "cell_type": "code",
   "execution_count": 106,
   "id": "9ee34204",
   "metadata": {},
   "outputs": [
    {
     "data": {
      "text/html": [
       "<div>\n",
       "<style scoped>\n",
       "    .dataframe tbody tr th:only-of-type {\n",
       "        vertical-align: middle;\n",
       "    }\n",
       "\n",
       "    .dataframe tbody tr th {\n",
       "        vertical-align: top;\n",
       "    }\n",
       "\n",
       "    .dataframe thead th {\n",
       "        text-align: right;\n",
       "    }\n",
       "</style>\n",
       "<table border=\"1\" class=\"dataframe\">\n",
       "  <thead>\n",
       "    <tr style=\"text-align: right;\">\n",
       "      <th></th>\n",
       "      <th>total_images</th>\n",
       "      <th>last_price</th>\n",
       "      <th>total_area</th>\n",
       "      <th>first_day_exposition</th>\n",
       "      <th>rooms</th>\n",
       "      <th>ceiling_height</th>\n",
       "      <th>floors_total</th>\n",
       "      <th>living_area</th>\n",
       "      <th>floor</th>\n",
       "      <th>is_apartment</th>\n",
       "      <th>...</th>\n",
       "      <th>kitchen_area</th>\n",
       "      <th>balcony</th>\n",
       "      <th>locality_name</th>\n",
       "      <th>airports_nearest</th>\n",
       "      <th>cityCenters_nearest</th>\n",
       "      <th>parks_around3000</th>\n",
       "      <th>parks_nearest</th>\n",
       "      <th>ponds_around3000</th>\n",
       "      <th>ponds_nearest</th>\n",
       "      <th>days_exposition</th>\n",
       "    </tr>\n",
       "  </thead>\n",
       "  <tbody>\n",
       "    <tr>\n",
       "      <th>0</th>\n",
       "      <td>20</td>\n",
       "      <td>13000000.0</td>\n",
       "      <td>108.0</td>\n",
       "      <td>2019-03-07T00:00:00</td>\n",
       "      <td>3</td>\n",
       "      <td>2.70</td>\n",
       "      <td>16.0</td>\n",
       "      <td>51.0</td>\n",
       "      <td>8</td>\n",
       "      <td>NaN</td>\n",
       "      <td>...</td>\n",
       "      <td>25.0</td>\n",
       "      <td>NaN</td>\n",
       "      <td>Санкт-Петербург</td>\n",
       "      <td>18863.0</td>\n",
       "      <td>16028.0</td>\n",
       "      <td>1.0</td>\n",
       "      <td>482.0</td>\n",
       "      <td>2.0</td>\n",
       "      <td>755.0</td>\n",
       "      <td>NaN</td>\n",
       "    </tr>\n",
       "    <tr>\n",
       "      <th>1</th>\n",
       "      <td>7</td>\n",
       "      <td>3350000.0</td>\n",
       "      <td>40.4</td>\n",
       "      <td>2018-12-04T00:00:00</td>\n",
       "      <td>1</td>\n",
       "      <td>NaN</td>\n",
       "      <td>11.0</td>\n",
       "      <td>18.6</td>\n",
       "      <td>1</td>\n",
       "      <td>NaN</td>\n",
       "      <td>...</td>\n",
       "      <td>11.0</td>\n",
       "      <td>2.0</td>\n",
       "      <td>посёлок Шушары</td>\n",
       "      <td>12817.0</td>\n",
       "      <td>18603.0</td>\n",
       "      <td>0.0</td>\n",
       "      <td>NaN</td>\n",
       "      <td>0.0</td>\n",
       "      <td>NaN</td>\n",
       "      <td>81.0</td>\n",
       "    </tr>\n",
       "    <tr>\n",
       "      <th>2</th>\n",
       "      <td>10</td>\n",
       "      <td>5196000.0</td>\n",
       "      <td>56.0</td>\n",
       "      <td>2015-08-20T00:00:00</td>\n",
       "      <td>2</td>\n",
       "      <td>NaN</td>\n",
       "      <td>5.0</td>\n",
       "      <td>34.3</td>\n",
       "      <td>4</td>\n",
       "      <td>NaN</td>\n",
       "      <td>...</td>\n",
       "      <td>8.3</td>\n",
       "      <td>0.0</td>\n",
       "      <td>Санкт-Петербург</td>\n",
       "      <td>21741.0</td>\n",
       "      <td>13933.0</td>\n",
       "      <td>1.0</td>\n",
       "      <td>90.0</td>\n",
       "      <td>2.0</td>\n",
       "      <td>574.0</td>\n",
       "      <td>558.0</td>\n",
       "    </tr>\n",
       "    <tr>\n",
       "      <th>3</th>\n",
       "      <td>0</td>\n",
       "      <td>64900000.0</td>\n",
       "      <td>159.0</td>\n",
       "      <td>2015-07-24T00:00:00</td>\n",
       "      <td>3</td>\n",
       "      <td>NaN</td>\n",
       "      <td>14.0</td>\n",
       "      <td>NaN</td>\n",
       "      <td>9</td>\n",
       "      <td>NaN</td>\n",
       "      <td>...</td>\n",
       "      <td>NaN</td>\n",
       "      <td>0.0</td>\n",
       "      <td>Санкт-Петербург</td>\n",
       "      <td>28098.0</td>\n",
       "      <td>6800.0</td>\n",
       "      <td>2.0</td>\n",
       "      <td>84.0</td>\n",
       "      <td>3.0</td>\n",
       "      <td>234.0</td>\n",
       "      <td>424.0</td>\n",
       "    </tr>\n",
       "    <tr>\n",
       "      <th>4</th>\n",
       "      <td>2</td>\n",
       "      <td>10000000.0</td>\n",
       "      <td>100.0</td>\n",
       "      <td>2018-06-19T00:00:00</td>\n",
       "      <td>2</td>\n",
       "      <td>3.03</td>\n",
       "      <td>14.0</td>\n",
       "      <td>32.0</td>\n",
       "      <td>13</td>\n",
       "      <td>NaN</td>\n",
       "      <td>...</td>\n",
       "      <td>41.0</td>\n",
       "      <td>NaN</td>\n",
       "      <td>Санкт-Петербург</td>\n",
       "      <td>31856.0</td>\n",
       "      <td>8098.0</td>\n",
       "      <td>2.0</td>\n",
       "      <td>112.0</td>\n",
       "      <td>1.0</td>\n",
       "      <td>48.0</td>\n",
       "      <td>121.0</td>\n",
       "    </tr>\n",
       "  </tbody>\n",
       "</table>\n",
       "<p>5 rows × 22 columns</p>\n",
       "</div>"
      ],
      "text/plain": [
       "   total_images  last_price  total_area first_day_exposition  rooms  \\\n",
       "0            20  13000000.0       108.0  2019-03-07T00:00:00      3   \n",
       "1             7   3350000.0        40.4  2018-12-04T00:00:00      1   \n",
       "2            10   5196000.0        56.0  2015-08-20T00:00:00      2   \n",
       "3             0  64900000.0       159.0  2015-07-24T00:00:00      3   \n",
       "4             2  10000000.0       100.0  2018-06-19T00:00:00      2   \n",
       "\n",
       "   ceiling_height  floors_total  living_area  floor is_apartment  ...  \\\n",
       "0            2.70          16.0         51.0      8          NaN  ...   \n",
       "1             NaN          11.0         18.6      1          NaN  ...   \n",
       "2             NaN           5.0         34.3      4          NaN  ...   \n",
       "3             NaN          14.0          NaN      9          NaN  ...   \n",
       "4            3.03          14.0         32.0     13          NaN  ...   \n",
       "\n",
       "   kitchen_area  balcony    locality_name  airports_nearest  \\\n",
       "0          25.0      NaN  Санкт-Петербург           18863.0   \n",
       "1          11.0      2.0   посёлок Шушары           12817.0   \n",
       "2           8.3      0.0  Санкт-Петербург           21741.0   \n",
       "3           NaN      0.0  Санкт-Петербург           28098.0   \n",
       "4          41.0      NaN  Санкт-Петербург           31856.0   \n",
       "\n",
       "  cityCenters_nearest  parks_around3000  parks_nearest  ponds_around3000  \\\n",
       "0             16028.0               1.0          482.0               2.0   \n",
       "1             18603.0               0.0            NaN               0.0   \n",
       "2             13933.0               1.0           90.0               2.0   \n",
       "3              6800.0               2.0           84.0               3.0   \n",
       "4              8098.0               2.0          112.0               1.0   \n",
       "\n",
       "   ponds_nearest  days_exposition  \n",
       "0          755.0              NaN  \n",
       "1            NaN             81.0  \n",
       "2          574.0            558.0  \n",
       "3          234.0            424.0  \n",
       "4           48.0            121.0  \n",
       "\n",
       "[5 rows x 22 columns]"
      ]
     },
     "execution_count": 106,
     "metadata": {},
     "output_type": "execute_result"
    }
   ],
   "source": [
    "#выведем 5 первых строк таблицы\n",
    "data.head(5)"
   ]
  },
  {
   "cell_type": "code",
   "execution_count": 107,
   "id": "d81897e9",
   "metadata": {},
   "outputs": [
    {
     "data": {
      "text/html": [
       "<div>\n",
       "<style scoped>\n",
       "    .dataframe tbody tr th:only-of-type {\n",
       "        vertical-align: middle;\n",
       "    }\n",
       "\n",
       "    .dataframe tbody tr th {\n",
       "        vertical-align: top;\n",
       "    }\n",
       "\n",
       "    .dataframe thead th {\n",
       "        text-align: right;\n",
       "    }\n",
       "</style>\n",
       "<table border=\"1\" class=\"dataframe\">\n",
       "  <thead>\n",
       "    <tr style=\"text-align: right;\">\n",
       "      <th></th>\n",
       "      <th>total_images</th>\n",
       "      <th>last_price</th>\n",
       "      <th>total_area</th>\n",
       "      <th>first_day_exposition</th>\n",
       "      <th>rooms</th>\n",
       "      <th>ceiling_height</th>\n",
       "      <th>floors_total</th>\n",
       "      <th>living_area</th>\n",
       "      <th>floor</th>\n",
       "      <th>is_apartment</th>\n",
       "      <th>...</th>\n",
       "      <th>kitchen_area</th>\n",
       "      <th>balcony</th>\n",
       "      <th>locality_name</th>\n",
       "      <th>airports_nearest</th>\n",
       "      <th>cityCenters_nearest</th>\n",
       "      <th>parks_around3000</th>\n",
       "      <th>parks_nearest</th>\n",
       "      <th>ponds_around3000</th>\n",
       "      <th>ponds_nearest</th>\n",
       "      <th>days_exposition</th>\n",
       "    </tr>\n",
       "  </thead>\n",
       "  <tbody>\n",
       "    <tr>\n",
       "      <th>23694</th>\n",
       "      <td>9</td>\n",
       "      <td>9700000.0</td>\n",
       "      <td>133.81</td>\n",
       "      <td>2017-03-21T00:00:00</td>\n",
       "      <td>3</td>\n",
       "      <td>3.7</td>\n",
       "      <td>5.0</td>\n",
       "      <td>73.3</td>\n",
       "      <td>3</td>\n",
       "      <td>NaN</td>\n",
       "      <td>...</td>\n",
       "      <td>13.83</td>\n",
       "      <td>NaN</td>\n",
       "      <td>Санкт-Петербург</td>\n",
       "      <td>24665.0</td>\n",
       "      <td>4232.0</td>\n",
       "      <td>1.0</td>\n",
       "      <td>796.0</td>\n",
       "      <td>3.0</td>\n",
       "      <td>381.0</td>\n",
       "      <td>NaN</td>\n",
       "    </tr>\n",
       "    <tr>\n",
       "      <th>23695</th>\n",
       "      <td>14</td>\n",
       "      <td>3100000.0</td>\n",
       "      <td>59.00</td>\n",
       "      <td>2018-01-15T00:00:00</td>\n",
       "      <td>3</td>\n",
       "      <td>NaN</td>\n",
       "      <td>5.0</td>\n",
       "      <td>38.0</td>\n",
       "      <td>4</td>\n",
       "      <td>NaN</td>\n",
       "      <td>...</td>\n",
       "      <td>8.50</td>\n",
       "      <td>NaN</td>\n",
       "      <td>Тосно</td>\n",
       "      <td>NaN</td>\n",
       "      <td>NaN</td>\n",
       "      <td>NaN</td>\n",
       "      <td>NaN</td>\n",
       "      <td>NaN</td>\n",
       "      <td>NaN</td>\n",
       "      <td>45.0</td>\n",
       "    </tr>\n",
       "    <tr>\n",
       "      <th>23696</th>\n",
       "      <td>18</td>\n",
       "      <td>2500000.0</td>\n",
       "      <td>56.70</td>\n",
       "      <td>2018-02-11T00:00:00</td>\n",
       "      <td>2</td>\n",
       "      <td>NaN</td>\n",
       "      <td>3.0</td>\n",
       "      <td>29.7</td>\n",
       "      <td>1</td>\n",
       "      <td>NaN</td>\n",
       "      <td>...</td>\n",
       "      <td>NaN</td>\n",
       "      <td>NaN</td>\n",
       "      <td>село Рождествено</td>\n",
       "      <td>NaN</td>\n",
       "      <td>NaN</td>\n",
       "      <td>NaN</td>\n",
       "      <td>NaN</td>\n",
       "      <td>NaN</td>\n",
       "      <td>NaN</td>\n",
       "      <td>NaN</td>\n",
       "    </tr>\n",
       "    <tr>\n",
       "      <th>23697</th>\n",
       "      <td>13</td>\n",
       "      <td>11475000.0</td>\n",
       "      <td>76.75</td>\n",
       "      <td>2017-03-28T00:00:00</td>\n",
       "      <td>2</td>\n",
       "      <td>3.0</td>\n",
       "      <td>17.0</td>\n",
       "      <td>NaN</td>\n",
       "      <td>12</td>\n",
       "      <td>NaN</td>\n",
       "      <td>...</td>\n",
       "      <td>23.30</td>\n",
       "      <td>2.0</td>\n",
       "      <td>Санкт-Петербург</td>\n",
       "      <td>39140.0</td>\n",
       "      <td>10364.0</td>\n",
       "      <td>2.0</td>\n",
       "      <td>173.0</td>\n",
       "      <td>3.0</td>\n",
       "      <td>196.0</td>\n",
       "      <td>602.0</td>\n",
       "    </tr>\n",
       "    <tr>\n",
       "      <th>23698</th>\n",
       "      <td>4</td>\n",
       "      <td>1350000.0</td>\n",
       "      <td>32.30</td>\n",
       "      <td>2017-07-21T00:00:00</td>\n",
       "      <td>1</td>\n",
       "      <td>2.5</td>\n",
       "      <td>5.0</td>\n",
       "      <td>12.3</td>\n",
       "      <td>1</td>\n",
       "      <td>NaN</td>\n",
       "      <td>...</td>\n",
       "      <td>9.00</td>\n",
       "      <td>NaN</td>\n",
       "      <td>поселок Новый Учхоз</td>\n",
       "      <td>NaN</td>\n",
       "      <td>NaN</td>\n",
       "      <td>NaN</td>\n",
       "      <td>NaN</td>\n",
       "      <td>NaN</td>\n",
       "      <td>NaN</td>\n",
       "      <td>NaN</td>\n",
       "    </tr>\n",
       "  </tbody>\n",
       "</table>\n",
       "<p>5 rows × 22 columns</p>\n",
       "</div>"
      ],
      "text/plain": [
       "       total_images  last_price  total_area first_day_exposition  rooms  \\\n",
       "23694             9   9700000.0      133.81  2017-03-21T00:00:00      3   \n",
       "23695            14   3100000.0       59.00  2018-01-15T00:00:00      3   \n",
       "23696            18   2500000.0       56.70  2018-02-11T00:00:00      2   \n",
       "23697            13  11475000.0       76.75  2017-03-28T00:00:00      2   \n",
       "23698             4   1350000.0       32.30  2017-07-21T00:00:00      1   \n",
       "\n",
       "       ceiling_height  floors_total  living_area  floor is_apartment  ...  \\\n",
       "23694             3.7           5.0         73.3      3          NaN  ...   \n",
       "23695             NaN           5.0         38.0      4          NaN  ...   \n",
       "23696             NaN           3.0         29.7      1          NaN  ...   \n",
       "23697             3.0          17.0          NaN     12          NaN  ...   \n",
       "23698             2.5           5.0         12.3      1          NaN  ...   \n",
       "\n",
       "       kitchen_area  balcony        locality_name  airports_nearest  \\\n",
       "23694         13.83      NaN      Санкт-Петербург           24665.0   \n",
       "23695          8.50      NaN                Тосно               NaN   \n",
       "23696           NaN      NaN     село Рождествено               NaN   \n",
       "23697         23.30      2.0      Санкт-Петербург           39140.0   \n",
       "23698          9.00      NaN  поселок Новый Учхоз               NaN   \n",
       "\n",
       "      cityCenters_nearest  parks_around3000  parks_nearest  ponds_around3000  \\\n",
       "23694              4232.0               1.0          796.0               3.0   \n",
       "23695                 NaN               NaN            NaN               NaN   \n",
       "23696                 NaN               NaN            NaN               NaN   \n",
       "23697             10364.0               2.0          173.0               3.0   \n",
       "23698                 NaN               NaN            NaN               NaN   \n",
       "\n",
       "       ponds_nearest  days_exposition  \n",
       "23694          381.0              NaN  \n",
       "23695            NaN             45.0  \n",
       "23696            NaN              NaN  \n",
       "23697          196.0            602.0  \n",
       "23698            NaN              NaN  \n",
       "\n",
       "[5 rows x 22 columns]"
      ]
     },
     "execution_count": 107,
     "metadata": {},
     "output_type": "execute_result"
    }
   ],
   "source": [
    "#выведем 5 последних строк таблицы\n",
    "data.tail(5)"
   ]
  },
  {
   "cell_type": "code",
   "execution_count": 108,
   "id": "b22aed2a",
   "metadata": {},
   "outputs": [
    {
     "name": "stdout",
     "output_type": "stream",
     "text": [
      "<class 'pandas.core.frame.DataFrame'>\n",
      "RangeIndex: 23699 entries, 0 to 23698\n",
      "Data columns (total 22 columns):\n",
      " #   Column                Non-Null Count  Dtype  \n",
      "---  ------                --------------  -----  \n",
      " 0   total_images          23699 non-null  int64  \n",
      " 1   last_price            23699 non-null  float64\n",
      " 2   total_area            23699 non-null  float64\n",
      " 3   first_day_exposition  23699 non-null  object \n",
      " 4   rooms                 23699 non-null  int64  \n",
      " 5   ceiling_height        14504 non-null  float64\n",
      " 6   floors_total          23613 non-null  float64\n",
      " 7   living_area           21796 non-null  float64\n",
      " 8   floor                 23699 non-null  int64  \n",
      " 9   is_apartment          2775 non-null   object \n",
      " 10  studio                23699 non-null  bool   \n",
      " 11  open_plan             23699 non-null  bool   \n",
      " 12  kitchen_area          21421 non-null  float64\n",
      " 13  balcony               12180 non-null  float64\n",
      " 14  locality_name         23650 non-null  object \n",
      " 15  airports_nearest      18157 non-null  float64\n",
      " 16  cityCenters_nearest   18180 non-null  float64\n",
      " 17  parks_around3000      18181 non-null  float64\n",
      " 18  parks_nearest         8079 non-null   float64\n",
      " 19  ponds_around3000      18181 non-null  float64\n",
      " 20  ponds_nearest         9110 non-null   float64\n",
      " 21  days_exposition       20518 non-null  float64\n",
      "dtypes: bool(2), float64(14), int64(3), object(3)\n",
      "memory usage: 3.7+ MB\n"
     ]
    }
   ],
   "source": [
    "#взглянем на развер таблицы и содержимое\n",
    "data.info()"
   ]
  },
  {
   "cell_type": "code",
   "execution_count": 109,
   "id": "ac809cba",
   "metadata": {},
   "outputs": [
    {
     "data": {
      "image/png": "[encoded data removed]",
      "text/plain": [
       "<Figure size 1080x1440 with 20 Axes>"
      ]
     },
     "metadata": {
      "needs_background": "light"
     },
     "output_type": "display_data"
    }
   ],
   "source": [
    "#посмотрим на распределение числовых значений столбцов таблицы\n",
    "data.hist(figsize=(15, 20))\n",
    "plt.show()"
   ]
  },
  {
   "cell_type": "markdown",
   "id": "3848fa2a",
   "metadata": {},
   "source": [
    "Согласно информации по столбцам таблицы можно увидеть что в ней 23699 строк в 22 столбцах, имеются пропуски. На первый взгляд типы значений некоторых столбцов и распределение значений на гистограммах отлично от ожидаемых, поэтому потребуется выполнить дополнительную обработку данных."
   ]
  },
  {
   "cell_type": "markdown",
   "id": "c529e199",
   "metadata": {},
   "source": [
    "### Предобработка данных\n",
    "\n",
    "#### Работа с пропусками\n",
    "\n",
    "Обзор таблицы показал, что полностью заполнены только самые основные столбцы - Общая площадь, Цена, Кол-во фотографий, Кол-во комнат, День публикации объявления, Этаж, признаки квартиры студии и свободной планировки. Это логично, поскольку  эти данные являются обязательными к заполнению при публикации или же важны для продажи объекта. \n",
    "\n",
    "Остальные столбцы имеют разную степень заполнения. Проанализируем пропуски в них."
   ]
  },
  {
   "cell_type": "markdown",
   "id": "50169141",
   "metadata": {},
   "source": [
    "**Число балконов `balcony`** - вероятно, пользователь сервиса на указал число балконов в связи с их отсуствием, поэтому заменим их на значение 0."
   ]
  },
  {
   "cell_type": "code",
   "execution_count": 110,
   "id": "a1711a72",
   "metadata": {},
   "outputs": [],
   "source": [
    "#заполняем пропуски на 0\n",
    "data['balcony'] = data['balcony'].fillna(0)"
   ]
  },
  {
   "cell_type": "markdown",
   "id": "a56c7c90",
   "metadata": {},
   "source": [
    "**Высота потолков `ceiling_height`** - скорее всего, многие ее просто не указывают при публикации объявления. Вероятно, если высота потолков имеет отличные от привычных значения (например, потолки очень высокие), то этот факт продавец точно отразит в объявлении. Найдем медианное значение высоты потолков и заполним им пропуски. Но сначала обработаем значения на выбросы и аномалии."
   ]
  },
  {
   "cell_type": "code",
   "execution_count": 111,
   "id": "cb3d51fe",
   "metadata": {},
   "outputs": [
    {
     "data": {
      "text/plain": [
       "count    14504.000000\n",
       "mean         2.771499\n",
       "std          1.261056\n",
       "min          1.000000\n",
       "25%          2.520000\n",
       "50%          2.650000\n",
       "75%          2.800000\n",
       "max        100.000000\n",
       "Name: ceiling_height, dtype: float64"
      ]
     },
     "execution_count": 111,
     "metadata": {},
     "output_type": "execute_result"
    }
   ],
   "source": [
    "#посмотрим статистику значений столбца\n",
    "data['ceiling_height'].describe()"
   ]
  },
  {
   "cell_type": "code",
   "execution_count": 112,
   "id": "ed299cc1",
   "metadata": {},
   "outputs": [
    {
     "data": {
      "text/plain": [
       "27.00     8\n",
       "25.00     7\n",
       "8.00      3\n",
       "5.30      2\n",
       "32.00     2\n",
       "1.75      1\n",
       "1.00      1\n",
       "10.30     1\n",
       "27.50     1\n",
       "5.80      1\n",
       "22.60     1\n",
       "6.00      1\n",
       "20.00     1\n",
       "5.50      1\n",
       "14.00     1\n",
       "5.20      1\n",
       "8.30      1\n",
       "1.20      1\n",
       "26.00     1\n",
       "24.00     1\n",
       "5.60      1\n",
       "100.00    1\n",
       "Name: ceiling_height, dtype: int64"
      ]
     },
     "execution_count": 112,
     "metadata": {},
     "output_type": "execute_result"
    }
   ],
   "source": [
    "#оценим какие значения вызывают подозрения и сколько их\n",
    "data[(data['ceiling_height']<2)|(data['ceiling_height']>5)]['ceiling_height'].value_counts()"
   ]
  },
  {
   "cell_type": "code",
   "execution_count": 113,
   "id": "f301f07d",
   "metadata": {},
   "outputs": [
    {
     "data": {
      "image/png": "[encoded data removed]",
      "text/plain": [
       "<Figure size 432x288 with 1 Axes>"
      ]
     },
     "metadata": {
      "needs_background": "light"
     },
     "output_type": "display_data"
    }
   ],
   "source": [
    "#посмотрим на диаграмму размаха значений высоты потолков в ожидаемом диапазоне\n",
    "plt.ylim(2,5)\n",
    "data.boxplot('ceiling_height')\n",
    "plt.show()"
   ]
  },
  {
   "cell_type": "markdown",
   "id": "61309b05",
   "metadata": {},
   "source": [
    "Нижняя граница высоты менее 2,5 м вызывает подозрения и по строительным нормам не допустима.\n",
    "Верхняя же граница высоты потолков в объявлениях имеет в норме не более 3 м. Сложно представить квартиру с потолками высотой 100 метров. Согласно данных обзоров и аналитики недвижимости Санкт-Петербурга максимальная высота потолков в домах дореволюционной и сталинской постройки не превышает 4,5 м. А вот среди элитных новостроек есть квартиры с потолками 5,2 м. \n",
    "\n",
    "Вероятно, аномальные значения высоты потолков это ошибка при заполнении объявления. Можно предположить, что в большинстве больших аномальных чисел десятичный разделитель указан не верно. Исправим все значения более 20 м разделив их на 10. Затем оставшиеся значения с высотой потолков менее 2,5 м более 6 м отбросим, реалистично объяснить такую высоту не представляется возможным."
   ]
  },
  {
   "cell_type": "code",
   "execution_count": 114,
   "id": "a5b7e54e",
   "metadata": {},
   "outputs": [
    {
     "name": "stdout",
     "output_type": "stream",
     "text": [
      "Количество квартир с потолками менее 2,5 м или более 6 м: 83\n"
     ]
    }
   ],
   "source": [
    "#значения с высотой потолков более 20 м уменьшаем на порядок\n",
    "data['ceiling_height'] = data['ceiling_height'].where(data['ceiling_height']<20, \n",
    "                                                      data['ceiling_height']/10)\n",
    "#проверяем, какие аномалии остались в столбце\n",
    "print('Количество квартир с потолками менее 2,5 м или более 6 м:',\n",
    "      data[(data['ceiling_height']<2.5)|(data['ceiling_height']>6)]['ceiling_height'].count())"
   ]
  },
  {
   "cell_type": "code",
   "execution_count": 115,
   "id": "4799677b",
   "metadata": {},
   "outputs": [
    {
     "name": "stdout",
     "output_type": "stream",
     "text": [
      "Количество квартир с потолками менее 2,5 м или более 6 м: 0\n"
     ]
    }
   ],
   "source": [
    "#кол-во строк с аномалиями незначительно для нашего набора данных\n",
    "#отбросим строки с необъяснимой высотой потолков\n",
    "data = data[(data['ceiling_height']>=2.5) & (data['ceiling_height']<=6)]\n",
    "#проверяем, какие аномалии остались в столбце\n",
    "print('Количество квартир с потолками менее 2,5 м или более 6 м:',\n",
    "      data[(data['ceiling_height']<2.5)|(data['ceiling_height']>6)]['ceiling_height'].count())"
   ]
  },
  {
   "cell_type": "code",
   "execution_count": 116,
   "id": "276eb552",
   "metadata": {},
   "outputs": [
    {
     "name": "stdout",
     "output_type": "stream",
     "text": [
      "Медиана высоты потолков: 2.65\n"
     ]
    }
   ],
   "source": [
    "print('Медиана высоты потолков:', data['ceiling_height'].median())"
   ]
  },
  {
   "cell_type": "code",
   "execution_count": 117,
   "id": "12635c60",
   "metadata": {},
   "outputs": [
    {
     "name": "stdout",
     "output_type": "stream",
     "text": [
      "Минимальная высота потолков: 2.5\n",
      "Максимальная высота потолков: 6.0\n"
     ]
    }
   ],
   "source": [
    "#заполняем пропуски медианой\n",
    "data['ceiling_height'] = data['ceiling_height'].fillna(data['ceiling_height'].median())\n",
    "print('Минимальная высота потолков:', data['ceiling_height'].min())\n",
    "print('Максимальная высота потолков:', data['ceiling_height'].max())"
   ]
  },
  {
   "cell_type": "markdown",
   "id": "1bc263d5",
   "metadata": {},
   "source": [
    "**Всего этажей в доме `floors_total`** - пустых значений в этом столбце не так много - 86. Этаж квартиры указан во всех объявлениях, заполнив столбец \"Всего этажей в доме\" значением этажа квартиры мы не приведем к несогласованности данных и не повлияем на долю квартир на последнем этаже. Можно предположить, что для части объявлений это значение будет истинным, поскольку среди них вероятно и те, где продавец умышленно не указал кол-во этажей в доме не желая сообщать что квартира расположена на последнем этаже."
   ]
  },
  {
   "cell_type": "code",
   "execution_count": 118,
   "id": "8175570b",
   "metadata": {},
   "outputs": [
    {
     "data": {
      "text/plain": [
       "0.14430344636294293"
      ]
     },
     "execution_count": 118,
     "metadata": {},
     "output_type": "execute_result"
    }
   ],
   "source": [
    "#доля квартир на последнем этаже до обработки пустых значений\n",
    "data[data['floors_total'] == data['floor']]['floor'].count()/len(data)"
   ]
  },
  {
   "cell_type": "code",
   "execution_count": 119,
   "id": "9e39de17",
   "metadata": {},
   "outputs": [],
   "source": [
    "#заполняем пустые значения общего числа этажей в доме значением этажа продаваемой квартиры\n",
    "data['floors_total'] = data['floors_total'].fillna(data['floor'])"
   ]
  },
  {
   "cell_type": "code",
   "execution_count": 120,
   "id": "21209a85",
   "metadata": {},
   "outputs": [
    {
     "data": {
      "text/plain": [
       "0.14492753623188406"
      ]
     },
     "execution_count": 120,
     "metadata": {},
     "output_type": "execute_result"
    }
   ],
   "source": [
    "#доля квартир на последнем этаже после обработки пустых значений\n",
    "data[data['floors_total'] == data['floor']]['floor'].count()/len(data)"
   ]
  },
  {
   "cell_type": "markdown",
   "id": "e2197a03",
   "metadata": {},
   "source": [
    "**Жилая площадь `living_area`** - пустые значения в этом столбце постараемся проанализировать. Есть ли среди них квартиры-студии или квартиры со свободной планировкой? Если есть, то отсутствие значений будет логичным."
   ]
  },
  {
   "cell_type": "code",
   "execution_count": 121,
   "id": "7eb9efeb",
   "metadata": {},
   "outputs": [
    {
     "data": {
      "text/plain": [
       "0"
      ]
     },
     "execution_count": 121,
     "metadata": {},
     "output_type": "execute_result"
    }
   ],
   "source": [
    "data[data['living_area'].isna() & (data['studio'] | data['open_plan'])]['living_area'].count()"
   ]
  },
  {
   "cell_type": "markdown",
   "id": "9b6803d8",
   "metadata": {},
   "source": [
    "Среди квартир с отсутствующими данными о жилой площади нет студий и свободной планировки, значит эта цифра не указана продавцом. Заполним эти пустующие значения медианными значениями жилой площади для  квартир с соответствующим числом комнат."
   ]
  },
  {
   "cell_type": "code",
   "execution_count": 122,
   "id": "7b8bf594",
   "metadata": {},
   "outputs": [],
   "source": [
    "#в сводной таблице посчитаем медиану жилой площади для квартир с разным количеством комнат\n",
    "living_area_median = data.pivot_table(index='rooms', values='living_area', aggfunc='median')\n",
    "living_area_median.columns = ['median']\n",
    "#заполним пустые значения соответствующими значениями\n",
    "for i,row in living_area_median.iterrows():    \n",
    "    data['living_area'] = data['living_area'].where(~(data['living_area'].isna() & (data['rooms']==i)), \n",
    "                                                    row['median'])"
   ]
  },
  {
   "cell_type": "markdown",
   "id": "c8e93c53",
   "metadata": {},
   "source": [
    "**Площадь кухни `kitchen_area`** - в исходном наборе было более 2000 пустых значений в этом столбце. Вероятно пользователи не посчитали необходимым указать этот параметр. Проверим некоторые гипотезы."
   ]
  },
  {
   "cell_type": "code",
   "execution_count": 123,
   "id": "17023ddc",
   "metadata": {},
   "outputs": [
    {
     "data": {
      "text/plain": [
       "931"
      ]
     },
     "execution_count": 123,
     "metadata": {},
     "output_type": "execute_result"
    }
   ],
   "source": [
    "# сколько пустых значений\n",
    "data['kitchen_area'].isna().sum()"
   ]
  },
  {
   "cell_type": "code",
   "execution_count": 124,
   "id": "bfadf7d2",
   "metadata": {},
   "outputs": [
    {
     "data": {
      "text/plain": [
       "92"
      ]
     },
     "execution_count": 124,
     "metadata": {},
     "output_type": "execute_result"
    }
   ],
   "source": [
    "#проверим нет ли среди квартир с неуказнным значением площади кухни студий \n",
    "# или квартир со свободной планировкой\n",
    "data[data['kitchen_area'].isna()&(data['studio'] | data['open_plan'])]['total_area'].count()"
   ]
  },
  {
   "cell_type": "markdown",
   "id": "e9b491de",
   "metadata": {},
   "source": [
    "Студии и квартиры со свободной планировкой присутствуют среди объектов без площади кухни, но их значительно меньше."
   ]
  },
  {
   "cell_type": "markdown",
   "id": "45641cd1",
   "metadata": {},
   "source": [
    "Заменим пустые значения на площадь кухни, вычисленную от общей площади в той же пропорции, что и отношение медианной площади кухни к медианной общей площади."
   ]
  },
  {
   "cell_type": "code",
   "execution_count": 125,
   "id": "da21d67c",
   "metadata": {},
   "outputs": [],
   "source": [
    "data['kitchen_area'] = data['kitchen_area'].fillna((data['kitchen_area'].median()/data['total_area'].median())*data['total_area'])"
   ]
  },
  {
   "cell_type": "code",
   "execution_count": 126,
   "id": "46f876c0",
   "metadata": {},
   "outputs": [
    {
     "data": {
      "text/plain": [
       "0"
      ]
     },
     "execution_count": 126,
     "metadata": {},
     "output_type": "execute_result"
    }
   ],
   "source": [
    "# проверим остались ли пустные значения\n",
    "data['kitchen_area'].isna().sum()"
   ]
  },
  {
   "cell_type": "markdown",
   "id": "5a2b74cf",
   "metadata": {},
   "source": [
    "**Признак апартаментов `is_apartment`** - в этом столбце пользователи указывают является ли объект недвижимости апартаментами, т.е. признак принимает значения булева типа True и False. Вероятно те, кто желает указать, что продает апартаменты пользуются соответствующим чек-боксом. Можно предположить, что немногие пользователи выбирают в сервисе False при продаже жилой некоммерческой недвижимости. Поэтому заполним пустые значения в этом столбце значением False."
   ]
  },
  {
   "cell_type": "code",
   "execution_count": 127,
   "id": "410cc5e2",
   "metadata": {},
   "outputs": [
    {
     "data": {
      "text/plain": [
       "False    14379\n",
       "True        42\n",
       "Name: is_apartment, dtype: int64"
      ]
     },
     "execution_count": 127,
     "metadata": {},
     "output_type": "execute_result"
    }
   ],
   "source": [
    "data['is_apartment'] = data['is_apartment'].fillna(False)\n",
    "#проверим значения в столбце после замены\n",
    "data['is_apartment'].value_counts()"
   ]
  },
  {
   "cell_type": "markdown",
   "id": "8e83bdaf",
   "metadata": {},
   "source": [
    "**Название населенного пункта `locality_name`** - отсутствие значения в этом столбце делает невозможным сделать требуемый анализ. Посмотрим как много строк без названия населенного пункта. Если их немного, то удалим их."
   ]
  },
  {
   "cell_type": "code",
   "execution_count": 128,
   "id": "5a2b6111",
   "metadata": {},
   "outputs": [
    {
     "data": {
      "text/plain": [
       "14"
      ]
     },
     "execution_count": 128,
     "metadata": {},
     "output_type": "execute_result"
    }
   ],
   "source": [
    "data[data['locality_name'].isna()]['total_area'].count()"
   ]
  },
  {
   "cell_type": "code",
   "execution_count": 129,
   "id": "983ba9cf",
   "metadata": {},
   "outputs": [],
   "source": [
    "#таких строк 49, они не повлияют на анализ, удалим их\n",
    "data = data.dropna(subset='locality_name')"
   ]
  },
  {
   "cell_type": "code",
   "execution_count": 130,
   "id": "4bac1b95",
   "metadata": {},
   "outputs": [
    {
     "name": "stdout",
     "output_type": "stream",
     "text": [
      "Количество пустых значений в столбце airports_nearest: 2930\n",
      "Количество пустых значений в столбце cityCenters_nearest: 2910\n",
      "Количество пустых значений в столбце parks_around3000: 2909\n",
      "Количество пустых значений в столбце parks_nearest: 9151\n",
      "Количество пустых значений в столбце ponds_around3000: 2909\n",
      "Количество пустых значений в столбце ponds_nearest: 8711\n"
     ]
    }
   ],
   "source": [
    "#посмотрим заполненность картографических данных\n",
    "na_list=['airports_nearest', 'cityCenters_nearest', 'parks_around3000', 'parks_nearest',\n",
    "         'ponds_around3000', 'ponds_nearest']\n",
    "for value in na_list:\n",
    "    print(f'Количество пустых значений в столбце {value}:', \n",
    "          data[data[value].isna()]['total_area'].count())"
   ]
  },
  {
   "cell_type": "markdown",
   "id": "9cede54b",
   "metadata": {},
   "source": [
    "Ряд столбцов в таблице, говорящие о **близости к аэропорту, центру города, паркам и водоемам**, имеет много пустых значений. Поскольку объявление о продаже квартиры для публикации должно иметь адрес, то в отсутствии картографических данных нельзя  обвинить пользователя. Вероятно это проблема сервиса Яндекс Недвижиммость и стоит отправить **баг-репорт** разработчикам. Сделаем срез данных с проблемой в картографических данных."
   ]
  },
  {
   "cell_type": "code",
   "execution_count": 131,
   "id": "5df857c7",
   "metadata": {
    "scrolled": true
   },
   "outputs": [
    {
     "data": {
      "text/html": [
       "<div>\n",
       "<style scoped>\n",
       "    .dataframe tbody tr th:only-of-type {\n",
       "        vertical-align: middle;\n",
       "    }\n",
       "\n",
       "    .dataframe tbody tr th {\n",
       "        vertical-align: top;\n",
       "    }\n",
       "\n",
       "    .dataframe thead th {\n",
       "        text-align: right;\n",
       "    }\n",
       "</style>\n",
       "<table border=\"1\" class=\"dataframe\">\n",
       "  <thead>\n",
       "    <tr style=\"text-align: right;\">\n",
       "      <th></th>\n",
       "      <th>total_images</th>\n",
       "      <th>last_price</th>\n",
       "      <th>total_area</th>\n",
       "      <th>first_day_exposition</th>\n",
       "      <th>rooms</th>\n",
       "      <th>ceiling_height</th>\n",
       "      <th>floors_total</th>\n",
       "      <th>living_area</th>\n",
       "      <th>floor</th>\n",
       "      <th>is_apartment</th>\n",
       "      <th>...</th>\n",
       "      <th>kitchen_area</th>\n",
       "      <th>balcony</th>\n",
       "      <th>locality_name</th>\n",
       "      <th>airports_nearest</th>\n",
       "      <th>cityCenters_nearest</th>\n",
       "      <th>parks_around3000</th>\n",
       "      <th>parks_nearest</th>\n",
       "      <th>ponds_around3000</th>\n",
       "      <th>ponds_nearest</th>\n",
       "      <th>days_exposition</th>\n",
       "    </tr>\n",
       "  </thead>\n",
       "  <tbody>\n",
       "    <tr>\n",
       "      <th>22</th>\n",
       "      <td>20</td>\n",
       "      <td>5000000.0</td>\n",
       "      <td>58.0</td>\n",
       "      <td>2017-04-24T00:00:00</td>\n",
       "      <td>2</td>\n",
       "      <td>2.75</td>\n",
       "      <td>25.0</td>\n",
       "      <td>30.0</td>\n",
       "      <td>15</td>\n",
       "      <td>False</td>\n",
       "      <td>...</td>\n",
       "      <td>11.00000</td>\n",
       "      <td>2.0</td>\n",
       "      <td>деревня Кудрово</td>\n",
       "      <td>NaN</td>\n",
       "      <td>NaN</td>\n",
       "      <td>NaN</td>\n",
       "      <td>NaN</td>\n",
       "      <td>NaN</td>\n",
       "      <td>NaN</td>\n",
       "      <td>60.0</td>\n",
       "    </tr>\n",
       "    <tr>\n",
       "      <th>37</th>\n",
       "      <td>10</td>\n",
       "      <td>1990000.0</td>\n",
       "      <td>45.8</td>\n",
       "      <td>2017-10-28T00:00:00</td>\n",
       "      <td>2</td>\n",
       "      <td>2.50</td>\n",
       "      <td>5.0</td>\n",
       "      <td>30.5</td>\n",
       "      <td>1</td>\n",
       "      <td>False</td>\n",
       "      <td>...</td>\n",
       "      <td>7.71188</td>\n",
       "      <td>0.0</td>\n",
       "      <td>поселок городского типа Красный Бор</td>\n",
       "      <td>NaN</td>\n",
       "      <td>NaN</td>\n",
       "      <td>NaN</td>\n",
       "      <td>NaN</td>\n",
       "      <td>NaN</td>\n",
       "      <td>NaN</td>\n",
       "      <td>196.0</td>\n",
       "    </tr>\n",
       "    <tr>\n",
       "      <th>38</th>\n",
       "      <td>10</td>\n",
       "      <td>3150000.0</td>\n",
       "      <td>40.0</td>\n",
       "      <td>2018-03-29T00:00:00</td>\n",
       "      <td>1</td>\n",
       "      <td>2.75</td>\n",
       "      <td>18.0</td>\n",
       "      <td>16.3</td>\n",
       "      <td>9</td>\n",
       "      <td>False</td>\n",
       "      <td>...</td>\n",
       "      <td>11.60000</td>\n",
       "      <td>0.0</td>\n",
       "      <td>посёлок Мурино</td>\n",
       "      <td>NaN</td>\n",
       "      <td>NaN</td>\n",
       "      <td>NaN</td>\n",
       "      <td>NaN</td>\n",
       "      <td>NaN</td>\n",
       "      <td>NaN</td>\n",
       "      <td>103.0</td>\n",
       "    </tr>\n",
       "    <tr>\n",
       "      <th>62</th>\n",
       "      <td>0</td>\n",
       "      <td>4800000.0</td>\n",
       "      <td>78.6</td>\n",
       "      <td>2017-09-17T00:00:00</td>\n",
       "      <td>3</td>\n",
       "      <td>2.80</td>\n",
       "      <td>9.0</td>\n",
       "      <td>48.8</td>\n",
       "      <td>5</td>\n",
       "      <td>False</td>\n",
       "      <td>...</td>\n",
       "      <td>11.90000</td>\n",
       "      <td>2.0</td>\n",
       "      <td>Сертолово</td>\n",
       "      <td>NaN</td>\n",
       "      <td>NaN</td>\n",
       "      <td>NaN</td>\n",
       "      <td>NaN</td>\n",
       "      <td>NaN</td>\n",
       "      <td>NaN</td>\n",
       "      <td>5.0</td>\n",
       "    </tr>\n",
       "    <tr>\n",
       "      <th>64</th>\n",
       "      <td>13</td>\n",
       "      <td>3100000.0</td>\n",
       "      <td>44.3</td>\n",
       "      <td>2017-11-07T00:00:00</td>\n",
       "      <td>2</td>\n",
       "      <td>2.50</td>\n",
       "      <td>5.0</td>\n",
       "      <td>29.0</td>\n",
       "      <td>5</td>\n",
       "      <td>False</td>\n",
       "      <td>...</td>\n",
       "      <td>5.30000</td>\n",
       "      <td>0.0</td>\n",
       "      <td>Гатчина</td>\n",
       "      <td>NaN</td>\n",
       "      <td>NaN</td>\n",
       "      <td>NaN</td>\n",
       "      <td>NaN</td>\n",
       "      <td>NaN</td>\n",
       "      <td>NaN</td>\n",
       "      <td>143.0</td>\n",
       "    </tr>\n",
       "  </tbody>\n",
       "</table>\n",
       "<p>5 rows × 22 columns</p>\n",
       "</div>"
      ],
      "text/plain": [
       "    total_images  last_price  total_area first_day_exposition  rooms  \\\n",
       "22            20   5000000.0        58.0  2017-04-24T00:00:00      2   \n",
       "37            10   1990000.0        45.8  2017-10-28T00:00:00      2   \n",
       "38            10   3150000.0        40.0  2018-03-29T00:00:00      1   \n",
       "62             0   4800000.0        78.6  2017-09-17T00:00:00      3   \n",
       "64            13   3100000.0        44.3  2017-11-07T00:00:00      2   \n",
       "\n",
       "    ceiling_height  floors_total  living_area  floor  is_apartment  ...  \\\n",
       "22            2.75          25.0         30.0     15         False  ...   \n",
       "37            2.50           5.0         30.5      1         False  ...   \n",
       "38            2.75          18.0         16.3      9         False  ...   \n",
       "62            2.80           9.0         48.8      5         False  ...   \n",
       "64            2.50           5.0         29.0      5         False  ...   \n",
       "\n",
       "    kitchen_area  balcony                        locality_name  \\\n",
       "22      11.00000      2.0                      деревня Кудрово   \n",
       "37       7.71188      0.0  поселок городского типа Красный Бор   \n",
       "38      11.60000      0.0                       посёлок Мурино   \n",
       "62      11.90000      2.0                            Сертолово   \n",
       "64       5.30000      0.0                              Гатчина   \n",
       "\n",
       "    airports_nearest cityCenters_nearest  parks_around3000  parks_nearest  \\\n",
       "22               NaN                 NaN               NaN            NaN   \n",
       "37               NaN                 NaN               NaN            NaN   \n",
       "38               NaN                 NaN               NaN            NaN   \n",
       "62               NaN                 NaN               NaN            NaN   \n",
       "64               NaN                 NaN               NaN            NaN   \n",
       "\n",
       "    ponds_around3000  ponds_nearest  days_exposition  \n",
       "22               NaN            NaN             60.0  \n",
       "37               NaN            NaN            196.0  \n",
       "38               NaN            NaN            103.0  \n",
       "62               NaN            NaN              5.0  \n",
       "64               NaN            NaN            143.0  \n",
       "\n",
       "[5 rows x 22 columns]"
      ]
     },
     "execution_count": 131,
     "metadata": {},
     "output_type": "execute_result"
    }
   ],
   "source": [
    "data[data['airports_nearest'].isna() & data['cityCenters_nearest'].isna() & \n",
    "     data['parks_around3000'].isna() & data['parks_nearest'].isna() &\n",
    "     data['ponds_around3000'].isna() & data['ponds_nearest'].isna()].head(5)"
   ]
  },
  {
   "cell_type": "markdown",
   "id": "bc3bccf7",
   "metadata": {},
   "source": [
    "В этом срезе можно наблюдать одновременное отсутствие значений во всех столбцах с картографическими данными. что еще раз подтверждает проблему. Запросим помощь разработчиков..."
   ]
  },
  {
   "cell_type": "markdown",
   "id": "c0d89b03",
   "metadata": {},
   "source": [
    "**Количество дней от публикации до снятия `days_exposition`** - вероятно, отсутствие значений в этом столбце объяснимо и говорит о том, что квартира еще не снята с публицации на момент выгрузки данных. Заполним пустоту значением \"еще продается\"."
   ]
  },
  {
   "cell_type": "code",
   "execution_count": 132,
   "id": "1757326b",
   "metadata": {},
   "outputs": [],
   "source": [
    "data['days_exposition'] = data['days_exposition'].fillna('еще продается')"
   ]
  },
  {
   "cell_type": "markdown",
   "id": "b1ef452b",
   "metadata": {},
   "source": [
    "В рамках нашего исследования пустые значения в остальных столбцах не окажут влияния на результаты, поэтому оставим их как есть."
   ]
  },
  {
   "cell_type": "markdown",
   "id": "1a58053c",
   "metadata": {},
   "source": [
    "#### Изменение типов данных"
   ]
  },
  {
   "cell_type": "markdown",
   "id": "aa74b96b",
   "metadata": {},
   "source": [
    " Данные в столбце `first_day_exposition` предполагают тип даты, исправим это. Это поможет нам корректно анализировать временной период публикации объявлений."
   ]
  },
  {
   "cell_type": "code",
   "execution_count": 133,
   "id": "321e47e2",
   "metadata": {},
   "outputs": [],
   "source": [
    " data['first_day_exposition'] = pd.to_datetime(data['first_day_exposition'], \n",
    "                                                 format = '%Y-%m-%dT%H:%M:%S')"
   ]
  },
  {
   "cell_type": "markdown",
   "id": "0b4979c4",
   "metadata": {},
   "source": [
    " Данные в столбце `is_apartment` предполагают булев тип, исправим и это."
   ]
  },
  {
   "cell_type": "code",
   "execution_count": 134,
   "id": "76bb792a",
   "metadata": {},
   "outputs": [],
   "source": [
    "data['is_apartment'] = data['is_apartment'].astype('bool')"
   ]
  },
  {
   "cell_type": "markdown",
   "id": "cd7e2fd8",
   "metadata": {},
   "source": [
    "Вещественный тип данных в столбцах `floors_total`, `balcony`, `days_exposition` не помешает работе с данными, поэтому оставим их как есть."
   ]
  },
  {
   "cell_type": "markdown",
   "id": "ff9308f4",
   "metadata": {},
   "source": [
    "#### Обработка дубликатов"
   ]
  },
  {
   "cell_type": "markdown",
   "id": "b17408c3",
   "metadata": {},
   "source": [
    "В таблице один текстовый столбец, это **название населенного пункта** `locality_name`. Проверим его на неявные дубликаты и обработаем их."
   ]
  },
  {
   "cell_type": "code",
   "execution_count": 135,
   "id": "646c514d",
   "metadata": {},
   "outputs": [
    {
     "data": {
      "text/plain": [
       "array(['Бокситогорск', 'Волосово', 'Волхов', 'Всеволожск', 'Выборг',\n",
       "       'Высоцк', 'Гатчина', 'Зеленогорск', 'Ивангород', 'Каменногорск',\n",
       "       'Кингисепп', 'Кириши', 'Кировск', 'Колпино', 'Коммунар',\n",
       "       'Красное Село', 'Кронштадт', 'Кудрово', 'Лодейное Поле',\n",
       "       'Ломоносов', 'Луга', 'Любань', 'Мурино', 'Никольское',\n",
       "       'Новая Ладога', 'Отрадное', 'Павловск', 'Петергоф', 'Пикалёво',\n",
       "       'Подпорожье', 'Приморск', 'Приозерск', 'Пушкин', 'Санкт-Петербург',\n",
       "       'Светогорск', 'Сертолово', 'Сестрорецк', 'Сланцы', 'Сосновый Бор',\n",
       "       'Сясьстрой', 'Тихвин', 'Тосно', 'Шлиссельбург',\n",
       "       'городской поселок Большая Ижора', 'городской поселок Янино-1',\n",
       "       'городской посёлок Будогощь', 'городской посёлок Виллози',\n",
       "       'городской посёлок Лесогорский', 'городской посёлок Мга',\n",
       "       'городской посёлок Назия', 'городской посёлок Новоселье',\n",
       "       'городской посёлок Павлово', 'городской посёлок Рощино',\n",
       "       'городской посёлок Советский', 'городской посёлок Фёдоровское',\n",
       "       'городской посёлок Янино-1', 'деревня Агалатово', 'деревня Батово',\n",
       "       'деревня Бегуницы', 'деревня Белогорка', 'деревня Большая Вруда',\n",
       "       'деревня Большая Пустомержа', 'деревня Большие Колпаны',\n",
       "       'деревня Бор', 'деревня Борисова Грива', 'деревня Ваганово',\n",
       "       'деревня Вартемяги', 'деревня Вахнова Кара', 'деревня Гарболово',\n",
       "       'деревня Глинка', 'деревня Горбунки', 'деревня Гостилицы',\n",
       "       'деревня Заневка', 'деревня Зимитицы', 'деревня Извара',\n",
       "       'деревня Калитино', 'деревня Кальтино', 'деревня Камышовка',\n",
       "       'деревня Каськово', 'деревня Келози', 'деревня Кипень',\n",
       "       'деревня Кисельня', 'деревня Колтуши', 'деревня Коркино',\n",
       "       'деревня Котлы', 'деревня Кривко', 'деревня Кудрово',\n",
       "       'деревня Кузьмолово', 'деревня Куттузи', 'деревня Лаголово',\n",
       "       'деревня Лампово', 'деревня Лесколово', 'деревня Лопухинка',\n",
       "       'деревня Малое Верево', 'деревня Малое Карлино',\n",
       "       'деревня Малые Колпаны', 'деревня Меньково', 'деревня Мины',\n",
       "       'деревня Мистолово', 'деревня Ненимяки', 'деревня Нижняя',\n",
       "       'деревня Низино', 'деревня Новое Девяткино', 'деревня Новолисино',\n",
       "       'деревня Нурма', 'деревня Оржицы', 'деревня Парицы',\n",
       "       'деревня Пеники', 'деревня Пудомяги', 'деревня Рабитицы',\n",
       "       'деревня Разбегаево', 'деревня Разметелево', 'деревня Рапполово',\n",
       "       'деревня Старая', 'деревня Старая Пустошь',\n",
       "       'деревня Старосиверская', 'деревня Суоранда', 'деревня Сяськелево',\n",
       "       'деревня Тарасово', 'деревня Тойворово', 'деревня Торосово',\n",
       "       'деревня Фалилеево', 'деревня Фёдоровское', 'деревня Хапо-Ое',\n",
       "       'деревня Хязельки', 'деревня Шпаньково', 'деревня Юкки',\n",
       "       'деревня Ялгино', 'деревня Яльгелево',\n",
       "       'коттеджный поселок Кивеннапа Север', 'коттеджный поселок Счастье',\n",
       "       'поселок Аннино', 'поселок Барышево', 'поселок Бугры',\n",
       "       'поселок Возрождение', 'поселок Войсковицы', 'поселок Гарболово',\n",
       "       'поселок Гладкое', 'поселок Глажево', 'поселок Глебычево',\n",
       "       'поселок Гончарово', 'поселок Громово', 'поселок Дружноселье',\n",
       "       'поселок Елизаветино', 'поселок Жилпосёлок', 'поселок Житково',\n",
       "       'поселок Заводской', 'поселок Запорожское', 'поселок Зимитицы',\n",
       "       'поселок Ильичёво', 'поселок Кингисеппский', 'поселок Кобралово',\n",
       "       'поселок Коммунары', 'поселок Коробицыно', 'поселок Котельский',\n",
       "       'поселок Красная Долина', 'поселок Лесное', 'поселок Лисий Нос',\n",
       "       'поселок Лукаши', 'поселок Любань', 'поселок Мельниково',\n",
       "       'поселок Мичуринское', 'поселок Молодцово', 'поселок Мурино',\n",
       "       'поселок Новый Свет', 'поселок Новый Учхоз', 'поселок Оредеж',\n",
       "       'поселок Пансионат Зелёный Бор', 'поселок Первомайское',\n",
       "       'поселок Перово', 'поселок Петровское', 'поселок Победа',\n",
       "       'поселок Поляны', 'поселок Почап', 'поселок Починок',\n",
       "       'поселок Пушное', 'поселок Рабитицы', 'поселок Романовка',\n",
       "       'поселок Ромашки', 'поселок Рябово', 'поселок Сельцо',\n",
       "       'поселок Семрино', 'поселок Серебрянский', 'поселок Совхозный',\n",
       "       'поселок Стеклянный', 'поселок Сумино', 'поселок Суходолье',\n",
       "       'поселок Тельмана', 'поселок Терволово', 'поселок Торковичи',\n",
       "       'поселок Углово', 'поселок Ушаки', 'поселок Цвелодубово',\n",
       "       'поселок городского типа Вырица',\n",
       "       'поселок городского типа Дружная Горка',\n",
       "       'поселок городского типа Дубровка',\n",
       "       'поселок городского типа Ефимовский',\n",
       "       'поселок городского типа Кондратьево',\n",
       "       'поселок городского типа Красный Бор',\n",
       "       'поселок городского типа Кузьмоловский',\n",
       "       'поселок городского типа Лебяжье',\n",
       "       'поселок городского типа Никольский',\n",
       "       'поселок городского типа Приладожский',\n",
       "       'поселок городского типа Рахья', 'поселок городского типа Рощино',\n",
       "       'поселок городского типа Синявино',\n",
       "       'поселок городского типа Советский',\n",
       "       'поселок городского типа имени Свердлова',\n",
       "       'поселок станции Вещево', 'поселок станции Приветнинское',\n",
       "       'посёлок Александровская', 'посёлок Аннино', 'посёлок Бугры',\n",
       "       'посёлок Возрождение', 'посёлок Войскорово', 'посёлок Гаврилово',\n",
       "       'посёлок Дзержинского', 'посёлок Жилгородок', 'посёлок Ильичёво',\n",
       "       'посёлок Кикерино', 'посёлок Кобралово', 'посёлок Коробицыно',\n",
       "       'посёлок Ленинское', 'посёлок Лисий Нос', 'посёлок Мельниково',\n",
       "       'посёлок Металлострой', 'посёлок Мичуринское',\n",
       "       'посёлок Молодёжное', 'посёлок Мурино', 'посёлок Новогорелово',\n",
       "       'посёлок Новый Свет', 'посёлок Парголово', 'посёлок Песочный',\n",
       "       'посёлок Петровское', 'посёлок Платформа 69-й километр',\n",
       "       'посёлок Плодовое', 'посёлок Победа', 'посёлок Поляны',\n",
       "       'посёлок Понтонный', 'посёлок Пригородный', 'посёлок Пудость',\n",
       "       'посёлок Репино', 'посёлок Ропша', 'посёлок Сапёрное',\n",
       "       'посёлок Сапёрный', 'посёлок Сосново', 'посёлок Старая Малукса',\n",
       "       'посёлок Стеклянный', 'посёлок Стрельна', 'посёлок Суйда',\n",
       "       'посёлок Сумино', 'посёлок Тельмана', 'посёлок Терволово',\n",
       "       'посёлок Торфяное', 'посёлок Шушары', 'посёлок Щеглово',\n",
       "       'посёлок городского типа Важины', 'посёлок городского типа Вырица',\n",
       "       'посёлок городского типа Красный Бор',\n",
       "       'посёлок городского типа Кузнечное',\n",
       "       'посёлок городского типа Кузьмоловский',\n",
       "       'посёлок городского типа Лебяжье', 'посёлок городского типа Мга',\n",
       "       'посёлок городского типа Павлово',\n",
       "       'посёлок городского типа Рощино', 'посёлок городского типа Рябово',\n",
       "       'посёлок городского типа Сиверский',\n",
       "       'посёлок городского типа Тайцы', 'посёлок городского типа Токсово',\n",
       "       'посёлок городского типа Ульяновка',\n",
       "       'посёлок городского типа Форносово',\n",
       "       'посёлок городского типа имени Морозова',\n",
       "       'посёлок городского типа имени Свердлова',\n",
       "       'посёлок при железнодорожной станции Вещево',\n",
       "       'посёлок при железнодорожной станции Приветнинское',\n",
       "       'посёлок станции Громово', 'садовое товарищество Новая Ропша',\n",
       "       'садовое товарищество Рахья', 'село Копорье', 'село Павлово',\n",
       "       'село Путилово', 'село Русско-Высоцкое'], dtype=object)"
      ]
     },
     "execution_count": 135,
     "metadata": {},
     "output_type": "execute_result"
    }
   ],
   "source": [
    "#посомтрим на уникальные значения в столбце\n",
    "data['locality_name'].sort_values().unique()"
   ]
  },
  {
   "cell_type": "code",
   "execution_count": 136,
   "id": "545b1c05",
   "metadata": {},
   "outputs": [
    {
     "data": {
      "text/plain": [
       "array(['Бокситогорск', 'Волосово', 'Волхов', 'Всеволожск', 'Выборг',\n",
       "       'Высоцк', 'Гатчина', 'Зеленогорск', 'Ивангород', 'Каменногорск',\n",
       "       'Кингисепп', 'Кириши', 'Кировск', 'Колпино', 'Коммунар',\n",
       "       'Красное Село', 'Кронштадт', 'Кудрово', 'Лодейное Поле',\n",
       "       'Ломоносов', 'Луга', 'Любань', 'Мурино', 'Никольское',\n",
       "       'Новая Ладога', 'Отрадное', 'Павловск', 'Петергоф', 'Пикалёво',\n",
       "       'Подпорожье', 'Приморск', 'Приозерск', 'Пушкин', 'Санкт-Петербург',\n",
       "       'Светогорск', 'Сертолово', 'Сестрорецк', 'Сланцы', 'Сосновый Бор',\n",
       "       'Сясьстрой', 'Тихвин', 'Тосно', 'Шлиссельбург',\n",
       "       'деревня Агалатово', 'деревня Батово', 'деревня Бегуницы',\n",
       "       'деревня Белогорка', 'деревня Большая Вруда',\n",
       "       'деревня Большая Пустомержа', 'деревня Большие Колпаны',\n",
       "       'деревня Бор', 'деревня Борисова Грива', 'деревня Ваганово',\n",
       "       'деревня Вартемяги', 'деревня Вахнова Кара', 'деревня Гарболово',\n",
       "       'деревня Глинка', 'деревня Горбунки', 'деревня Гостилицы',\n",
       "       'деревня Заневка', 'деревня Зимитицы', 'деревня Извара',\n",
       "       'деревня Калитино', 'деревня Кальтино', 'деревня Камышовка',\n",
       "       'деревня Каськово', 'деревня Келози', 'деревня Кипень',\n",
       "       'деревня Кисельня', 'деревня Колтуши', 'деревня Коркино',\n",
       "       'деревня Котлы', 'деревня Кривко', 'деревня Кудрово',\n",
       "       'деревня Кузьмолово', 'деревня Куттузи', 'деревня Лаголово',\n",
       "       'деревня Лампово', 'деревня Лесколово', 'деревня Лопухинка',\n",
       "       'деревня Малое Верево', 'деревня Малое Карлино',\n",
       "       'деревня Малые Колпаны', 'деревня Меньково', 'деревня Мины',\n",
       "       'деревня Мистолово', 'деревня Ненимяки', 'деревня Нижняя',\n",
       "       'деревня Низино', 'деревня Новое Девяткино', 'деревня Новолисино',\n",
       "       'деревня Нурма', 'деревня Оржицы', 'деревня Парицы',\n",
       "       'деревня Пеники', 'деревня Пудомяги', 'деревня Рабитицы',\n",
       "       'деревня Разбегаево', 'деревня Разметелево', 'деревня Рапполово',\n",
       "       'деревня Старая', 'деревня Старая Пустошь',\n",
       "       'деревня Старосиверская', 'деревня Суоранда', 'деревня Сяськелево',\n",
       "       'деревня Тарасово', 'деревня Тойворово', 'деревня Торосово',\n",
       "       'деревня Фалилеево', 'деревня Фёдоровское', 'деревня Хапо-Ое',\n",
       "       'деревня Хязельки', 'деревня Шпаньково', 'деревня Юкки',\n",
       "       'деревня Ялгино', 'деревня Яльгелево',\n",
       "       'коттеджный поселок Кивеннапа Север', 'коттеджный поселок Счастье',\n",
       "       'поселок Александровская', 'поселок Аннино', 'поселок Барышево',\n",
       "       'поселок Большая Ижора', 'поселок Бугры', 'поселок Будогощь',\n",
       "       'поселок Важины', 'поселок Виллози', 'поселок Возрождение',\n",
       "       'поселок Войсковицы', 'поселок Войскорово', 'поселок Вырица',\n",
       "       'поселок Гаврилово', 'поселок Гарболово', 'поселок Гладкое',\n",
       "       'поселок Глажево', 'поселок Глебычево', 'поселок Гончарово',\n",
       "       'поселок Громово', 'поселок Дзержинского', 'поселок Дружная Горка',\n",
       "       'поселок Дружноселье', 'поселок Дубровка', 'поселок Елизаветино',\n",
       "       'поселок Ефимовский', 'поселок Жилгородок', 'поселок Жилпоселок',\n",
       "       'поселок Житково', 'поселок Заводской', 'поселок Запорожское',\n",
       "       'поселок Зимитицы', 'поселок Ильичёво', 'поселок Кикерино',\n",
       "       'поселок Кингисеппский', 'поселок Кобралово', 'поселок Коммунары',\n",
       "       'поселок Кондратьево', 'поселок Коробицыно', 'поселок Котельский',\n",
       "       'поселок Красная Долина', 'поселок Красный Бор',\n",
       "       'поселок Кузнечное', 'поселок Кузьмоловский', 'поселок Лебяжье',\n",
       "       'поселок Ленинское', 'поселок Лесное', 'поселок Лесогорский',\n",
       "       'поселок Лисий Нос', 'поселок Лукаши', 'поселок Любань',\n",
       "       'поселок Мга', 'поселок Мельниково', 'поселок Металлострой',\n",
       "       'поселок Мичуринское', 'поселок Молодцово', 'поселок Молодёжное',\n",
       "       'поселок Мурино', 'поселок Назия', 'поселок Никольский',\n",
       "       'поселок Новогорелово', 'поселок Новоселье', 'поселок Новый Свет',\n",
       "       'поселок Новый Учхоз', 'поселок Оредеж', 'поселок Павлово',\n",
       "       'поселок Пансионат Зелёный Бор', 'поселок Парголово',\n",
       "       'поселок Первомайское', 'поселок Перово', 'поселок Песочный',\n",
       "       'поселок Петровское', 'поселок Платформа 69-й километр',\n",
       "       'поселок Плодовое', 'поселок Победа', 'поселок Поляны',\n",
       "       'поселок Понтонный', 'поселок Почап', 'поселок Починок',\n",
       "       'поселок Пригородный', 'поселок Приладожский', 'поселок Пудость',\n",
       "       'поселок Пушное', 'поселок Рабитицы', 'поселок Рахья',\n",
       "       'поселок Репино', 'поселок Романовка', 'поселок Ромашки',\n",
       "       'поселок Ропша', 'поселок Рощино', 'поселок Рябово',\n",
       "       'поселок Сапёрное', 'поселок Сапёрный', 'поселок Сельцо',\n",
       "       'поселок Семрино', 'поселок Серебрянский', 'поселок Сиверский',\n",
       "       'поселок Синявино', 'поселок Советский', 'поселок Совхозный',\n",
       "       'поселок Сосново', 'поселок Старая Малукса', 'поселок Стеклянный',\n",
       "       'поселок Стрельна', 'поселок Суйда', 'поселок Сумино',\n",
       "       'поселок Суходолье', 'поселок Тайцы', 'поселок Тельмана',\n",
       "       'поселок Терволово', 'поселок Токсово', 'поселок Торковичи',\n",
       "       'поселок Торфяное', 'поселок Углово', 'поселок Ульяновка',\n",
       "       'поселок Ушаки', 'поселок Форносово', 'поселок Фёдоровское',\n",
       "       'поселок Цвелодубово', 'поселок Шушары', 'поселок Щеглово',\n",
       "       'поселок Янино-1', 'поселок имени Морозова',\n",
       "       'поселок имени Свердлова',\n",
       "       'поселок при железнодорожной станции Вещево',\n",
       "       'поселок при железнодорожной станции Приветнинское',\n",
       "       'поселок станции Вещево', 'поселок станции Громово',\n",
       "       'поселок станции Приветнинское',\n",
       "       'садовое товарищество Новая Ропша', 'садовое товарищество Рахья',\n",
       "       'село Копорье', 'село Павлово', 'село Путилово',\n",
       "       'село Русско-Высоцкое'], dtype=object)"
      ]
     },
     "execution_count": 136,
     "metadata": {},
     "output_type": "execute_result"
    }
   ],
   "source": [
    "#определяем функцию, которая заменит неявные дубликаты в обозначении населенных пунктов\n",
    "def location_clear(loc):\n",
    "    return (str(loc).replace('посёлок','поселок')\n",
    "            .replace('поселок городского типа','поселок')\n",
    "            .replace('городской поселок','поселок')\n",
    "           )\n",
    "#применим функцию к столбцу с названием населенного пункта и запишем их в новом столбце\n",
    "data['locality_clear'] = data['locality_name'].apply(location_clear)\n",
    "#посмотрим на уникальные значения в столбце после замены\n",
    "data['locality_clear'].sort_values().unique()"
   ]
  },
  {
   "cell_type": "markdown",
   "id": "cbe7a541",
   "metadata": {},
   "source": [
    "Проверим таблицу на явные дубликаты. Если они есть, то удалим их."
   ]
  },
  {
   "cell_type": "code",
   "execution_count": 137,
   "id": "3ec83238",
   "metadata": {},
   "outputs": [
    {
     "data": {
      "text/plain": [
       "0"
      ]
     },
     "execution_count": 137,
     "metadata": {},
     "output_type": "execute_result"
    }
   ],
   "source": [
    "data.duplicated().sum()"
   ]
  },
  {
   "cell_type": "markdown",
   "id": "dfe4f674",
   "metadata": {},
   "source": [
    "#### Обработка аномалий и выбросов"
   ]
  },
  {
   "cell_type": "markdown",
   "id": "4dd876e2",
   "metadata": {},
   "source": [
    "В первом разделе анализа мы представили гистограммы распределения всех числовых столбцов, по которым в общем виде уже можно получить представление о наличии аномалий и выбросов. Постараемся обработать аномалии таким образом, чтобы они не повлияли на результаты исследования.\n",
    "\n",
    "Напомним, среди значений **высоты потолков** встречались аномальные, но на этапе обработки пропусков эта проблема была решена."
   ]
  },
  {
   "cell_type": "markdown",
   "id": "4cbf7d8f",
   "metadata": {},
   "source": [
    "**Этажей всего** - посмотрим на распределение значений в этом столбце. Согласно данных аналитики недвижимости СПб самый высокий жилой дом насчитывает 37 этажей. Судя по датам публикации апартаменты в Лахта-центре в расчет не берем. Поэтому квартиры в домах выше 37 этажей отбросим. Все остальные значения имеют право на существование."
   ]
  },
  {
   "cell_type": "code",
   "execution_count": 138,
   "id": "2062b8d8",
   "metadata": {},
   "outputs": [],
   "source": [
    "data = data[data['floors_total'] <= 37]"
   ]
  },
  {
   "cell_type": "code",
   "execution_count": 139,
   "id": "2ffe5609",
   "metadata": {},
   "outputs": [
    {
     "data": {
      "text/plain": [
       "count    14405.000000\n",
       "mean         5.631239\n",
       "std          4.623848\n",
       "min          1.000000\n",
       "25%          2.000000\n",
       "50%          4.000000\n",
       "75%          7.000000\n",
       "max         30.000000\n",
       "Name: floor, dtype: float64"
      ]
     },
     "execution_count": 139,
     "metadata": {},
     "output_type": "execute_result"
    }
   ],
   "source": [
    "#сразу вслед за этажностью дома посмотрим на этаж продаваемых квартир\n",
    "data['floor'].describe()"
   ]
  },
  {
   "cell_type": "markdown",
   "id": "e93f3d8d",
   "metadata": {},
   "source": [
    "Ничего подозрительного в этажах квартир нет, ну хоть здесь порядок."
   ]
  },
  {
   "cell_type": "markdown",
   "id": "232c7833",
   "metadata": {},
   "source": [
    "Оценим значения **числа балконов** в таблице."
   ]
  },
  {
   "cell_type": "code",
   "execution_count": 140,
   "id": "41e3c4df",
   "metadata": {},
   "outputs": [
    {
     "data": {
      "text/plain": [
       "0.0    8620\n",
       "1.0    2821\n",
       "2.0    2524\n",
       "5.0     227\n",
       "4.0     141\n",
       "3.0      72\n",
       "Name: balcony, dtype: int64"
      ]
     },
     "execution_count": 140,
     "metadata": {},
     "output_type": "execute_result"
    }
   ],
   "source": [
    "# Только у половины объектов недвижимости было указано количество балконов\n",
    "# мы их ранее заполнили, посмотрим детальней на значения в этом столбце\n",
    "data['balcony'].value_counts()"
   ]
  },
  {
   "cell_type": "markdown",
   "id": "b2a03cfd",
   "metadata": {},
   "source": [
    "Хотя кол-во балконов мы не предполагаем использовать в поиске зависимостей достоверность значений в этом столбце тоже важный результат."
   ]
  },
  {
   "cell_type": "markdown",
   "id": "26dc4365",
   "metadata": {},
   "source": [
    "Рассмотрим значения **числа комнат** на наличие аномалий."
   ]
  },
  {
   "cell_type": "code",
   "execution_count": 141,
   "id": "85659baa",
   "metadata": {},
   "outputs": [
    {
     "name": "stdout",
     "output_type": "stream",
     "text": [
      "[0, 1, 2, 3, 4, 5, 6, 7, 8, 9, 10, 11, 12, 14, 15, 16]\n"
     ]
    }
   ],
   "source": [
    "print(sorted(data['rooms'].unique()))"
   ]
  },
  {
   "cell_type": "code",
   "execution_count": 142,
   "id": "ea9eae4a",
   "metadata": {},
   "outputs": [
    {
     "name": "stdout",
     "output_type": "stream",
     "text": [
      "Всего квартир с числом комнат 0: 82\n",
      "Из них квартир со свободной планировкой или студии: 82\n"
     ]
    }
   ],
   "source": [
    "#Для того, чтобы проверить причины почему у некоторых квартир есть 0 комнат\n",
    "#проверим не являются ли эти объекты студиями или квартирами со свободной планировкой\n",
    "print('Всего квартир с числом комнат 0:', data[data['rooms'] == 0]['total_area'].count())\n",
    "print('Из них квартир со свободной планировкой или студии:', \n",
    "      data[(data['rooms'] == 0) & (data['studio'] | data['open_plan'])]['total_area'].count())"
   ]
  },
  {
   "cell_type": "markdown",
   "id": "f9f33a0d",
   "metadata": {},
   "source": [
    "Все квартиры с числом комнат 0 являются студиями или квартирами со свободной планировкой.\n",
    "\n",
    "Согласно аналитики рынка недвижимости самая многокомнатная квартира в Санкт-Петербурге имеет 20 комнат. Поэтому все уникальные значения столбца не вызывают сомнений."
   ]
  },
  {
   "cell_type": "markdown",
   "id": "dbe58908",
   "metadata": {},
   "source": [
    "**Площадь кухни** имеет следующее распределение значений:"
   ]
  },
  {
   "cell_type": "code",
   "execution_count": 143,
   "id": "117576b9",
   "metadata": {},
   "outputs": [
    {
     "name": "stdout",
     "output_type": "stream",
     "text": [
      "count    14405.000000\n",
      "mean        10.551739\n",
      "std          6.242481\n",
      "min          1.300000\n",
      "25%          7.000000\n",
      "50%          9.000000\n",
      "75%         12.000000\n",
      "max        112.000000\n",
      "Name: kitchen_area, dtype: float64\n"
     ]
    },
    {
     "data": {
      "text/html": [
       "<div>\n",
       "<style scoped>\n",
       "    .dataframe tbody tr th:only-of-type {\n",
       "        vertical-align: middle;\n",
       "    }\n",
       "\n",
       "    .dataframe tbody tr th {\n",
       "        vertical-align: top;\n",
       "    }\n",
       "\n",
       "    .dataframe thead th {\n",
       "        text-align: right;\n",
       "    }\n",
       "</style>\n",
       "<table border=\"1\" class=\"dataframe\">\n",
       "  <thead>\n",
       "    <tr style=\"text-align: right;\">\n",
       "      <th></th>\n",
       "      <th>total_images</th>\n",
       "      <th>last_price</th>\n",
       "      <th>total_area</th>\n",
       "      <th>first_day_exposition</th>\n",
       "      <th>rooms</th>\n",
       "      <th>ceiling_height</th>\n",
       "      <th>floors_total</th>\n",
       "      <th>living_area</th>\n",
       "      <th>floor</th>\n",
       "      <th>is_apartment</th>\n",
       "      <th>...</th>\n",
       "      <th>balcony</th>\n",
       "      <th>locality_name</th>\n",
       "      <th>airports_nearest</th>\n",
       "      <th>cityCenters_nearest</th>\n",
       "      <th>parks_around3000</th>\n",
       "      <th>parks_nearest</th>\n",
       "      <th>ponds_around3000</th>\n",
       "      <th>ponds_nearest</th>\n",
       "      <th>days_exposition</th>\n",
       "      <th>locality_clear</th>\n",
       "    </tr>\n",
       "  </thead>\n",
       "  <tbody>\n",
       "    <tr>\n",
       "      <th>76</th>\n",
       "      <td>12</td>\n",
       "      <td>2800000.0</td>\n",
       "      <td>55.1</td>\n",
       "      <td>2016-05-14</td>\n",
       "      <td>3</td>\n",
       "      <td>2.60</td>\n",
       "      <td>5.0</td>\n",
       "      <td>38.4</td>\n",
       "      <td>1</td>\n",
       "      <td>False</td>\n",
       "      <td>...</td>\n",
       "      <td>0.0</td>\n",
       "      <td>Кировск</td>\n",
       "      <td>NaN</td>\n",
       "      <td>NaN</td>\n",
       "      <td>NaN</td>\n",
       "      <td>NaN</td>\n",
       "      <td>NaN</td>\n",
       "      <td>NaN</td>\n",
       "      <td>606.0</td>\n",
       "      <td>Кировск</td>\n",
       "    </tr>\n",
       "    <tr>\n",
       "      <th>422</th>\n",
       "      <td>8</td>\n",
       "      <td>1700000.0</td>\n",
       "      <td>55.2</td>\n",
       "      <td>2018-03-24</td>\n",
       "      <td>3</td>\n",
       "      <td>2.50</td>\n",
       "      <td>5.0</td>\n",
       "      <td>38.5</td>\n",
       "      <td>5</td>\n",
       "      <td>False</td>\n",
       "      <td>...</td>\n",
       "      <td>0.0</td>\n",
       "      <td>Кириши</td>\n",
       "      <td>NaN</td>\n",
       "      <td>NaN</td>\n",
       "      <td>NaN</td>\n",
       "      <td>NaN</td>\n",
       "      <td>NaN</td>\n",
       "      <td>NaN</td>\n",
       "      <td>еще продается</td>\n",
       "      <td>Кириши</td>\n",
       "    </tr>\n",
       "    <tr>\n",
       "      <th>546</th>\n",
       "      <td>0</td>\n",
       "      <td>6000001.0</td>\n",
       "      <td>25.0</td>\n",
       "      <td>2018-11-16</td>\n",
       "      <td>1</td>\n",
       "      <td>3.00</td>\n",
       "      <td>5.0</td>\n",
       "      <td>17.8</td>\n",
       "      <td>5</td>\n",
       "      <td>False</td>\n",
       "      <td>...</td>\n",
       "      <td>0.0</td>\n",
       "      <td>Санкт-Петербург</td>\n",
       "      <td>25169.0</td>\n",
       "      <td>3871.0</td>\n",
       "      <td>1.0</td>\n",
       "      <td>207.0</td>\n",
       "      <td>1.0</td>\n",
       "      <td>776.0</td>\n",
       "      <td>17.0</td>\n",
       "      <td>Санкт-Петербург</td>\n",
       "    </tr>\n",
       "    <tr>\n",
       "      <th>697</th>\n",
       "      <td>12</td>\n",
       "      <td>2500000.0</td>\n",
       "      <td>24.1</td>\n",
       "      <td>2017-12-01</td>\n",
       "      <td>0</td>\n",
       "      <td>2.75</td>\n",
       "      <td>25.0</td>\n",
       "      <td>17.5</td>\n",
       "      <td>21</td>\n",
       "      <td>False</td>\n",
       "      <td>...</td>\n",
       "      <td>0.0</td>\n",
       "      <td>деревня Кудрово</td>\n",
       "      <td>NaN</td>\n",
       "      <td>NaN</td>\n",
       "      <td>NaN</td>\n",
       "      <td>NaN</td>\n",
       "      <td>NaN</td>\n",
       "      <td>NaN</td>\n",
       "      <td>201.0</td>\n",
       "      <td>деревня Кудрово</td>\n",
       "    </tr>\n",
       "    <tr>\n",
       "      <th>716</th>\n",
       "      <td>5</td>\n",
       "      <td>1500000.0</td>\n",
       "      <td>17.0</td>\n",
       "      <td>2017-06-07</td>\n",
       "      <td>0</td>\n",
       "      <td>2.70</td>\n",
       "      <td>9.0</td>\n",
       "      <td>12.0</td>\n",
       "      <td>1</td>\n",
       "      <td>False</td>\n",
       "      <td>...</td>\n",
       "      <td>0.0</td>\n",
       "      <td>посёлок Шушары</td>\n",
       "      <td>18654.0</td>\n",
       "      <td>29846.0</td>\n",
       "      <td>0.0</td>\n",
       "      <td>NaN</td>\n",
       "      <td>0.0</td>\n",
       "      <td>NaN</td>\n",
       "      <td>40.0</td>\n",
       "      <td>поселок Шушары</td>\n",
       "    </tr>\n",
       "  </tbody>\n",
       "</table>\n",
       "<p>5 rows × 23 columns</p>\n",
       "</div>"
      ],
      "text/plain": [
       "     total_images  last_price  total_area first_day_exposition  rooms  \\\n",
       "76             12   2800000.0        55.1           2016-05-14      3   \n",
       "422             8   1700000.0        55.2           2018-03-24      3   \n",
       "546             0   6000001.0        25.0           2018-11-16      1   \n",
       "697            12   2500000.0        24.1           2017-12-01      0   \n",
       "716             5   1500000.0        17.0           2017-06-07      0   \n",
       "\n",
       "     ceiling_height  floors_total  living_area  floor  is_apartment  ...  \\\n",
       "76             2.60           5.0         38.4      1         False  ...   \n",
       "422            2.50           5.0         38.5      5         False  ...   \n",
       "546            3.00           5.0         17.8      5         False  ...   \n",
       "697            2.75          25.0         17.5     21         False  ...   \n",
       "716            2.70           9.0         12.0      1         False  ...   \n",
       "\n",
       "     balcony    locality_name  airports_nearest  cityCenters_nearest  \\\n",
       "76       0.0          Кировск               NaN                  NaN   \n",
       "422      0.0           Кириши               NaN                  NaN   \n",
       "546      0.0  Санкт-Петербург           25169.0               3871.0   \n",
       "697      0.0  деревня Кудрово               NaN                  NaN   \n",
       "716      0.0   посёлок Шушары           18654.0              29846.0   \n",
       "\n",
       "    parks_around3000  parks_nearest  ponds_around3000  ponds_nearest  \\\n",
       "76               NaN            NaN               NaN            NaN   \n",
       "422              NaN            NaN               NaN            NaN   \n",
       "546              1.0          207.0               1.0          776.0   \n",
       "697              NaN            NaN               NaN            NaN   \n",
       "716              0.0            NaN               0.0            NaN   \n",
       "\n",
       "     days_exposition   locality_clear  \n",
       "76             606.0          Кировск  \n",
       "422    еще продается           Кириши  \n",
       "546             17.0  Санкт-Петербург  \n",
       "697            201.0  деревня Кудрово  \n",
       "716             40.0   поселок Шушары  \n",
       "\n",
       "[5 rows x 23 columns]"
      ]
     },
     "execution_count": 143,
     "metadata": {},
     "output_type": "execute_result"
    }
   ],
   "source": [
    "#смотрим статистику по столбцу\n",
    "print(data['kitchen_area'].describe())\n",
    "#а вот и уникальные объекты\n",
    "data[data['kitchen_area']<5].head(5)"
   ]
  },
  {
   "cell_type": "markdown",
   "id": "5d7280b6",
   "metadata": {},
   "source": [
    "В малогабаритных квартирах вполне могут быть минимальные значения площади кухни-ниши и по современным строительным нормам они не могут быть менее 5 кв.м. Отбросим значения менее 5.\n",
    "\n",
    "С другой стороны в элитных объектах, которые без приувеличения можно отнести к уникальным, встречаются выдающиеся по площади кухни как в нашем наборе данных. Оставим большие значения как есть."
   ]
  },
  {
   "cell_type": "code",
   "execution_count": 144,
   "id": "50c486bb",
   "metadata": {},
   "outputs": [],
   "source": [
    "data = data[data['kitchen_area']>=5]"
   ]
  },
  {
   "cell_type": "markdown",
   "id": "0de9da20",
   "metadata": {},
   "source": [
    "**Жилая площадь** - согласно правил она не може быть менее 8 кв.м. Разумным будет отбросить строки со значением менее 8."
   ]
  },
  {
   "cell_type": "code",
   "execution_count": 145,
   "id": "2d494c0b",
   "metadata": {},
   "outputs": [],
   "source": [
    "data = data[data['living_area']>=8]"
   ]
  },
  {
   "cell_type": "code",
   "execution_count": 146,
   "id": "dbd4b78e",
   "metadata": {},
   "outputs": [
    {
     "data": {
      "text/html": [
       "<div>\n",
       "<style scoped>\n",
       "    .dataframe tbody tr th:only-of-type {\n",
       "        vertical-align: middle;\n",
       "    }\n",
       "\n",
       "    .dataframe tbody tr th {\n",
       "        vertical-align: top;\n",
       "    }\n",
       "\n",
       "    .dataframe thead th {\n",
       "        text-align: right;\n",
       "    }\n",
       "</style>\n",
       "<table border=\"1\" class=\"dataframe\">\n",
       "  <thead>\n",
       "    <tr style=\"text-align: right;\">\n",
       "      <th></th>\n",
       "      <th>total_images</th>\n",
       "      <th>last_price</th>\n",
       "      <th>total_area</th>\n",
       "      <th>first_day_exposition</th>\n",
       "      <th>rooms</th>\n",
       "      <th>ceiling_height</th>\n",
       "      <th>floors_total</th>\n",
       "      <th>living_area</th>\n",
       "      <th>floor</th>\n",
       "      <th>is_apartment</th>\n",
       "      <th>...</th>\n",
       "      <th>balcony</th>\n",
       "      <th>locality_name</th>\n",
       "      <th>airports_nearest</th>\n",
       "      <th>cityCenters_nearest</th>\n",
       "      <th>parks_around3000</th>\n",
       "      <th>parks_nearest</th>\n",
       "      <th>ponds_around3000</th>\n",
       "      <th>ponds_nearest</th>\n",
       "      <th>days_exposition</th>\n",
       "      <th>locality_clear</th>\n",
       "    </tr>\n",
       "  </thead>\n",
       "  <tbody>\n",
       "    <tr>\n",
       "      <th>5358</th>\n",
       "      <td>20</td>\n",
       "      <td>65000000.0</td>\n",
       "      <td>590.0</td>\n",
       "      <td>2019-02-14</td>\n",
       "      <td>15</td>\n",
       "      <td>3.5</td>\n",
       "      <td>6.0</td>\n",
       "      <td>409.0</td>\n",
       "      <td>3</td>\n",
       "      <td>False</td>\n",
       "      <td>...</td>\n",
       "      <td>0.0</td>\n",
       "      <td>Санкт-Петербург</td>\n",
       "      <td>24447.0</td>\n",
       "      <td>4666.0</td>\n",
       "      <td>1.0</td>\n",
       "      <td>767.0</td>\n",
       "      <td>0.0</td>\n",
       "      <td>NaN</td>\n",
       "      <td>14.0</td>\n",
       "      <td>Санкт-Петербург</td>\n",
       "    </tr>\n",
       "    <tr>\n",
       "      <th>19540</th>\n",
       "      <td>8</td>\n",
       "      <td>420000000.0</td>\n",
       "      <td>900.0</td>\n",
       "      <td>2017-12-06</td>\n",
       "      <td>12</td>\n",
       "      <td>2.8</td>\n",
       "      <td>25.0</td>\n",
       "      <td>409.7</td>\n",
       "      <td>25</td>\n",
       "      <td>False</td>\n",
       "      <td>...</td>\n",
       "      <td>0.0</td>\n",
       "      <td>Санкт-Петербург</td>\n",
       "      <td>30706.0</td>\n",
       "      <td>7877.0</td>\n",
       "      <td>0.0</td>\n",
       "      <td>NaN</td>\n",
       "      <td>2.0</td>\n",
       "      <td>318.0</td>\n",
       "      <td>106.0</td>\n",
       "      <td>Санкт-Петербург</td>\n",
       "    </tr>\n",
       "  </tbody>\n",
       "</table>\n",
       "<p>2 rows × 23 columns</p>\n",
       "</div>"
      ],
      "text/plain": [
       "       total_images   last_price  total_area first_day_exposition  rooms  \\\n",
       "5358             20   65000000.0       590.0           2019-02-14     15   \n",
       "19540             8  420000000.0       900.0           2017-12-06     12   \n",
       "\n",
       "       ceiling_height  floors_total  living_area  floor  is_apartment  ...  \\\n",
       "5358              3.5           6.0        409.0      3         False  ...   \n",
       "19540             2.8          25.0        409.7     25         False  ...   \n",
       "\n",
       "       balcony    locality_name  airports_nearest  cityCenters_nearest  \\\n",
       "5358       0.0  Санкт-Петербург           24447.0               4666.0   \n",
       "19540      0.0  Санкт-Петербург           30706.0               7877.0   \n",
       "\n",
       "      parks_around3000  parks_nearest  ponds_around3000  ponds_nearest  \\\n",
       "5358               1.0          767.0               0.0            NaN   \n",
       "19540              0.0            NaN               2.0          318.0   \n",
       "\n",
       "       days_exposition   locality_clear  \n",
       "5358              14.0  Санкт-Петербург  \n",
       "19540            106.0  Санкт-Петербург  \n",
       "\n",
       "[2 rows x 23 columns]"
      ]
     },
     "execution_count": 146,
     "metadata": {},
     "output_type": "execute_result"
    }
   ],
   "source": [
    "#посмотрим на квартиры с очень большой жилой площадью\n",
    "data[data['living_area']>=400]"
   ]
  },
  {
   "cell_type": "markdown",
   "id": "00246927",
   "metadata": {},
   "source": [
    "Верхняя граница, учитывая наличие очень больших квартир в наборе, хоть и вызывает удивление, но допустима. Оставляем эти значения."
   ]
  },
  {
   "cell_type": "markdown",
   "id": "e8a223b9",
   "metadata": {},
   "source": [
    "Посмотрим нет ли аномалий в числе дней с момента размещения объявления до снятия с продажи."
   ]
  },
  {
   "cell_type": "code",
   "execution_count": 147,
   "id": "862ba4dd",
   "metadata": {},
   "outputs": [
    {
     "name": "stdout",
     "output_type": "stream",
     "text": [
      "Минимальное количество дней до снятия объявления: 1.0\n",
      "Максимальное количество дней до снятия объявления: 1580.0\n"
     ]
    }
   ],
   "source": [
    "#оценим границы числа дней размещения объявлений\n",
    "print('Минимальное количество дней до снятия объявления:', \n",
    "      data[data['days_exposition']!='еще продается']['days_exposition'].min())\n",
    "print('Максимальное количество дней до снятия объявления:', \n",
    "data[data['days_exposition']!='еще продается']['days_exposition'].max())"
   ]
  },
  {
   "cell_type": "markdown",
   "id": "fff61dbe",
   "metadata": {},
   "source": [
    "**Количество дней от публикации до снятия** объявлений не вызывает подозрений."
   ]
  },
  {
   "cell_type": "code",
   "execution_count": 148,
   "id": "8b69186f",
   "metadata": {},
   "outputs": [
    {
     "data": {
      "text/html": [
       "<div>\n",
       "<style scoped>\n",
       "    .dataframe tbody tr th:only-of-type {\n",
       "        vertical-align: middle;\n",
       "    }\n",
       "\n",
       "    .dataframe tbody tr th {\n",
       "        vertical-align: top;\n",
       "    }\n",
       "\n",
       "    .dataframe thead th {\n",
       "        text-align: right;\n",
       "    }\n",
       "</style>\n",
       "<table border=\"1\" class=\"dataframe\">\n",
       "  <thead>\n",
       "    <tr style=\"text-align: right;\">\n",
       "      <th></th>\n",
       "      <th>total_images</th>\n",
       "      <th>last_price</th>\n",
       "      <th>total_area</th>\n",
       "      <th>first_day_exposition</th>\n",
       "      <th>rooms</th>\n",
       "      <th>ceiling_height</th>\n",
       "      <th>floors_total</th>\n",
       "      <th>living_area</th>\n",
       "      <th>floor</th>\n",
       "      <th>is_apartment</th>\n",
       "      <th>...</th>\n",
       "      <th>balcony</th>\n",
       "      <th>locality_name</th>\n",
       "      <th>airports_nearest</th>\n",
       "      <th>cityCenters_nearest</th>\n",
       "      <th>parks_around3000</th>\n",
       "      <th>parks_nearest</th>\n",
       "      <th>ponds_around3000</th>\n",
       "      <th>ponds_nearest</th>\n",
       "      <th>days_exposition</th>\n",
       "      <th>locality_clear</th>\n",
       "    </tr>\n",
       "  </thead>\n",
       "  <tbody>\n",
       "    <tr>\n",
       "      <th>8793</th>\n",
       "      <td>7</td>\n",
       "      <td>12190.0</td>\n",
       "      <td>109.0</td>\n",
       "      <td>2019-03-20</td>\n",
       "      <td>2</td>\n",
       "      <td>2.75</td>\n",
       "      <td>25.0</td>\n",
       "      <td>32.0</td>\n",
       "      <td>25</td>\n",
       "      <td>False</td>\n",
       "      <td>...</td>\n",
       "      <td>0.0</td>\n",
       "      <td>Санкт-Петербург</td>\n",
       "      <td>36421.0</td>\n",
       "      <td>9176.0</td>\n",
       "      <td>1.0</td>\n",
       "      <td>805.0</td>\n",
       "      <td>0.0</td>\n",
       "      <td>NaN</td>\n",
       "      <td>8.0</td>\n",
       "      <td>Санкт-Петербург</td>\n",
       "    </tr>\n",
       "    <tr>\n",
       "      <th>10782</th>\n",
       "      <td>3</td>\n",
       "      <td>490000.0</td>\n",
       "      <td>29.1</td>\n",
       "      <td>2016-05-05</td>\n",
       "      <td>1</td>\n",
       "      <td>2.50</td>\n",
       "      <td>5.0</td>\n",
       "      <td>17.0</td>\n",
       "      <td>5</td>\n",
       "      <td>False</td>\n",
       "      <td>...</td>\n",
       "      <td>0.0</td>\n",
       "      <td>Сланцы</td>\n",
       "      <td>NaN</td>\n",
       "      <td>NaN</td>\n",
       "      <td>NaN</td>\n",
       "      <td>NaN</td>\n",
       "      <td>NaN</td>\n",
       "      <td>NaN</td>\n",
       "      <td>719.0</td>\n",
       "      <td>Сланцы</td>\n",
       "    </tr>\n",
       "    <tr>\n",
       "      <th>16219</th>\n",
       "      <td>14</td>\n",
       "      <td>450000.0</td>\n",
       "      <td>38.5</td>\n",
       "      <td>2018-07-11</td>\n",
       "      <td>2</td>\n",
       "      <td>2.65</td>\n",
       "      <td>2.0</td>\n",
       "      <td>30.5</td>\n",
       "      <td>1</td>\n",
       "      <td>False</td>\n",
       "      <td>...</td>\n",
       "      <td>0.0</td>\n",
       "      <td>деревня Вахнова Кара</td>\n",
       "      <td>NaN</td>\n",
       "      <td>NaN</td>\n",
       "      <td>NaN</td>\n",
       "      <td>NaN</td>\n",
       "      <td>NaN</td>\n",
       "      <td>NaN</td>\n",
       "      <td>45.0</td>\n",
       "      <td>деревня Вахнова Кара</td>\n",
       "    </tr>\n",
       "  </tbody>\n",
       "</table>\n",
       "<p>3 rows × 23 columns</p>\n",
       "</div>"
      ],
      "text/plain": [
       "       total_images  last_price  total_area first_day_exposition  rooms  \\\n",
       "8793              7     12190.0       109.0           2019-03-20      2   \n",
       "10782             3    490000.0        29.1           2016-05-05      1   \n",
       "16219            14    450000.0        38.5           2018-07-11      2   \n",
       "\n",
       "       ceiling_height  floors_total  living_area  floor  is_apartment  ...  \\\n",
       "8793             2.75          25.0         32.0     25         False  ...   \n",
       "10782            2.50           5.0         17.0      5         False  ...   \n",
       "16219            2.65           2.0         30.5      1         False  ...   \n",
       "\n",
       "       balcony         locality_name  airports_nearest  cityCenters_nearest  \\\n",
       "8793       0.0       Санкт-Петербург           36421.0               9176.0   \n",
       "10782      0.0                Сланцы               NaN                  NaN   \n",
       "16219      0.0  деревня Вахнова Кара               NaN                  NaN   \n",
       "\n",
       "      parks_around3000  parks_nearest  ponds_around3000  ponds_nearest  \\\n",
       "8793               1.0          805.0               0.0            NaN   \n",
       "10782              NaN            NaN               NaN            NaN   \n",
       "16219              NaN            NaN               NaN            NaN   \n",
       "\n",
       "       days_exposition        locality_clear  \n",
       "8793               8.0       Санкт-Петербург  \n",
       "10782            719.0                Сланцы  \n",
       "16219             45.0  деревня Вахнова Кара  \n",
       "\n",
       "[3 rows x 23 columns]"
      ]
     },
     "execution_count": 148,
     "metadata": {},
     "output_type": "execute_result"
    }
   ],
   "source": [
    "#посмотрим на самые дешевые квартиры\n",
    "data[data['last_price']<500000]"
   ]
  },
  {
   "cell_type": "markdown",
   "id": "447a1667",
   "metadata": {},
   "source": [
    "Одно из объявлений имеет **цену на момент снятия с публикации** 12190.0 руб. Для квартиры в СПб площадью 109 кв.м. это не реалистичное значение, поэтому удалим его. Остальные дешевые квартиры малогабаритны и размещаются в отдаленных населенных пунктах, будем считать что цены адекватны объектам."
   ]
  },
  {
   "cell_type": "code",
   "execution_count": 149,
   "id": "615dfd48",
   "metadata": {},
   "outputs": [],
   "source": [
    "data = data[data['last_price']>100000]"
   ]
  },
  {
   "cell_type": "code",
   "execution_count": 150,
   "id": "0c4f49f1",
   "metadata": {},
   "outputs": [
    {
     "name": "stdout",
     "output_type": "stream",
     "text": [
      "Минимальная общая площадь: 20.67\n",
      "Максимальная общая площадь: 900.0\n"
     ]
    }
   ],
   "source": [
    "#оценим пределы значений общей площади\n",
    "print('Минимальная общая площадь:', data['total_area'].min())\n",
    "print('Максимальная общая площадь:', data['total_area'].max())"
   ]
  },
  {
   "cell_type": "markdown",
   "id": "937427fb",
   "metadata": {},
   "source": [
    "Разброс значений **общей площади** хоть и большой, но по факту возможен, принимаем значения."
   ]
  },
  {
   "cell_type": "markdown",
   "id": "21c8cedd",
   "metadata": {},
   "source": [
    "Значения в остальных столбцах подозрений не вывывают. Остается проверить некотрые столбцы на согласованность значений. В частности, общая площадь квартиры не может быть меньше жилой площади, площади кухни или их суммы. Проверим. выполняются ли эти условия:"
   ]
  },
  {
   "cell_type": "code",
   "execution_count": 151,
   "id": "03edaa18",
   "metadata": {},
   "outputs": [
    {
     "data": {
      "text/plain": [
       "87"
      ]
     },
     "execution_count": 151,
     "metadata": {},
     "output_type": "execute_result"
    }
   ],
   "source": [
    "data[(data['living_area'] > data['total_area']) | \n",
    "     (data['kitchen_area'] > data['total_area']) | \n",
    "    ((data['living_area'] + data['kitchen_area']) > data['total_area'])]['total_area'].count()"
   ]
  },
  {
   "cell_type": "markdown",
   "id": "b8ec3321",
   "metadata": {},
   "source": [
    "Неожиданно, но такие значения присуствуют в наборе. Вероятно, это ошибки заполнения объявления. Чтобы сохранить корректность результатов не будем их исправлять, отбросим их. Кроме того, ситуация несогласовнности этих значений **требует обсуждения с разработчиками**, проверка этих условий при заполнении объявления помогла бы избавиться от таких ошибок."
   ]
  },
  {
   "cell_type": "code",
   "execution_count": 152,
   "id": "122029a0",
   "metadata": {},
   "outputs": [],
   "source": [
    "#избавляемся от объявлений, в которых цифры площадей необъяснимо несогласованы\n",
    "data = data[(data['living_area'] < data['total_area']) | \n",
    "     (data['kitchen_area'] < data['total_area']) | \n",
    "    ((data['living_area'] + data['kitchen_area']) < data['total_area'])]"
   ]
  },
  {
   "cell_type": "code",
   "execution_count": 153,
   "id": "e18a6cb6",
   "metadata": {},
   "outputs": [
    {
     "name": "stdout",
     "output_type": "stream",
     "text": [
      "<class 'pandas.core.frame.DataFrame'>\n",
      "Int64Index: 14199 entries, 0 to 23698\n",
      "Data columns (total 23 columns):\n",
      " #   Column                Non-Null Count  Dtype         \n",
      "---  ------                --------------  -----         \n",
      " 0   total_images          14199 non-null  int64         \n",
      " 1   last_price            14199 non-null  float64       \n",
      " 2   total_area            14199 non-null  float64       \n",
      " 3   first_day_exposition  14199 non-null  datetime64[ns]\n",
      " 4   rooms                 14199 non-null  int64         \n",
      " 5   ceiling_height        14199 non-null  float64       \n",
      " 6   floors_total          14199 non-null  float64       \n",
      " 7   living_area           14199 non-null  float64       \n",
      " 8   floor                 14199 non-null  int64         \n",
      " 9   is_apartment          14199 non-null  bool          \n",
      " 10  studio                14199 non-null  bool          \n",
      " 11  open_plan             14199 non-null  bool          \n",
      " 12  kitchen_area          14199 non-null  float64       \n",
      " 13  balcony               14199 non-null  float64       \n",
      " 14  locality_name         14199 non-null  object        \n",
      " 15  airports_nearest      11336 non-null  float64       \n",
      " 16  cityCenters_nearest   11356 non-null  float64       \n",
      " 17  parks_around3000      11357 non-null  float64       \n",
      " 18  parks_nearest         5215 non-null   float64       \n",
      " 19  ponds_around3000      11357 non-null  float64       \n",
      " 20  ponds_nearest         5620 non-null   float64       \n",
      " 21  days_exposition       14199 non-null  object        \n",
      " 22  locality_clear        14199 non-null  object        \n",
      "dtypes: bool(3), datetime64[ns](1), float64(13), int64(3), object(3)\n",
      "memory usage: 2.3+ MB\n"
     ]
    }
   ],
   "source": [
    "#посмотрим еще раз на данные перед дальнейшей обработкой\n",
    "data.info()"
   ]
  },
  {
   "cell_type": "markdown",
   "id": "9d99dfe2",
   "metadata": {},
   "source": [
    "В целях оптимизации использования памяти и универсальности кода (вдруг придется его применить к очень большим наборам данных) изменим тип данных в столбцах с площадями - используем float32 вместо float64."
   ]
  },
  {
   "cell_type": "code",
   "execution_count": 154,
   "id": "24a75e47",
   "metadata": {},
   "outputs": [],
   "source": [
    "data['total_area'] = data['total_area'].astype('float32')\n",
    "data['living_area'] = data['living_area'].astype('float32')\n",
    "data['kitchen_area'] = data['kitchen_area'].astype('float32')"
   ]
  },
  {
   "cell_type": "markdown",
   "id": "091b0eb5",
   "metadata": {},
   "source": [
    "### Добавляем столбцы"
   ]
  },
  {
   "cell_type": "markdown",
   "id": "85b8119b",
   "metadata": {},
   "source": [
    "Для удобства дальнейшего анализа добавим новые столбцы в таблицу.\n",
    "\n",
    "Расситаем для каждого объекта цену за кв. м."
   ]
  },
  {
   "cell_type": "code",
   "execution_count": 155,
   "id": "7218fb0c",
   "metadata": {},
   "outputs": [],
   "source": [
    "# объявим новый столбец с результами деления цены на момент последней публикации \n",
    "# на общую площадь квартиры\n",
    "data['price_metre'] = round(data['last_price'] / data['total_area'], 0)"
   ]
  },
  {
   "cell_type": "code",
   "execution_count": 156,
   "id": "9fae5607",
   "metadata": {},
   "outputs": [
    {
     "data": {
      "text/plain": [
       "0     120370.0\n",
       "4     100000.0\n",
       "9      88525.0\n",
       "10    127525.0\n",
       "13     82944.0\n",
       "Name: price_metre, dtype: float64"
      ]
     },
     "execution_count": 156,
     "metadata": {},
     "output_type": "execute_result"
    }
   ],
   "source": [
    "# посмотрим что получилось\n",
    "data['price_metre'].head(5)"
   ]
  },
  {
   "cell_type": "code",
   "execution_count": 157,
   "id": "c0411f3e",
   "metadata": {},
   "outputs": [],
   "source": [
    "# добавим столбец, в который внесем информацию о дне недели первой публикации\n",
    "import datetime as dt\n",
    "data['weekday_first_exp'] = data['first_day_exposition'].dt.dayofweek"
   ]
  },
  {
   "cell_type": "code",
   "execution_count": 158,
   "id": "f13a9a03",
   "metadata": {},
   "outputs": [
    {
     "data": {
      "text/plain": [
       "0     3\n",
       "4     1\n",
       "9     6\n",
       "10    3\n",
       "13    5\n",
       "Name: weekday_first_exp, dtype: int64"
      ]
     },
     "execution_count": 158,
     "metadata": {},
     "output_type": "execute_result"
    }
   ],
   "source": [
    "# взглянем что получилось\n",
    "data['weekday_first_exp'].head(5)"
   ]
  },
  {
   "cell_type": "code",
   "execution_count": 159,
   "id": "9055e9a9",
   "metadata": {},
   "outputs": [],
   "source": [
    "# добавим столбец, в который внесем информацию о месяце первой публикации\n",
    "data['month_first_exp'] = pd.DatetimeIndex(data['first_day_exposition']).month"
   ]
  },
  {
   "cell_type": "code",
   "execution_count": 160,
   "id": "b653e716",
   "metadata": {},
   "outputs": [
    {
     "data": {
      "text/plain": [
       "0      3\n",
       "4      6\n",
       "9      2\n",
       "10    11\n",
       "13     7\n",
       "Name: month_first_exp, dtype: int64"
      ]
     },
     "execution_count": 160,
     "metadata": {},
     "output_type": "execute_result"
    }
   ],
   "source": [
    "# посмотрим на значения в столбце\n",
    "data['month_first_exp'].head(5)"
   ]
  },
  {
   "cell_type": "code",
   "execution_count": 161,
   "id": "54c25703",
   "metadata": {},
   "outputs": [
    {
     "name": "stdout",
     "output_type": "stream",
     "text": [
      "Минимальный год: 2014\n",
      "Максимальный год: 2019\n"
     ]
    }
   ],
   "source": [
    "# добавим столбец, в который внесем информацию о годе первой публикации\n",
    "data['year_first_exp'] = pd.DatetimeIndex(data['first_day_exposition']).year\n",
    "# посмотрим результат\n",
    "print('Минимальный год:', data['year_first_exp'].min())\n",
    "print('Максимальный год:',data['year_first_exp'].max())"
   ]
  },
  {
   "cell_type": "code",
   "execution_count": 162,
   "id": "fd6e28f9",
   "metadata": {},
   "outputs": [
    {
     "data": {
      "text/html": [
       "<div>\n",
       "<style scoped>\n",
       "    .dataframe tbody tr th:only-of-type {\n",
       "        vertical-align: middle;\n",
       "    }\n",
       "\n",
       "    .dataframe tbody tr th {\n",
       "        vertical-align: top;\n",
       "    }\n",
       "\n",
       "    .dataframe thead th {\n",
       "        text-align: right;\n",
       "    }\n",
       "</style>\n",
       "<table border=\"1\" class=\"dataframe\">\n",
       "  <thead>\n",
       "    <tr style=\"text-align: right;\">\n",
       "      <th></th>\n",
       "      <th>total_images</th>\n",
       "      <th>last_price</th>\n",
       "      <th>total_area</th>\n",
       "      <th>first_day_exposition</th>\n",
       "      <th>rooms</th>\n",
       "      <th>ceiling_height</th>\n",
       "      <th>floors_total</th>\n",
       "      <th>living_area</th>\n",
       "      <th>floor</th>\n",
       "      <th>is_apartment</th>\n",
       "      <th>...</th>\n",
       "      <th>parks_nearest</th>\n",
       "      <th>ponds_around3000</th>\n",
       "      <th>ponds_nearest</th>\n",
       "      <th>days_exposition</th>\n",
       "      <th>locality_clear</th>\n",
       "      <th>price_metre</th>\n",
       "      <th>weekday_first_exp</th>\n",
       "      <th>month_first_exp</th>\n",
       "      <th>year_first_exp</th>\n",
       "      <th>floor_feat</th>\n",
       "    </tr>\n",
       "  </thead>\n",
       "  <tbody>\n",
       "    <tr>\n",
       "      <th>0</th>\n",
       "      <td>20</td>\n",
       "      <td>13000000.0</td>\n",
       "      <td>108.000000</td>\n",
       "      <td>2019-03-07</td>\n",
       "      <td>3</td>\n",
       "      <td>2.70</td>\n",
       "      <td>16.0</td>\n",
       "      <td>51.000000</td>\n",
       "      <td>8</td>\n",
       "      <td>False</td>\n",
       "      <td>...</td>\n",
       "      <td>482.0</td>\n",
       "      <td>2.0</td>\n",
       "      <td>755.0</td>\n",
       "      <td>еще продается</td>\n",
       "      <td>Санкт-Петербург</td>\n",
       "      <td>120370.0</td>\n",
       "      <td>3</td>\n",
       "      <td>3</td>\n",
       "      <td>2019</td>\n",
       "      <td>другой</td>\n",
       "    </tr>\n",
       "    <tr>\n",
       "      <th>4</th>\n",
       "      <td>2</td>\n",
       "      <td>10000000.0</td>\n",
       "      <td>100.000000</td>\n",
       "      <td>2018-06-19</td>\n",
       "      <td>2</td>\n",
       "      <td>3.03</td>\n",
       "      <td>14.0</td>\n",
       "      <td>32.000000</td>\n",
       "      <td>13</td>\n",
       "      <td>False</td>\n",
       "      <td>...</td>\n",
       "      <td>112.0</td>\n",
       "      <td>1.0</td>\n",
       "      <td>48.0</td>\n",
       "      <td>121.0</td>\n",
       "      <td>Санкт-Петербург</td>\n",
       "      <td>100000.0</td>\n",
       "      <td>1</td>\n",
       "      <td>6</td>\n",
       "      <td>2018</td>\n",
       "      <td>другой</td>\n",
       "    </tr>\n",
       "    <tr>\n",
       "      <th>9</th>\n",
       "      <td>18</td>\n",
       "      <td>5400000.0</td>\n",
       "      <td>61.000000</td>\n",
       "      <td>2017-02-26</td>\n",
       "      <td>3</td>\n",
       "      <td>2.50</td>\n",
       "      <td>9.0</td>\n",
       "      <td>43.599998</td>\n",
       "      <td>7</td>\n",
       "      <td>False</td>\n",
       "      <td>...</td>\n",
       "      <td>NaN</td>\n",
       "      <td>0.0</td>\n",
       "      <td>NaN</td>\n",
       "      <td>289.0</td>\n",
       "      <td>Санкт-Петербург</td>\n",
       "      <td>88525.0</td>\n",
       "      <td>6</td>\n",
       "      <td>2</td>\n",
       "      <td>2017</td>\n",
       "      <td>другой</td>\n",
       "    </tr>\n",
       "    <tr>\n",
       "      <th>10</th>\n",
       "      <td>5</td>\n",
       "      <td>5050000.0</td>\n",
       "      <td>39.599998</td>\n",
       "      <td>2017-11-16</td>\n",
       "      <td>1</td>\n",
       "      <td>2.67</td>\n",
       "      <td>12.0</td>\n",
       "      <td>20.299999</td>\n",
       "      <td>3</td>\n",
       "      <td>False</td>\n",
       "      <td>...</td>\n",
       "      <td>310.0</td>\n",
       "      <td>2.0</td>\n",
       "      <td>553.0</td>\n",
       "      <td>137.0</td>\n",
       "      <td>Санкт-Петербург</td>\n",
       "      <td>127525.0</td>\n",
       "      <td>3</td>\n",
       "      <td>11</td>\n",
       "      <td>2017</td>\n",
       "      <td>другой</td>\n",
       "    </tr>\n",
       "    <tr>\n",
       "      <th>13</th>\n",
       "      <td>20</td>\n",
       "      <td>3550000.0</td>\n",
       "      <td>42.799999</td>\n",
       "      <td>2017-07-01</td>\n",
       "      <td>2</td>\n",
       "      <td>2.56</td>\n",
       "      <td>5.0</td>\n",
       "      <td>27.000000</td>\n",
       "      <td>5</td>\n",
       "      <td>False</td>\n",
       "      <td>...</td>\n",
       "      <td>294.0</td>\n",
       "      <td>3.0</td>\n",
       "      <td>298.0</td>\n",
       "      <td>366.0</td>\n",
       "      <td>Петергоф</td>\n",
       "      <td>82944.0</td>\n",
       "      <td>5</td>\n",
       "      <td>7</td>\n",
       "      <td>2017</td>\n",
       "      <td>последний</td>\n",
       "    </tr>\n",
       "  </tbody>\n",
       "</table>\n",
       "<p>5 rows × 28 columns</p>\n",
       "</div>"
      ],
      "text/plain": [
       "    total_images  last_price  total_area first_day_exposition  rooms  \\\n",
       "0             20  13000000.0  108.000000           2019-03-07      3   \n",
       "4              2  10000000.0  100.000000           2018-06-19      2   \n",
       "9             18   5400000.0   61.000000           2017-02-26      3   \n",
       "10             5   5050000.0   39.599998           2017-11-16      1   \n",
       "13            20   3550000.0   42.799999           2017-07-01      2   \n",
       "\n",
       "    ceiling_height  floors_total  living_area  floor  is_apartment  ...  \\\n",
       "0             2.70          16.0    51.000000      8         False  ...   \n",
       "4             3.03          14.0    32.000000     13         False  ...   \n",
       "9             2.50           9.0    43.599998      7         False  ...   \n",
       "10            2.67          12.0    20.299999      3         False  ...   \n",
       "13            2.56           5.0    27.000000      5         False  ...   \n",
       "\n",
       "    parks_nearest  ponds_around3000  ponds_nearest  days_exposition  \\\n",
       "0           482.0               2.0          755.0    еще продается   \n",
       "4           112.0               1.0           48.0            121.0   \n",
       "9             NaN               0.0            NaN            289.0   \n",
       "10          310.0               2.0          553.0            137.0   \n",
       "13          294.0               3.0          298.0            366.0   \n",
       "\n",
       "     locality_clear  price_metre  weekday_first_exp  month_first_exp  \\\n",
       "0   Санкт-Петербург     120370.0                  3                3   \n",
       "4   Санкт-Петербург     100000.0                  1                6   \n",
       "9   Санкт-Петербург      88525.0                  6                2   \n",
       "10  Санкт-Петербург     127525.0                  3               11   \n",
       "13         Петергоф      82944.0                  5                7   \n",
       "\n",
       "    year_first_exp  floor_feat  \n",
       "0             2019      другой  \n",
       "4             2018      другой  \n",
       "9             2017      другой  \n",
       "10            2017      другой  \n",
       "13            2017   последний  \n",
       "\n",
       "[5 rows x 28 columns]"
      ]
     },
     "execution_count": 162,
     "metadata": {},
     "output_type": "execute_result"
    }
   ],
   "source": [
    "# определим функцию, которая по этажу квартиры и этажности дома\n",
    "# вернет один из типов этажа - первый / последний / другой\n",
    "def floor_feat(row):\n",
    "    if row['floor'] == 1:\n",
    "        return 'первый'\n",
    "    elif row['floor'] == row['floors_total']:\n",
    "        return 'последний'\n",
    "    else:\n",
    "        return 'другой'\n",
    "data['floor_feat'] = data.apply(floor_feat, axis = 1)\n",
    "# посмотрим на все добавленные столбцы\n",
    "data.head(5)"
   ]
  },
  {
   "cell_type": "code",
   "execution_count": 163,
   "id": "955e0426",
   "metadata": {},
   "outputs": [
    {
     "data": {
      "text/plain": [
       "count    11356.000000\n",
       "mean     14054.183956\n",
       "std       8739.184910\n",
       "min        181.000000\n",
       "25%       9021.250000\n",
       "50%      12954.000000\n",
       "75%      16028.000000\n",
       "max      65968.000000\n",
       "Name: cityCenters_nearest, dtype: float64"
      ]
     },
     "execution_count": 163,
     "metadata": {},
     "output_type": "execute_result"
    }
   ],
   "source": [
    "#посмотрим на значения расстояния квартиры от центра\n",
    "data[~data['cityCenters_nearest'].isna()]['cityCenters_nearest'].describe()"
   ]
  },
  {
   "cell_type": "code",
   "execution_count": 164,
   "id": "05430447",
   "metadata": {},
   "outputs": [
    {
     "data": {
      "text/plain": [
       "count    11356.000000\n",
       "mean        14.049489\n",
       "std          8.746542\n",
       "min          0.000000\n",
       "25%          9.000000\n",
       "50%         13.000000\n",
       "75%         16.000000\n",
       "max         66.000000\n",
       "Name: cityCenters_nearest, dtype: float64"
      ]
     },
     "execution_count": 164,
     "metadata": {},
     "output_type": "execute_result"
    }
   ],
   "source": [
    "#переведем метры в километры, округлим и снова посмотрим на статистику по столбцу\n",
    "data['cityCenters_nearest'] = data['cityCenters_nearest'].where(data['cityCenters_nearest'].isna(),\n",
    "                                                               round(data['cityCenters_nearest']/1000,0))\n",
    "data[~data['cityCenters_nearest'].isna()]['cityCenters_nearest'].describe()"
   ]
  },
  {
   "cell_type": "code",
   "execution_count": 165,
   "id": "e039c2be",
   "metadata": {},
   "outputs": [],
   "source": [
    "#проделаем то же самое действие для расстояния до аэропорта, переведем его в километры\n",
    "data['airports_nearest'] = data['airports_nearest'].where(data['airports_nearest'].isna(),\n",
    "                                                               round(data['airports_nearest']/1000,0))"
   ]
  },
  {
   "cell_type": "markdown",
   "id": "1e8bfe7d",
   "metadata": {},
   "source": [
    "### Исследовательский анализ данных"
   ]
  },
  {
   "cell_type": "code",
   "execution_count": 166,
   "id": "63bbc6cd",
   "metadata": {},
   "outputs": [
    {
     "data": {
      "image/png": "[encoded data removed]",
      "text/plain": [
       "<Figure size 432x288 with 1 Axes>"
      ]
     },
     "metadata": {
      "needs_background": "light"
     },
     "output_type": "display_data"
    },
    {
     "data": {
      "text/plain": [
       "40"
      ]
     },
     "execution_count": 166,
     "metadata": {},
     "output_type": "execute_result"
    }
   ],
   "source": [
    "#посмотрим как распределены значения общей площади квартир и какие из них нормальные\n",
    "plt.ylim(0,400)\n",
    "data.boxplot('total_area')\n",
    "plt.show()\n",
    "#посчитаем сколько квартир с площадью более 300 кв.м. - после этого значения частота значений редеет\n",
    "data[data['total_area']>300]['total_area'].count()"
   ]
  },
  {
   "cell_type": "code",
   "execution_count": 167,
   "id": "138be97c",
   "metadata": {},
   "outputs": [
    {
     "data": {
      "image/png": "[encoded data removed]",
      "text/plain": [
       "<Figure size 432x288 with 1 Axes>"
      ]
     },
     "metadata": {
      "needs_background": "light"
     },
     "output_type": "display_data"
    }
   ],
   "source": [
    "#взглянем на статистику по столбцу и построим гистограмму в пределах большинства значений\n",
    "data['total_area'].describe()\n",
    "ax = data.plot(kind='hist', y='total_area', histtype='step', range=(0, 300),\n",
    "          bins=50, linewidth=3, alpha=0.7,\n",
    "          label='Общая площадь', grid=True, legend=True)"
   ]
  },
  {
   "cell_type": "markdown",
   "id": "903431de",
   "metadata": {},
   "source": [
    "Подавляющее число объявлений - это продажа квартир с площадью от 30 до 100 кв.м.\n",
    "Свыше 300 кв.м. продавалось 48 квартир. Можно сказать такие объявления редкость."
   ]
  },
  {
   "cell_type": "code",
   "execution_count": 168,
   "id": "05c6db2c",
   "metadata": {},
   "outputs": [
    {
     "data": {
      "text/plain": [
       "<AxesSubplot:>"
      ]
     },
     "execution_count": 168,
     "metadata": {},
     "output_type": "execute_result"
    },
    {
     "data": {
      "image/png": "[encoded data removed]",
      "text/plain": [
       "<Figure size 432x288 with 1 Axes>"
      ]
     },
     "metadata": {
      "needs_background": "light"
     },
     "output_type": "display_data"
    }
   ],
   "source": [
    "#определим наиболее часто попадающиеся в объявлениях квартиры по чилу комнат\n",
    "data['rooms'].hist(bins=20, range=(0,10))"
   ]
  },
  {
   "cell_type": "markdown",
   "id": "bb3f7289",
   "metadata": {},
   "source": [
    "Большинство объявлений это квартиры, имеющие до 5 комнат. Посмотрим как распределены квартиры по их общей площади среди объявлений."
   ]
  },
  {
   "cell_type": "code",
   "execution_count": 169,
   "id": "1d526527",
   "metadata": {},
   "outputs": [
    {
     "data": {
      "image/png": "[encoded data removed]",
      "text/plain": [
       "<Figure size 576x288 with 1 Axes>"
      ]
     },
     "metadata": {
      "needs_background": "light"
     },
     "output_type": "display_data"
    },
    {
     "data": {
      "image/png": "[encoded data removed]",
      "text/plain": [
       "<Figure size 576x288 with 1 Axes>"
      ]
     },
     "metadata": {
      "needs_background": "light"
     },
     "output_type": "display_data"
    },
    {
     "data": {
      "image/png": "[encoded data removed]",
      "text/plain": [
       "<Figure size 576x288 with 1 Axes>"
      ]
     },
     "metadata": {
      "needs_background": "light"
     },
     "output_type": "display_data"
    },
    {
     "data": {
      "image/png": "[encoded data removed]",
      "text/plain": [
       "<Figure size 576x288 with 1 Axes>"
      ]
     },
     "metadata": {
      "needs_background": "light"
     },
     "output_type": "display_data"
    }
   ],
   "source": [
    "#построим гистограммы площадей квартир для часто встречающегося числа комнат\n",
    "for i in range(1,5):\n",
    "    data[data['rooms'] == i].plot(kind='hist', y='total_area', range=(0, 300), \n",
    "                              bins=30, linewidth=3, alpha=0.7, label=f'комнат: {i}', \n",
    "                              grid=True, legend=True, figsize=(8,4), color='g')"
   ]
  },
  {
   "cell_type": "markdown",
   "id": "d7af5f14",
   "metadata": {},
   "source": [
    "Большинство объявлений 1-комнатных квартир имеет площадь от 32 до 45 кв.м.\n",
    "\n",
    "Большинство объявлений 2-комнатных квартир имеет площадь от 45 до 100 кв.м.\n",
    "\n",
    "Большинство объявлений 3-комнатных квартир имеет площадь от 55 до 110 кв.м.\n",
    "\n",
    "Большинство объявлений 4-комнатных квартир имеет площадь от 60 до 160 кв.м."
   ]
  },
  {
   "cell_type": "markdown",
   "id": "13e5a35c",
   "metadata": {},
   "source": [
    "Аналогично в разрезе числа комнат посмотрим на жилые площади квартир."
   ]
  },
  {
   "cell_type": "code",
   "execution_count": 170,
   "id": "77aae3b1",
   "metadata": {},
   "outputs": [
    {
     "data": {
      "image/png": "[encoded data removed]",
      "text/plain": [
       "<Figure size 432x288 with 1 Axes>"
      ]
     },
     "metadata": {
      "needs_background": "light"
     },
     "output_type": "display_data"
    },
    {
     "data": {
      "image/png": "[encoded data removed]",
      "text/plain": [
       "<Figure size 432x288 with 1 Axes>"
      ]
     },
     "metadata": {
      "needs_background": "light"
     },
     "output_type": "display_data"
    },
    {
     "data": {
      "image/png": "[encoded data removed]",
      "text/plain": [
       "<Figure size 432x288 with 1 Axes>"
      ]
     },
     "metadata": {
      "needs_background": "light"
     },
     "output_type": "display_data"
    },
    {
     "data": {
      "image/png": "[encoded data removed]",
      "text/plain": [
       "<Figure size 432x288 with 1 Axes>"
      ]
     },
     "metadata": {
      "needs_background": "light"
     },
     "output_type": "display_data"
    }
   ],
   "source": [
    "#строим гистограммы для жилых площадей часто встречающися квартир по числу комнат\n",
    "for i in range(1,5):\n",
    "    data[data['rooms'] == i].plot(kind='hist', y='living_area', range=(0, 300), bins=30,\n",
    "                              alpha=0.5, label=f'комнат: {i}', grid=True, legend=True, color='b')"
   ]
  },
  {
   "cell_type": "code",
   "execution_count": 171,
   "id": "2ddae862",
   "metadata": {},
   "outputs": [
    {
     "data": {
      "text/html": [
       "<div>\n",
       "<style scoped>\n",
       "    .dataframe tbody tr th:only-of-type {\n",
       "        vertical-align: middle;\n",
       "    }\n",
       "\n",
       "    .dataframe tbody tr th {\n",
       "        vertical-align: top;\n",
       "    }\n",
       "\n",
       "    .dataframe thead th {\n",
       "        text-align: right;\n",
       "    }\n",
       "</style>\n",
       "<table border=\"1\" class=\"dataframe\">\n",
       "  <thead>\n",
       "    <tr style=\"text-align: right;\">\n",
       "      <th></th>\n",
       "      <th>living_area_med</th>\n",
       "      <th>kitchen_area_med</th>\n",
       "      <th>total_area_med</th>\n",
       "      <th>count</th>\n",
       "    </tr>\n",
       "    <tr>\n",
       "      <th>rooms</th>\n",
       "      <th></th>\n",
       "      <th></th>\n",
       "      <th></th>\n",
       "      <th></th>\n",
       "    </tr>\n",
       "  </thead>\n",
       "  <tbody>\n",
       "    <tr>\n",
       "      <th>0</th>\n",
       "      <td>20.000000</td>\n",
       "      <td>5.472404</td>\n",
       "      <td>32.500000</td>\n",
       "      <td>19</td>\n",
       "    </tr>\n",
       "    <tr>\n",
       "      <th>1</th>\n",
       "      <td>17.799999</td>\n",
       "      <td>9.000000</td>\n",
       "      <td>36.799999</td>\n",
       "      <td>4482</td>\n",
       "    </tr>\n",
       "    <tr>\n",
       "      <th>2</th>\n",
       "      <td>30.500000</td>\n",
       "      <td>8.637980</td>\n",
       "      <td>53.000000</td>\n",
       "      <td>4779</td>\n",
       "    </tr>\n",
       "    <tr>\n",
       "      <th>3</th>\n",
       "      <td>45.000000</td>\n",
       "      <td>9.766136</td>\n",
       "      <td>72.599998</td>\n",
       "      <td>3757</td>\n",
       "    </tr>\n",
       "    <tr>\n",
       "      <th>4</th>\n",
       "      <td>64.000000</td>\n",
       "      <td>11.300000</td>\n",
       "      <td>99.000000</td>\n",
       "      <td>792</td>\n",
       "    </tr>\n",
       "    <tr>\n",
       "      <th>5</th>\n",
       "      <td>94.800003</td>\n",
       "      <td>16.500000</td>\n",
       "      <td>150.000000</td>\n",
       "      <td>231</td>\n",
       "    </tr>\n",
       "    <tr>\n",
       "      <th>6</th>\n",
       "      <td>118.400002</td>\n",
       "      <td>18.150000</td>\n",
       "      <td>180.750000</td>\n",
       "      <td>74</td>\n",
       "    </tr>\n",
       "    <tr>\n",
       "      <th>7</th>\n",
       "      <td>149.300003</td>\n",
       "      <td>20.000000</td>\n",
       "      <td>217.000000</td>\n",
       "      <td>43</td>\n",
       "    </tr>\n",
       "    <tr>\n",
       "      <th>8</th>\n",
       "      <td>149.800003</td>\n",
       "      <td>24.799999</td>\n",
       "      <td>222.649994</td>\n",
       "      <td>6</td>\n",
       "    </tr>\n",
       "    <tr>\n",
       "      <th>9</th>\n",
       "      <td>169.899994</td>\n",
       "      <td>32.900002</td>\n",
       "      <td>292.200012</td>\n",
       "      <td>7</td>\n",
       "    </tr>\n",
       "    <tr>\n",
       "      <th>10</th>\n",
       "      <td>161.399994</td>\n",
       "      <td>19.799999</td>\n",
       "      <td>272.600006</td>\n",
       "      <td>3</td>\n",
       "    </tr>\n",
       "    <tr>\n",
       "      <th>11</th>\n",
       "      <td>133.899994</td>\n",
       "      <td>12.600000</td>\n",
       "      <td>188.899994</td>\n",
       "      <td>2</td>\n",
       "    </tr>\n",
       "    <tr>\n",
       "      <th>12</th>\n",
       "      <td>409.700012</td>\n",
       "      <td>112.000000</td>\n",
       "      <td>900.000000</td>\n",
       "      <td>1</td>\n",
       "    </tr>\n",
       "    <tr>\n",
       "      <th>14</th>\n",
       "      <td>222.000000</td>\n",
       "      <td>16.600000</td>\n",
       "      <td>363.000000</td>\n",
       "      <td>1</td>\n",
       "    </tr>\n",
       "    <tr>\n",
       "      <th>15</th>\n",
       "      <td>409.000000</td>\n",
       "      <td>100.000000</td>\n",
       "      <td>590.000000</td>\n",
       "      <td>1</td>\n",
       "    </tr>\n",
       "    <tr>\n",
       "      <th>16</th>\n",
       "      <td>180.000000</td>\n",
       "      <td>13.000000</td>\n",
       "      <td>270.000000</td>\n",
       "      <td>1</td>\n",
       "    </tr>\n",
       "  </tbody>\n",
       "</table>\n",
       "</div>"
      ],
      "text/plain": [
       "       living_area_med  kitchen_area_med  total_area_med  count\n",
       "rooms                                                          \n",
       "0            20.000000          5.472404       32.500000     19\n",
       "1            17.799999          9.000000       36.799999   4482\n",
       "2            30.500000          8.637980       53.000000   4779\n",
       "3            45.000000          9.766136       72.599998   3757\n",
       "4            64.000000         11.300000       99.000000    792\n",
       "5            94.800003         16.500000      150.000000    231\n",
       "6           118.400002         18.150000      180.750000     74\n",
       "7           149.300003         20.000000      217.000000     43\n",
       "8           149.800003         24.799999      222.649994      6\n",
       "9           169.899994         32.900002      292.200012      7\n",
       "10          161.399994         19.799999      272.600006      3\n",
       "11          133.899994         12.600000      188.899994      2\n",
       "12          409.700012        112.000000      900.000000      1\n",
       "14          222.000000         16.600000      363.000000      1\n",
       "15          409.000000        100.000000      590.000000      1\n",
       "16          180.000000         13.000000      270.000000      1"
      ]
     },
     "execution_count": 171,
     "metadata": {},
     "output_type": "execute_result"
    }
   ],
   "source": [
    "#сгруппируем квартиры по числу комнат и найдем медианные значения площадей, \n",
    "#также выведем число квартир в каждой группе\n",
    "data_rooms = data.groupby('rooms').agg({'living_area':'median', 'kitchen_area':'median',\n",
    "                                        'total_area':['median','count']})\n",
    "data_rooms.columns = ['living_area_med','kitchen_area_med','total_area_med','count']\n",
    "data_rooms"
   ]
  },
  {
   "cell_type": "code",
   "execution_count": 172,
   "id": "57849405",
   "metadata": {},
   "outputs": [
    {
     "data": {
      "text/html": [
       "<div>\n",
       "<style scoped>\n",
       "    .dataframe tbody tr th:only-of-type {\n",
       "        vertical-align: middle;\n",
       "    }\n",
       "\n",
       "    .dataframe tbody tr th {\n",
       "        vertical-align: top;\n",
       "    }\n",
       "\n",
       "    .dataframe thead th {\n",
       "        text-align: right;\n",
       "    }\n",
       "</style>\n",
       "<table border=\"1\" class=\"dataframe\">\n",
       "  <thead>\n",
       "    <tr style=\"text-align: right;\">\n",
       "      <th></th>\n",
       "      <th>living_area_med</th>\n",
       "      <th>kitchen_area_med</th>\n",
       "      <th>total_area_med</th>\n",
       "      <th>count</th>\n",
       "    </tr>\n",
       "    <tr>\n",
       "      <th>rooms</th>\n",
       "      <th></th>\n",
       "      <th></th>\n",
       "      <th></th>\n",
       "      <th></th>\n",
       "    </tr>\n",
       "  </thead>\n",
       "  <tbody>\n",
       "    <tr>\n",
       "      <th>0</th>\n",
       "      <td>20.000000</td>\n",
       "      <td>5.472404</td>\n",
       "      <td>32.500000</td>\n",
       "      <td>19</td>\n",
       "    </tr>\n",
       "    <tr>\n",
       "      <th>1</th>\n",
       "      <td>17.799999</td>\n",
       "      <td>9.000000</td>\n",
       "      <td>36.799999</td>\n",
       "      <td>4482</td>\n",
       "    </tr>\n",
       "    <tr>\n",
       "      <th>2</th>\n",
       "      <td>30.500000</td>\n",
       "      <td>8.637980</td>\n",
       "      <td>53.000000</td>\n",
       "      <td>4779</td>\n",
       "    </tr>\n",
       "    <tr>\n",
       "      <th>3</th>\n",
       "      <td>45.000000</td>\n",
       "      <td>9.766136</td>\n",
       "      <td>72.599998</td>\n",
       "      <td>3757</td>\n",
       "    </tr>\n",
       "    <tr>\n",
       "      <th>4</th>\n",
       "      <td>64.000000</td>\n",
       "      <td>11.300000</td>\n",
       "      <td>99.000000</td>\n",
       "      <td>792</td>\n",
       "    </tr>\n",
       "    <tr>\n",
       "      <th>5</th>\n",
       "      <td>94.800003</td>\n",
       "      <td>16.500000</td>\n",
       "      <td>150.000000</td>\n",
       "      <td>231</td>\n",
       "    </tr>\n",
       "    <tr>\n",
       "      <th>6</th>\n",
       "      <td>118.400002</td>\n",
       "      <td>18.150000</td>\n",
       "      <td>180.750000</td>\n",
       "      <td>74</td>\n",
       "    </tr>\n",
       "    <tr>\n",
       "      <th>7</th>\n",
       "      <td>149.300003</td>\n",
       "      <td>20.000000</td>\n",
       "      <td>217.000000</td>\n",
       "      <td>43</td>\n",
       "    </tr>\n",
       "  </tbody>\n",
       "</table>\n",
       "</div>"
      ],
      "text/plain": [
       "       living_area_med  kitchen_area_med  total_area_med  count\n",
       "rooms                                                          \n",
       "0            20.000000          5.472404       32.500000     19\n",
       "1            17.799999          9.000000       36.799999   4482\n",
       "2            30.500000          8.637980       53.000000   4779\n",
       "3            45.000000          9.766136       72.599998   3757\n",
       "4            64.000000         11.300000       99.000000    792\n",
       "5            94.800003         16.500000      150.000000    231\n",
       "6           118.400002         18.150000      180.750000     74\n",
       "7           149.300003         20.000000      217.000000     43"
      ]
     },
     "execution_count": 172,
     "metadata": {},
     "output_type": "execute_result"
    }
   ],
   "source": [
    "#отбросим редко встречающиеся квартиры\n",
    "data_rooms = data_rooms[data_rooms.index < 8]\n",
    "data_rooms"
   ]
  },
  {
   "cell_type": "code",
   "execution_count": 173,
   "id": "57bdd978",
   "metadata": {},
   "outputs": [
    {
     "data": {
      "text/plain": [
       "<AxesSubplot:xlabel='rooms'>"
      ]
     },
     "execution_count": 173,
     "metadata": {},
     "output_type": "execute_result"
    },
    {
     "data": {
      "image/png": "[encoded data removed]",
      "text/plain": [
       "<Figure size 432x288 with 1 Axes>"
      ]
     },
     "metadata": {
      "needs_background": "light"
     },
     "output_type": "display_data"
    }
   ],
   "source": [
    "# Посмотрим на все площади на одном графике\n",
    "data_rooms.plot(kind='bar', y=['kitchen_area_med','living_area_med','total_area_med'],\n",
    "                alpha=0.5, label=['площадь кухни','жилая площадь','общая площадь'], \n",
    "                color=['g','b','r'])"
   ]
  },
  {
   "cell_type": "markdown",
   "id": "db916cb9",
   "metadata": {},
   "source": [
    "Жилая и общая площади растут, но размер кухни больше 20 кв.м. не поднимается. Есть разумные пределы у таких пространств и видимо создать уют на кухне более 20 кв.м. уже сложнее."
   ]
  },
  {
   "cell_type": "code",
   "execution_count": 174,
   "id": "3239f5a7",
   "metadata": {},
   "outputs": [
    {
     "data": {
      "text/plain": [
       "<AxesSubplot:>"
      ]
     },
     "execution_count": 174,
     "metadata": {},
     "output_type": "execute_result"
    },
    {
     "data": {
      "image/png": "[encoded data removed]",
      "text/plain": [
       "<Figure size 432x288 with 1 Axes>"
      ]
     },
     "metadata": {
      "needs_background": "light"
     },
     "output_type": "display_data"
    }
   ],
   "source": [
    "# построим гистограмму распределения цены квартир в объявлениях\n",
    "data['last_price'].hist(bins=50, range=(0,15000000))"
   ]
  },
  {
   "cell_type": "code",
   "execution_count": 175,
   "id": "41b8aac4",
   "metadata": {},
   "outputs": [
    {
     "data": {
      "text/plain": [
       "count    1.419900e+04\n",
       "mean     6.902616e+06\n",
       "std      1.026143e+07\n",
       "min      4.500000e+05\n",
       "25%      3.600000e+06\n",
       "50%      4.900000e+06\n",
       "75%      7.101396e+06\n",
       "max      4.200000e+08\n",
       "Name: last_price, dtype: float64"
      ]
     },
     "execution_count": 175,
     "metadata": {},
     "output_type": "execute_result"
    }
   ],
   "source": [
    "data['last_price'].describe()"
   ]
  },
  {
   "cell_type": "markdown",
   "id": "db51f19a",
   "metadata": {},
   "source": [
    "На цены от 3.5 до 6.85 млн. руб. приходится половина объявлений о продаже квартир."
   ]
  },
  {
   "cell_type": "code",
   "execution_count": 176,
   "id": "5d0b1d0f",
   "metadata": {},
   "outputs": [
    {
     "data": {
      "text/html": [
       "<div>\n",
       "<style scoped>\n",
       "    .dataframe tbody tr th:only-of-type {\n",
       "        vertical-align: middle;\n",
       "    }\n",
       "\n",
       "    .dataframe tbody tr th {\n",
       "        vertical-align: top;\n",
       "    }\n",
       "\n",
       "    .dataframe thead th {\n",
       "        text-align: right;\n",
       "    }\n",
       "</style>\n",
       "<table border=\"1\" class=\"dataframe\">\n",
       "  <thead>\n",
       "    <tr style=\"text-align: right;\">\n",
       "      <th></th>\n",
       "      <th>median_price</th>\n",
       "      <th>count</th>\n",
       "    </tr>\n",
       "    <tr>\n",
       "      <th>rooms</th>\n",
       "      <th></th>\n",
       "      <th></th>\n",
       "    </tr>\n",
       "  </thead>\n",
       "  <tbody>\n",
       "    <tr>\n",
       "      <th>0</th>\n",
       "      <td>3900000.0</td>\n",
       "      <td>19</td>\n",
       "    </tr>\n",
       "    <tr>\n",
       "      <th>1</th>\n",
       "      <td>3680000.0</td>\n",
       "      <td>4482</td>\n",
       "    </tr>\n",
       "    <tr>\n",
       "      <th>2</th>\n",
       "      <td>4900000.0</td>\n",
       "      <td>4779</td>\n",
       "    </tr>\n",
       "    <tr>\n",
       "      <th>3</th>\n",
       "      <td>6300000.0</td>\n",
       "      <td>3757</td>\n",
       "    </tr>\n",
       "    <tr>\n",
       "      <th>4</th>\n",
       "      <td>9195000.0</td>\n",
       "      <td>792</td>\n",
       "    </tr>\n",
       "    <tr>\n",
       "      <th>5</th>\n",
       "      <td>14000000.0</td>\n",
       "      <td>231</td>\n",
       "    </tr>\n",
       "    <tr>\n",
       "      <th>6</th>\n",
       "      <td>18513500.0</td>\n",
       "      <td>74</td>\n",
       "    </tr>\n",
       "    <tr>\n",
       "      <th>7</th>\n",
       "      <td>26000000.0</td>\n",
       "      <td>43</td>\n",
       "    </tr>\n",
       "  </tbody>\n",
       "</table>\n",
       "</div>"
      ],
      "text/plain": [
       "       median_price  count\n",
       "rooms                     \n",
       "0         3900000.0     19\n",
       "1         3680000.0   4482\n",
       "2         4900000.0   4779\n",
       "3         6300000.0   3757\n",
       "4         9195000.0    792\n",
       "5        14000000.0    231\n",
       "6        18513500.0     74\n",
       "7        26000000.0     43"
      ]
     },
     "execution_count": 176,
     "metadata": {},
     "output_type": "execute_result"
    }
   ],
   "source": [
    "# посмотрим как зависит цена от количества комнат\n",
    "# сгруппируем квартиры и отсечем редковстречающиеся больше 7 комнат\n",
    "data_room_price = data[data['rooms'] < 8].groupby('rooms').agg({'last_price':['median','count']})\n",
    "data_room_price.columns = ['median_price', 'count']\n",
    "data_room_price"
   ]
  },
  {
   "cell_type": "code",
   "execution_count": 177,
   "id": "2fdcdc23",
   "metadata": {},
   "outputs": [
    {
     "data": {
      "text/plain": [
       "<AxesSubplot:>"
      ]
     },
     "execution_count": 177,
     "metadata": {},
     "output_type": "execute_result"
    },
    {
     "data": {
      "image/png": "[encoded data removed]",
      "text/plain": [
       "<Figure size 864x360 with 1 Axes>"
      ]
     },
     "metadata": {
      "needs_background": "light"
     },
     "output_type": "display_data"
    }
   ],
   "source": [
    "# узнаем на каких этажах продается больше всего квартир\n",
    "data['floor'].hist(bins=30, figsize=(12,5))"
   ]
  },
  {
   "cell_type": "markdown",
   "id": "cba03eaf",
   "metadata": {},
   "source": [
    "Ожидаемый результат. Первые этажи есть в каждом доме, а вот двадцатые и выше очень редки. Но можно заметить и другие закономерности. На гистограмме есть ступеньки и можно выделить четыре группы объявлений:\n",
    "- квартиры на первом этаже\n",
    "- квартиры на 2-5 этажах\n",
    "- квартиры на 6-9 этажах\n",
    "- квартиры на 10 и выше этаже\n",
    "\n",
    "Но значит мы должны увидеть и такие же группы объектов по этажности домов. Посмотрим на них."
   ]
  },
  {
   "cell_type": "code",
   "execution_count": 178,
   "id": "d564695d",
   "metadata": {},
   "outputs": [
    {
     "data": {
      "text/plain": [
       "<AxesSubplot:>"
      ]
     },
     "execution_count": 178,
     "metadata": {},
     "output_type": "execute_result"
    },
    {
     "data": {
      "image/png": "[encoded data removed]",
      "text/plain": [
       "<Figure size 720x360 with 1 Axes>"
      ]
     },
     "metadata": {
      "needs_background": "light"
     },
     "output_type": "display_data"
    }
   ],
   "source": [
    "# узнаем в домах какой этажности продаются квартиры\n",
    "data['floors_total'].hist(bins=37, figsize=(10,5))"
   ]
  },
  {
   "cell_type": "markdown",
   "id": "f8699195",
   "metadata": {},
   "source": [
    "Похоже мы наблюдаем хорошо знакомые типы жилых зданий - среди них чаще всего встречаются пятиэтажки, девятиэтажки, 16-ти и 25- этажные дома. А что значит \"чаще всего встречаются\"? Это значит в них больше всего квартир и их продаж соответственно."
   ]
  },
  {
   "cell_type": "code",
   "execution_count": 179,
   "id": "651e324e",
   "metadata": {},
   "outputs": [
    {
     "data": {
      "text/plain": [
       "<AxesSubplot:>"
      ]
     },
     "execution_count": 179,
     "metadata": {},
     "output_type": "execute_result"
    },
    {
     "data": {
      "image/png": "[encoded data removed]",
      "text/plain": [
       "<Figure size 432x288 with 1 Axes>"
      ]
     },
     "metadata": {
      "needs_background": "light"
     },
     "output_type": "display_data"
    }
   ],
   "source": [
    "# построим гистограмму распределения высоты потолков в квартирах\n",
    "data['ceiling_height'].hist(bins=30, range=(2.5,4), figsize=(6,4))"
   ]
  },
  {
   "cell_type": "markdown",
   "id": "412acef2",
   "metadata": {},
   "source": [
    "Большинство квартир в объявлениях имеет высоту потолков 2.5 или 2.7 м. Подавляющее число объявлений это квартиры с высотой потолков от 2.5 до 2.8 м, но также можно наблюдать, что в жилом фонде имеется кластер квартир с высотой потолков 3 м."
   ]
  },
  {
   "cell_type": "code",
   "execution_count": 180,
   "id": "6e6a56d6",
   "metadata": {},
   "outputs": [
    {
     "data": {
      "text/plain": [
       "<AxesSubplot:>"
      ]
     },
     "execution_count": 180,
     "metadata": {},
     "output_type": "execute_result"
    },
    {
     "data": {
      "image/png": "[encoded data removed]",
      "text/plain": [
       "<Figure size 432x288 with 1 Axes>"
      ]
     },
     "metadata": {
      "needs_background": "light"
     },
     "output_type": "display_data"
    }
   ],
   "source": [
    "# ранее мы добавили столбец с типом этажа - \"первый\", \"последний\", \"другой\"\n",
    "# построим гистограмму распределения числа квартир в объявлениях на каждом типе этажей\n",
    "data['floor_feat'].hist(bins=3, figsize=(6,4), color='g')"
   ]
  },
  {
   "cell_type": "markdown",
   "id": "4794d7c3",
   "metadata": {},
   "source": [
    "Основная масса квартир в жилом фонде конечно расположена не на первом и не на последнем этаже, поэтому квартир на средних этажах продается больше."
   ]
  },
  {
   "cell_type": "code",
   "execution_count": 181,
   "id": "61bb2103",
   "metadata": {},
   "outputs": [
    {
     "data": {
      "text/plain": [
       "<AxesSubplot:>"
      ]
     },
     "execution_count": 181,
     "metadata": {},
     "output_type": "execute_result"
    },
    {
     "data": {
      "image/png": "[encoded data removed]",
      "text/plain": [
       "<Figure size 576x360 with 1 Axes>"
      ]
     },
     "metadata": {
      "needs_background": "light"
     },
     "output_type": "display_data"
    }
   ],
   "source": [
    "# посмотрим распределение расстояний квартир до центра города\n",
    "# (среди тех объявлений, где есть такие данные)\n",
    "data['cityCenters_nearest'].hist(bins=15, figsize=(8,5), alpha=0.7, color='r')"
   ]
  },
  {
   "cell_type": "markdown",
   "id": "5ae5adbe",
   "metadata": {},
   "source": [
    "Большинство квартир в объявлениях расположены на расстоянии 8-15 км от центра. Похоже на правду, так как большинство спальных районов как раз имеет такое удаление от центра."
   ]
  },
  {
   "cell_type": "code",
   "execution_count": 182,
   "id": "6100b5bd",
   "metadata": {},
   "outputs": [
    {
     "data": {
      "text/plain": [
       "<AxesSubplot:>"
      ]
     },
     "execution_count": 182,
     "metadata": {},
     "output_type": "execute_result"
    },
    {
     "data": {
      "image/png": "[encoded data removed]",
      "text/plain": [
       "<Figure size 576x360 with 1 Axes>"
      ]
     },
     "metadata": {
      "needs_background": "light"
     },
     "output_type": "display_data"
    }
   ],
   "source": [
    "# выведем распределение расстояний квартир до аэропорта\n",
    "# (среди тех объявлений, где есть такие данные)\n",
    "data['airports_nearest'].hist(bins=15, figsize=(8,5), alpha=0.6, color='b')"
   ]
  },
  {
   "cell_type": "code",
   "execution_count": 183,
   "id": "b8ff8fca",
   "metadata": {},
   "outputs": [
    {
     "data": {
      "text/plain": [
       "count    11336.00000\n",
       "mean        28.85674\n",
       "std         12.61681\n",
       "min          0.00000\n",
       "25%         19.00000\n",
       "50%         27.00000\n",
       "75%         37.00000\n",
       "max         85.00000\n",
       "Name: airports_nearest, dtype: float64"
      ]
     },
     "execution_count": 183,
     "metadata": {},
     "output_type": "execute_result"
    }
   ],
   "source": [
    "data['airports_nearest'].describe()"
   ]
  },
  {
   "cell_type": "markdown",
   "id": "eefc60de",
   "metadata": {},
   "source": [
    "Аэропорт - это вам не центр населенного пункта, расположен подальше. Поэтому и на гистограмме распределения рассотяний от квартиры до аэропорта мы наблюдаем уже больший километраж. Пик на значениях 15-25 км, это как раз расстояние от аэропорта Пулково до условных спальных районов Санкт-Петербурга, а именно здесь расположено основное число квартир в объявлениях. А пик в районе 37 км похож на расстояние до серерных окраин Санкт-Петербурга, где также большой массив жилой застройки."
   ]
  },
  {
   "cell_type": "code",
   "execution_count": 184,
   "id": "0f861893",
   "metadata": {},
   "outputs": [
    {
     "data": {
      "text/plain": [
       "<AxesSubplot:>"
      ]
     },
     "execution_count": 184,
     "metadata": {},
     "output_type": "execute_result"
    },
    {
     "data": {
      "image/png": "[encoded data removed]",
      "text/plain": [
       "<Figure size 576x360 with 1 Axes>"
      ]
     },
     "metadata": {
      "needs_background": "light"
     },
     "output_type": "display_data"
    }
   ],
   "source": [
    "# оценим на каком удалении расположены квартиры от парков (в тех объявлениях, где есть такие данные)\n",
    "data['parks_nearest'].hist(bins=15, figsize=(8,5), alpha=0.6, color='g')"
   ]
  },
  {
   "cell_type": "code",
   "execution_count": 185,
   "id": "d126bc42",
   "metadata": {},
   "outputs": [
    {
     "data": {
      "text/plain": [
       "4806"
      ]
     },
     "execution_count": 185,
     "metadata": {},
     "output_type": "execute_result"
    }
   ],
   "source": [
    "data[data['parks_nearest']<800]['total_area'].count()"
   ]
  },
  {
   "cell_type": "markdown",
   "id": "8c717ff5",
   "metadata": {},
   "source": [
    "В пределах 800 м от большинства квартир (с поправкой - среди объявлений где этот параметр указан!) расположены парки."
   ]
  },
  {
   "cell_type": "code",
   "execution_count": 186,
   "id": "bd3746a8",
   "metadata": {},
   "outputs": [
    {
     "data": {
      "text/plain": [
       "<AxesSubplot:xlabel='month'>"
      ]
     },
     "execution_count": 186,
     "metadata": {},
     "output_type": "execute_result"
    },
    {
     "data": {
      "image/png": "[encoded data removed]",
      "text/plain": [
       "<Figure size 576x360 with 1 Axes>"
      ]
     },
     "metadata": {
      "needs_background": "light"
     },
     "output_type": "display_data"
    }
   ],
   "source": [
    "# сгруппируем объявления по месяцу первой публикации и посмотрим на распределение\n",
    "data_months = data.pivot_table(index='month_first_exp', \n",
    "                               values='total_area', aggfunc='count')\n",
    "data_months = data_months.reset_index()\n",
    "data_months.columns=['month','count']\n",
    "data_months.plot(kind='bar', x='month', y='count',\n",
    "                      alpha=0.7, label='кол-во объявлений', figsize=(8,5), color='g', rot=0)"
   ]
  },
  {
   "cell_type": "markdown",
   "id": "1b04ecab",
   "metadata": {},
   "source": [
    "В январе, мае и декабре публикуется меньше всего объявлений. Видимо праздничное настроение отодвигает дела на второй план. А вот с фераля по апрель и с сентября по ноябрь активность пользователей ощутима - число публикаций заметно выше."
   ]
  },
  {
   "cell_type": "code",
   "execution_count": 187,
   "id": "366cf5f0",
   "metadata": {},
   "outputs": [
    {
     "data": {
      "image/png": "[encoded data removed]",
      "text/plain": [
       "<Figure size 504x288 with 1 Axes>"
      ]
     },
     "metadata": {
      "needs_background": "light"
     },
     "output_type": "display_data"
    }
   ],
   "source": [
    "# сгруппируем объявления по дню недели первой публикации и посмотрим на распределение\n",
    "data_days = data.pivot_table(index='weekday_first_exp', \n",
    "                               values='total_area', aggfunc='count')\n",
    "data_days = data_days.reset_index()\n",
    "data_days.columns=['weekday','count']\n",
    "# создадим датафрейм с названиями дней недели\n",
    "weekdays = pd.DataFrame({'name':['Понедельник', 'Вторник', 'Среда','Четверг',\n",
    "                                 'Пятница', 'Суббота', 'Воскресенье']})\n",
    "# добавим в сводную таблицу названия дней недели\n",
    "data_days = data_days.join(weekdays, on='weekday')\n",
    "# посмотрим на гистограмму публикаций по дням недели\n",
    "data_days.plot(kind='bar', x='name', y='count',\n",
    "                      alpha=0.7, label='кол-во объявлений', color='g', figsize=(7,4), rot=45)\n",
    "plt.show()"
   ]
  },
  {
   "cell_type": "markdown",
   "id": "38844300",
   "metadata": {},
   "source": [
    "Выходные есть выходные, пользователи более чем в 2 раза реже публикуют объявления в субботу и воскресенье."
   ]
  },
  {
   "cell_type": "markdown",
   "id": "625061a0",
   "metadata": {},
   "source": [
    "### Как быстро продаются квартиры?"
   ]
  },
  {
   "cell_type": "code",
   "execution_count": 188,
   "id": "55fa7a0c",
   "metadata": {},
   "outputs": [
    {
     "data": {
      "text/plain": [
       "array([[<AxesSubplot:title={'center':'days_exposition'}>]], dtype=object)"
      ]
     },
     "execution_count": 188,
     "metadata": {},
     "output_type": "execute_result"
    },
    {
     "data": {
      "image/png": "[encoded data removed]",
      "text/plain": [
       "<Figure size 432x288 with 1 Axes>"
      ]
     },
     "metadata": {
      "needs_background": "light"
     },
     "output_type": "display_data"
    }
   ],
   "source": [
    "#в столбце дней размещения объявления имеются значения, говорящие о том, \n",
    "# что квартира на момент выгрузки еще продается. \n",
    "# Отбросим их. Приведем значения к целочисленному типу и построим гистограмму\n",
    "\n",
    "data_sales = data.query('days_exposition != \"еще продается\"').loc[:,['days_exposition']]\n",
    "data_sales = data_sales.astype('int')\n",
    "data_sales.hist(bins=40, range=(0,1000))"
   ]
  },
  {
   "cell_type": "code",
   "execution_count": 189,
   "id": "0cfe5567",
   "metadata": {},
   "outputs": [
    {
     "data": {
      "text/plain": [
       "<AxesSubplot:>"
      ]
     },
     "execution_count": 189,
     "metadata": {},
     "output_type": "execute_result"
    },
    {
     "data": {
      "image/png": "[encoded data removed]",
      "text/plain": [
       "<Figure size 432x288 with 1 Axes>"
      ]
     },
     "metadata": {
      "needs_background": "light"
     },
     "output_type": "display_data"
    }
   ],
   "source": [
    "# посмотрим диаграмму размаха\n",
    "data_sales.boxplot()"
   ]
  },
  {
   "cell_type": "code",
   "execution_count": 190,
   "id": "394a3789",
   "metadata": {},
   "outputs": [
    {
     "data": {
      "text/html": [
       "<div>\n",
       "<style scoped>\n",
       "    .dataframe tbody tr th:only-of-type {\n",
       "        vertical-align: middle;\n",
       "    }\n",
       "\n",
       "    .dataframe tbody tr th {\n",
       "        vertical-align: top;\n",
       "    }\n",
       "\n",
       "    .dataframe thead th {\n",
       "        text-align: right;\n",
       "    }\n",
       "</style>\n",
       "<table border=\"1\" class=\"dataframe\">\n",
       "  <thead>\n",
       "    <tr style=\"text-align: right;\">\n",
       "      <th></th>\n",
       "      <th>days_exposition</th>\n",
       "    </tr>\n",
       "  </thead>\n",
       "  <tbody>\n",
       "    <tr>\n",
       "      <th>count</th>\n",
       "      <td>11774.000000</td>\n",
       "    </tr>\n",
       "    <tr>\n",
       "      <th>mean</th>\n",
       "      <td>191.276881</td>\n",
       "    </tr>\n",
       "    <tr>\n",
       "      <th>std</th>\n",
       "      <td>229.339722</td>\n",
       "    </tr>\n",
       "    <tr>\n",
       "      <th>min</th>\n",
       "      <td>1.000000</td>\n",
       "    </tr>\n",
       "    <tr>\n",
       "      <th>25%</th>\n",
       "      <td>45.000000</td>\n",
       "    </tr>\n",
       "    <tr>\n",
       "      <th>50%</th>\n",
       "      <td>104.000000</td>\n",
       "    </tr>\n",
       "    <tr>\n",
       "      <th>75%</th>\n",
       "      <td>249.000000</td>\n",
       "    </tr>\n",
       "    <tr>\n",
       "      <th>max</th>\n",
       "      <td>1580.000000</td>\n",
       "    </tr>\n",
       "  </tbody>\n",
       "</table>\n",
       "</div>"
      ],
      "text/plain": [
       "       days_exposition\n",
       "count     11774.000000\n",
       "mean        191.276881\n",
       "std         229.339722\n",
       "min           1.000000\n",
       "25%          45.000000\n",
       "50%         104.000000\n",
       "75%         249.000000\n",
       "max        1580.000000"
      ]
     },
     "execution_count": 190,
     "metadata": {},
     "output_type": "execute_result"
    }
   ],
   "source": [
    "# выведем статистику по столбцу\n",
    "data_sales.describe()"
   ]
  },
  {
   "cell_type": "markdown",
   "id": "0f03efc9",
   "metadata": {},
   "source": [
    "Половина квартир (т.е. медианное значение) успевают продать за 102 дня. Большинство обявлений закрывается за 8 месяцев (240 дней). Есть и очень долгие продажи, которые \"тянут\" за собой среднее и поэтому оно равно 185 дням.\n",
    "\n",
    "Быстрые продажи - это продажи менее 45 дней, за столько дней продалось четверть квартир. Долгими можно назвать продажи за более чем 240 дней. Аномально долгие продажи превышают 540 дней."
   ]
  },
  {
   "cell_type": "markdown",
   "id": "510a689c",
   "metadata": {},
   "source": [
    "### Факторы влияния на цену"
   ]
  },
  {
   "cell_type": "code",
   "execution_count": 191,
   "id": "8f864ccd",
   "metadata": {},
   "outputs": [
    {
     "data": {
      "image/png": "[encoded data removed]",
      "text/plain": [
       "<Figure size 360x360 with 1 Axes>"
      ]
     },
     "metadata": {
      "needs_background": "light"
     },
     "output_type": "display_data"
    },
    {
     "data": {
      "image/png": "[encoded data removed]",
      "text/plain": [
       "<Figure size 360x360 with 1 Axes>"
      ]
     },
     "metadata": {
      "needs_background": "light"
     },
     "output_type": "display_data"
    },
    {
     "data": {
      "image/png": "[encoded data removed]",
      "text/plain": [
       "<Figure size 360x360 with 1 Axes>"
      ]
     },
     "metadata": {
      "needs_background": "light"
     },
     "output_type": "display_data"
    },
    {
     "data": {
      "image/png": "[encoded data removed]",
      "text/plain": [
       "<Figure size 360x360 with 1 Axes>"
      ]
     },
     "metadata": {
      "needs_background": "light"
     },
     "output_type": "display_data"
    }
   ],
   "source": [
    "# попробуем оценить зависимость цены квартиры от общей площади для наиболее часто \n",
    "# встречающегося в объявленяих числа комнат (1-4)\n",
    "for i in range(1,5):\n",
    "    (data[(data['last_price']<20000000) & (data['rooms']==i)]\n",
    "     .plot(kind='scatter', x='total_area', y='last_price', figsize=(5,5), label=f'комнат: {i}')\n",
    "    )"
   ]
  },
  {
   "cell_type": "code",
   "execution_count": 192,
   "id": "305c2ee3",
   "metadata": {},
   "outputs": [
    {
     "data": {
      "text/plain": [
       "0.7134023964199238"
      ]
     },
     "execution_count": 192,
     "metadata": {},
     "output_type": "execute_result"
    }
   ],
   "source": [
    "# вычислим коэффициент корреляции Пирсона\n",
    "data['last_price'].corr(data['total_area'])"
   ]
  },
  {
   "cell_type": "markdown",
   "id": "89f4770f",
   "metadata": {},
   "source": [
    "Значение коэффициента корреляции Пирсона для пары \"цена-общая площадь\" говорит о достаточно сильной зависимости, что можно наблюдать и на диаграммах рассеяния. Цена следует за ростом общей площади в прямой зависимости."
   ]
  },
  {
   "cell_type": "code",
   "execution_count": 193,
   "id": "5dcab67f",
   "metadata": {},
   "outputs": [
    {
     "data": {
      "image/png": "[encoded data removed]",
      "text/plain": [
       "<Figure size 360x360 with 1 Axes>"
      ]
     },
     "metadata": {
      "needs_background": "light"
     },
     "output_type": "display_data"
    },
    {
     "data": {
      "image/png": "[encoded data removed]",
      "text/plain": [
       "<Figure size 360x360 with 1 Axes>"
      ]
     },
     "metadata": {
      "needs_background": "light"
     },
     "output_type": "display_data"
    },
    {
     "data": {
      "image/png": "[encoded data removed]",
      "text/plain": [
       "<Figure size 360x360 with 1 Axes>"
      ]
     },
     "metadata": {
      "needs_background": "light"
     },
     "output_type": "display_data"
    },
    {
     "data": {
      "image/png": "[encoded data removed]",
      "text/plain": [
       "<Figure size 360x360 with 1 Axes>"
      ]
     },
     "metadata": {
      "needs_background": "light"
     },
     "output_type": "display_data"
    }
   ],
   "source": [
    "# повторим аналогичные действия для оценки зависимости цены квартиры от жилой площади\n",
    "# для наиболее часто встречающегося в объявленяих числа комнат (1-4)\n",
    "for i in range(1,5):\n",
    "    (data[(data['last_price']<20000000) & (data['rooms']==i)]\n",
    "     .plot(kind='scatter', x='living_area', y='last_price', figsize=(5,5), label=f'комнат: {i}')\n",
    "    )"
   ]
  },
  {
   "cell_type": "code",
   "execution_count": 194,
   "id": "c1b9654b",
   "metadata": {},
   "outputs": [
    {
     "data": {
      "text/plain": [
       "0.6046424950006628"
      ]
     },
     "execution_count": 194,
     "metadata": {},
     "output_type": "execute_result"
    }
   ],
   "source": [
    "# вычислим коэффициент корреляции Пирсона\n",
    "data['last_price'].corr(data['living_area'])"
   ]
  },
  {
   "cell_type": "markdown",
   "id": "d425aa35",
   "metadata": {},
   "source": [
    "Значение коэффициента корреляции Пирсона для пары \"цена-жилая площадь\" свидетельствует о наличии зависимости, но менее сильной чем для общей площади. На графике для 1-комнатных квартир уже сложнее увидеть тренд."
   ]
  },
  {
   "cell_type": "code",
   "execution_count": 195,
   "id": "97190272",
   "metadata": {},
   "outputs": [
    {
     "data": {
      "text/plain": [
       "<AxesSubplot:xlabel='kitchen_area', ylabel='last_price'>"
      ]
     },
     "execution_count": 195,
     "metadata": {},
     "output_type": "execute_result"
    },
    {
     "data": {
      "image/png": "[encoded data removed]",
      "text/plain": [
       "<Figure size 864x432 with 1 Axes>"
      ]
     },
     "metadata": {
      "needs_background": "light"
     },
     "output_type": "display_data"
    }
   ],
   "source": [
    "# посмотрим диаграмму рассеяния для пары \"цена-площадь кухни\"\n",
    "data.plot(kind='scatter', x='kitchen_area', y='last_price', figsize=(12,6))"
   ]
  },
  {
   "cell_type": "code",
   "execution_count": 196,
   "id": "635a3cbe",
   "metadata": {},
   "outputs": [
    {
     "data": {
      "text/plain": [
       "0.5597199615779032"
      ]
     },
     "execution_count": 196,
     "metadata": {},
     "output_type": "execute_result"
    }
   ],
   "source": [
    "# вычислим коэффициент корреляции Пирсона\n",
    "data['last_price'].corr(data['kitchen_area'])"
   ]
  },
  {
   "cell_type": "markdown",
   "id": "7d5a5768",
   "metadata": {},
   "source": [
    "Ярко выраженной зависимости цены квартиры от площади кухни не наблюдается. Связь слабая."
   ]
  },
  {
   "cell_type": "code",
   "execution_count": 197,
   "id": "6ffa94d1",
   "metadata": {},
   "outputs": [
    {
     "data": {
      "text/plain": [
       "<AxesSubplot:xlabel='rooms'>"
      ]
     },
     "execution_count": 197,
     "metadata": {},
     "output_type": "execute_result"
    },
    {
     "data": {
      "image/png": "[encoded data removed]",
      "text/plain": [
       "<Figure size 504x360 with 1 Axes>"
      ]
     },
     "metadata": {
      "needs_background": "light"
     },
     "output_type": "display_data"
    }
   ],
   "source": [
    "#посмотрим на завимисоть цены от числа комнат\n",
    "(data.pivot_table(index='rooms', values='last_price', aggfunc='mean')\n",
    " .plot(kind='bar', y='last_price',alpha=0.5, \n",
    "       label='цена', color='b', figsize=(7,5), rot=0)\n",
    ")"
   ]
  },
  {
   "cell_type": "markdown",
   "id": "865ed85e",
   "metadata": {},
   "source": [
    "Вот это да! Кто то загнул за 12-ти комнатную квартиру заоблачную цену.\n",
    "\n",
    "Адекватно оценить зависимость возможно для 1-5 комнатных квартир, для больших значений единичные публикации с существенным разбросом цены не являются показательными для набора данных.\n"
   ]
  },
  {
   "cell_type": "code",
   "execution_count": 198,
   "id": "714803bb",
   "metadata": {},
   "outputs": [
    {
     "data": {
      "image/png": "[encoded data removed]",
      "text/plain": [
       "<Figure size 360x288 with 1 Axes>"
      ]
     },
     "metadata": {
      "needs_background": "light"
     },
     "output_type": "display_data"
    }
   ],
   "source": [
    "# многокомнатные квартиры единичины и мешают корректно оценить распределение\n",
    "# рассмотрим только наиболее распространенные квартиры\n",
    "(data[data['rooms']<6].pivot_table(index='rooms', values='last_price', aggfunc='mean')\n",
    " .plot(kind='bar', y='last_price',alpha=0.5, \n",
    "       label='цена', color='b', figsize=(5,4), rot=0)\n",
    ")\n",
    "plt.show()"
   ]
  },
  {
   "cell_type": "markdown",
   "id": "9bf538f4",
   "metadata": {},
   "source": [
    "Логичным образом с ростом числа комнат растет и цена квартиры. Для многокомнатных квартир эта зависимость теряется - сказывается уникальность того или иного объекта."
   ]
  },
  {
   "cell_type": "code",
   "execution_count": 199,
   "id": "296c45b4",
   "metadata": {},
   "outputs": [
    {
     "data": {
      "image/png": "[encoded data removed]",
      "text/plain": [
       "<Figure size 648x360 with 1 Axes>"
      ]
     },
     "metadata": {
      "needs_background": "light"
     },
     "output_type": "display_data"
    }
   ],
   "source": [
    "# проверим есть ли зависимость цены от типа этажа (первый, последний, другой)\n",
    "# логичным будет сравнить цены в разрезе числа комнат\n",
    "# для анализа возьмем только наимболее встречающиеся квартиры с числом комнат от 1 до 6\n",
    "# чтобы выбросы уникальных значений не повлияли на результат\n",
    "\n",
    "# сгруппируем данные по числу комнат и типу этажа\n",
    "data_floor = data.query('rooms<7').pivot_table(index=['rooms', 'floor_feat'], \n",
    "                 values='last_price', aggfunc=['mean', 'count'])\n",
    "data_floor = data_floor.reset_index()\n",
    "data_floor.columns=['rooms','floor_feat','price_median','count']\n",
    "\n",
    "# перегруппируем таблицу, перенеся значения срезов по типу этажа в столбцы\n",
    "data_floor_wide = data_floor.query('floor_feat==\"первый\"').groupby('rooms').agg(\n",
    "    {'price_median':'median'})\n",
    "data_floor_wide.columns=['price_fst']\n",
    "# добавляем столбцы с медианными ценами квартир для остальных типов этажей\n",
    "data_floor_wide['price_any'] = data_floor.query('floor_feat==\"другой\"').groupby('rooms').agg({'price_median':'median'})['price_median']\n",
    "data_floor_wide['price_lst'] = data_floor.query('floor_feat==\"последний\"').groupby('rooms').agg({'price_median':'median'})['price_median']\n",
    "\n",
    "# строим сгруппированные столбчатые диаграммы\n",
    "data_floor_wide.plot(kind='bar', y=['price_fst','price_any','price_lst'],alpha=0.5,\n",
    "                     label=['цена на первом этаже','цена на среднем этаже','цена на последнем этаже'],\n",
    "                     color=['r','g','b'], figsize=(9,5), rot=0)\n",
    "plt.show()"
   ]
  },
  {
   "cell_type": "markdown",
   "id": "f3aeb160",
   "metadata": {},
   "source": [
    "Для 1-4 -комнатных квартир средние этажи преимущество - цены на них выше. Цена на первом этаже всегда ниже остальных этажей. Для квартир с пятью и более комнатами сказывается малое число объявлений, но и здесь закономерность для квартир на первом этаже сохранется. Объяснимо сравнительно большая стоимость квартир на последних этажах для 5 и более комнат - похоже это дорогие пентхаусы."
   ]
  },
  {
   "cell_type": "markdown",
   "id": "d5b33e97",
   "metadata": {},
   "source": [
    "Посмотрим на цены в разрезе типа этажа, независимо от других параметров:"
   ]
  },
  {
   "cell_type": "code",
   "execution_count": 200,
   "id": "f0687132",
   "metadata": {},
   "outputs": [
    {
     "data": {
      "text/html": [
       "<div>\n",
       "<style scoped>\n",
       "    .dataframe tbody tr th:only-of-type {\n",
       "        vertical-align: middle;\n",
       "    }\n",
       "\n",
       "    .dataframe tbody tr th {\n",
       "        vertical-align: top;\n",
       "    }\n",
       "\n",
       "    .dataframe thead th {\n",
       "        text-align: right;\n",
       "    }\n",
       "</style>\n",
       "<table border=\"1\" class=\"dataframe\">\n",
       "  <thead>\n",
       "    <tr style=\"text-align: right;\">\n",
       "      <th></th>\n",
       "      <th>last_price</th>\n",
       "    </tr>\n",
       "    <tr>\n",
       "      <th>floor_feat</th>\n",
       "      <th></th>\n",
       "    </tr>\n",
       "  </thead>\n",
       "  <tbody>\n",
       "    <tr>\n",
       "      <th>другой</th>\n",
       "      <td>5100000.0</td>\n",
       "    </tr>\n",
       "    <tr>\n",
       "      <th>первый</th>\n",
       "      <td>4100000.0</td>\n",
       "    </tr>\n",
       "    <tr>\n",
       "      <th>последний</th>\n",
       "      <td>4597000.0</td>\n",
       "    </tr>\n",
       "  </tbody>\n",
       "</table>\n",
       "</div>"
      ],
      "text/plain": [
       "            last_price\n",
       "floor_feat            \n",
       "другой       5100000.0\n",
       "первый       4100000.0\n",
       "последний    4597000.0"
      ]
     },
     "execution_count": 200,
     "metadata": {},
     "output_type": "execute_result"
    }
   ],
   "source": [
    "# создадим сводную таблицу по типу этажа с вычислением медианных цен по группам\n",
    "data.pivot_table(index='floor_feat', values='last_price', aggfunc='median')"
   ]
  },
  {
   "cell_type": "code",
   "execution_count": 201,
   "id": "a8c3410c",
   "metadata": {},
   "outputs": [
    {
     "data": {
      "image/png": "[encoded data removed]",
      "text/plain": [
       "<Figure size 360x360 with 1 Axes>"
      ]
     },
     "metadata": {
      "needs_background": "light"
     },
     "output_type": "display_data"
    }
   ],
   "source": [
    "# для визуального сравнения построим столбчатую диаграмму\n",
    "data.pivot_table(index='floor_feat', values='last_price', aggfunc='median').plot(\n",
    "    kind='bar', y='last_price', alpha=0.5, label='цена по типу этажей', color='g', figsize=(5,5), rot=0)\n",
    "plt.show()"
   ]
  },
  {
   "cell_type": "markdown",
   "id": "27774d6b",
   "metadata": {},
   "source": [
    "В общей массе цены квартир на первом этаже ниже цен других этажей. Дороже всего стоят квартиры на средних этажах, видимо на них меньше вляют негативные факторы - восприятие первого и последнего этажа."
   ]
  },
  {
   "cell_type": "markdown",
   "id": "76c4cc75",
   "metadata": {},
   "source": [
    "Поанализируем зависимость цены от даты публикаци объявления (день недели, месяц, год)."
   ]
  },
  {
   "cell_type": "code",
   "execution_count": 202,
   "id": "2707c5ec",
   "metadata": {},
   "outputs": [
    {
     "data": {
      "text/html": [
       "<div>\n",
       "<style scoped>\n",
       "    .dataframe tbody tr th:only-of-type {\n",
       "        vertical-align: middle;\n",
       "    }\n",
       "\n",
       "    .dataframe tbody tr th {\n",
       "        vertical-align: top;\n",
       "    }\n",
       "\n",
       "    .dataframe thead th {\n",
       "        text-align: right;\n",
       "    }\n",
       "</style>\n",
       "<table border=\"1\" class=\"dataframe\">\n",
       "  <thead>\n",
       "    <tr style=\"text-align: right;\">\n",
       "      <th></th>\n",
       "      <th>year</th>\n",
       "      <th>month</th>\n",
       "      <th>weekday</th>\n",
       "      <th>price_mean</th>\n",
       "      <th>price_median</th>\n",
       "      <th>count</th>\n",
       "    </tr>\n",
       "  </thead>\n",
       "  <tbody>\n",
       "    <tr>\n",
       "      <th>0</th>\n",
       "      <td>2014</td>\n",
       "      <td>11</td>\n",
       "      <td>3</td>\n",
       "      <td>1.245700e+07</td>\n",
       "      <td>13280560.0</td>\n",
       "      <td>10</td>\n",
       "    </tr>\n",
       "    <tr>\n",
       "      <th>1</th>\n",
       "      <td>2014</td>\n",
       "      <td>11</td>\n",
       "      <td>5</td>\n",
       "      <td>5.500000e+06</td>\n",
       "      <td>5500000.0</td>\n",
       "      <td>1</td>\n",
       "    </tr>\n",
       "    <tr>\n",
       "      <th>2</th>\n",
       "      <td>2014</td>\n",
       "      <td>12</td>\n",
       "      <td>0</td>\n",
       "      <td>8.832455e+06</td>\n",
       "      <td>5350000.0</td>\n",
       "      <td>11</td>\n",
       "    </tr>\n",
       "    <tr>\n",
       "      <th>3</th>\n",
       "      <td>2014</td>\n",
       "      <td>12</td>\n",
       "      <td>1</td>\n",
       "      <td>1.776068e+07</td>\n",
       "      <td>10650000.0</td>\n",
       "      <td>20</td>\n",
       "    </tr>\n",
       "    <tr>\n",
       "      <th>4</th>\n",
       "      <td>2014</td>\n",
       "      <td>12</td>\n",
       "      <td>2</td>\n",
       "      <td>1.047205e+07</td>\n",
       "      <td>6200000.0</td>\n",
       "      <td>19</td>\n",
       "    </tr>\n",
       "    <tr>\n",
       "      <th>...</th>\n",
       "      <td>...</td>\n",
       "      <td>...</td>\n",
       "      <td>...</td>\n",
       "      <td>...</td>\n",
       "      <td>...</td>\n",
       "      <td>...</td>\n",
       "    </tr>\n",
       "    <tr>\n",
       "      <th>369</th>\n",
       "      <td>2019</td>\n",
       "      <td>4</td>\n",
       "      <td>5</td>\n",
       "      <td>5.231264e+06</td>\n",
       "      <td>4500000.0</td>\n",
       "      <td>53</td>\n",
       "    </tr>\n",
       "    <tr>\n",
       "      <th>370</th>\n",
       "      <td>2019</td>\n",
       "      <td>4</td>\n",
       "      <td>6</td>\n",
       "      <td>5.320875e+06</td>\n",
       "      <td>4627500.0</td>\n",
       "      <td>40</td>\n",
       "    </tr>\n",
       "    <tr>\n",
       "      <th>371</th>\n",
       "      <td>2019</td>\n",
       "      <td>5</td>\n",
       "      <td>2</td>\n",
       "      <td>8.852316e+06</td>\n",
       "      <td>5600000.0</td>\n",
       "      <td>25</td>\n",
       "    </tr>\n",
       "    <tr>\n",
       "      <th>372</th>\n",
       "      <td>2019</td>\n",
       "      <td>5</td>\n",
       "      <td>3</td>\n",
       "      <td>8.486760e+06</td>\n",
       "      <td>5250000.0</td>\n",
       "      <td>8</td>\n",
       "    </tr>\n",
       "    <tr>\n",
       "      <th>373</th>\n",
       "      <td>2019</td>\n",
       "      <td>5</td>\n",
       "      <td>4</td>\n",
       "      <td>5.303077e+06</td>\n",
       "      <td>4300000.0</td>\n",
       "      <td>13</td>\n",
       "    </tr>\n",
       "  </tbody>\n",
       "</table>\n",
       "<p>374 rows × 6 columns</p>\n",
       "</div>"
      ],
      "text/plain": [
       "     year  month  weekday    price_mean  price_median  count\n",
       "0    2014     11        3  1.245700e+07    13280560.0     10\n",
       "1    2014     11        5  5.500000e+06     5500000.0      1\n",
       "2    2014     12        0  8.832455e+06     5350000.0     11\n",
       "3    2014     12        1  1.776068e+07    10650000.0     20\n",
       "4    2014     12        2  1.047205e+07     6200000.0     19\n",
       "..    ...    ...      ...           ...           ...    ...\n",
       "369  2019      4        5  5.231264e+06     4500000.0     53\n",
       "370  2019      4        6  5.320875e+06     4627500.0     40\n",
       "371  2019      5        2  8.852316e+06     5600000.0     25\n",
       "372  2019      5        3  8.486760e+06     5250000.0      8\n",
       "373  2019      5        4  5.303077e+06     4300000.0     13\n",
       "\n",
       "[374 rows x 6 columns]"
      ]
     },
     "execution_count": 202,
     "metadata": {},
     "output_type": "execute_result"
    }
   ],
   "source": [
    "#сгруппируем цены по годам, месяцам и дням недели и\n",
    "data_date = data.pivot_table(index=['year_first_exp','month_first_exp','weekday_first_exp'], \n",
    "                 values='last_price', aggfunc=['mean', 'median', 'count'])\n",
    "data_date = data_date.reset_index()\n",
    "data_date.columns=['year','month','weekday','price_mean','price_median','count']\n",
    "#посмотрим результат\n",
    "data_date"
   ]
  },
  {
   "cell_type": "code",
   "execution_count": 203,
   "id": "e04633d5",
   "metadata": {},
   "outputs": [
    {
     "data": {
      "image/png": "[encoded data removed]",
      "text/plain": [
       "<Figure size 504x360 with 1 Axes>"
      ]
     },
     "metadata": {
      "needs_background": "light"
     },
     "output_type": "display_data"
    },
    {
     "data": {
      "text/html": [
       "<div>\n",
       "<style scoped>\n",
       "    .dataframe tbody tr th:only-of-type {\n",
       "        vertical-align: middle;\n",
       "    }\n",
       "\n",
       "    .dataframe tbody tr th {\n",
       "        vertical-align: top;\n",
       "    }\n",
       "\n",
       "    .dataframe thead th {\n",
       "        text-align: right;\n",
       "    }\n",
       "</style>\n",
       "<table border=\"1\" class=\"dataframe\">\n",
       "  <thead>\n",
       "    <tr style=\"text-align: right;\">\n",
       "      <th></th>\n",
       "      <th>count</th>\n",
       "    </tr>\n",
       "    <tr>\n",
       "      <th>year</th>\n",
       "      <th></th>\n",
       "    </tr>\n",
       "  </thead>\n",
       "  <tbody>\n",
       "    <tr>\n",
       "      <th>2014</th>\n",
       "      <td>75</td>\n",
       "    </tr>\n",
       "    <tr>\n",
       "      <th>2015</th>\n",
       "      <td>598</td>\n",
       "    </tr>\n",
       "    <tr>\n",
       "      <th>2016</th>\n",
       "      <td>1340</td>\n",
       "    </tr>\n",
       "    <tr>\n",
       "      <th>2017</th>\n",
       "      <td>4365</td>\n",
       "    </tr>\n",
       "    <tr>\n",
       "      <th>2018</th>\n",
       "      <td>5659</td>\n",
       "    </tr>\n",
       "    <tr>\n",
       "      <th>2019</th>\n",
       "      <td>2162</td>\n",
       "    </tr>\n",
       "  </tbody>\n",
       "</table>\n",
       "</div>"
      ],
      "text/plain": [
       "      count\n",
       "year       \n",
       "2014     75\n",
       "2015    598\n",
       "2016   1340\n",
       "2017   4365\n",
       "2018   5659\n",
       "2019   2162"
      ]
     },
     "execution_count": 203,
     "metadata": {},
     "output_type": "execute_result"
    }
   ],
   "source": [
    "# построим столбчатые диаграммы цен для сгруппированных данных \n",
    "# для сравнения выведем средние значения и медианы\n",
    "# группируем по году публикации\n",
    "(data_date.groupby('year').\n",
    " agg({'price_median':'median','price_mean':'mean'})\n",
    " .plot(kind='bar', y=['price_median','price_mean'],alpha=0.5, label=['цена-медиана', 'цена-среднее'], \n",
    "       color=['r','b'], figsize=(7,5), rot=0)\n",
    ")\n",
    "plt.show()\n",
    "#учтем количество публикаций\n",
    "data_date.groupby('year').agg({'count':'sum'})"
   ]
  },
  {
   "cell_type": "markdown",
   "id": "801c658f",
   "metadata": {},
   "source": [
    "Можно наблюдать снижение значений среднего и медианы к 2016 году и дальнейшее возрастание значений цен. Но необходимо принять во внимание число публикаций - оно было максимальным в 2017-2018 годах."
   ]
  },
  {
   "cell_type": "code",
   "execution_count": 204,
   "id": "4b1e916b",
   "metadata": {},
   "outputs": [
    {
     "data": {
      "image/png": "[encoded data removed]",
      "text/plain": [
       "<Figure size 720x360 with 1 Axes>"
      ]
     },
     "metadata": {
      "needs_background": "light"
     },
     "output_type": "display_data"
    }
   ],
   "source": [
    "# построим столбчатые диаграммы цен для сгруппированных данных \n",
    "# для сравнения выведем средние значения и медианы\n",
    "# сгруппируем по месяцу публикации\n",
    "(data_date.groupby('month').\n",
    " agg({'price_median':'median','price_mean':'mean'})\n",
    " .plot(kind='bar', y=['price_median','price_mean'],alpha=0.5, label=['цена-медиана', 'цена-среднее'], \n",
    "       color=['r','b'], figsize=(10,5), rot=0)\n",
    ")\n",
    "plt.show()"
   ]
  },
  {
   "cell_type": "markdown",
   "id": "cfccb8b9",
   "metadata": {},
   "source": [
    "Не учитывая колебаний среднего, которое подвержено влиянию выбросов, значимой зависимости значений цены от месяца года выявить не получается."
   ]
  },
  {
   "cell_type": "code",
   "execution_count": 205,
   "id": "d553a735",
   "metadata": {},
   "outputs": [
    {
     "data": {
      "image/png": "[encoded data removed]",
      "text/plain": [
       "<Figure size 504x360 with 1 Axes>"
      ]
     },
     "metadata": {
      "needs_background": "light"
     },
     "output_type": "display_data"
    }
   ],
   "source": [
    "# построим столбчатые диаграммы цен для сгруппированных данных \n",
    "# для сравнения выведем средние значения и медианы\n",
    "# сгруппируем по дню недели публикации\n",
    "\n",
    "# ранее у нас уже определена переменная weekdays с названиями дней недели\n",
    "(data_date.groupby('weekday').agg({'price_median':'median','price_mean':'mean'})\n",
    " .join(weekdays, on='weekday')\n",
    " .plot(kind='bar', x='name', y=['price_median','price_mean'],alpha=0.5, \n",
    "       label=['цена-медиана', 'цена-среднее'], \n",
    "       color=['r','b'], figsize=(7,5), rot=45)\n",
    ")\n",
    "plt.show()\n"
   ]
  },
  {
   "cell_type": "markdown",
   "id": "9431ec66",
   "metadata": {},
   "source": [
    "Один или несколько выбросов цены пришлись на четверг, поэтому среднее значение цены здесь выше. В остальном зависимости от дней недели цены квартир не наблюдается."
   ]
  },
  {
   "cell_type": "markdown",
   "id": "155f6d95",
   "metadata": {},
   "source": [
    "### Топ-10 населенных пунктов по числу объявлений"
   ]
  },
  {
   "cell_type": "code",
   "execution_count": 206,
   "id": "c0d5c26f",
   "metadata": {},
   "outputs": [
    {
     "name": "stdout",
     "output_type": "stream",
     "text": [
      "Топ-10 населенных пунктов по числу объявлений:\n",
      "                   count  price_metre_mean\n",
      "locality_clear                            \n",
      "Санкт-Петербург     9940            115571\n",
      "Всеволожск           268             67317\n",
      "Пушкин               228            104076\n",
      "поселок Шушары       215             79244\n",
      "поселок Мурино       203             86445\n",
      "Колпино              201             75819\n",
      "Гатчина              147             70137\n",
      "Петергоф             144             85513\n",
      "поселок Парголово    136             90977\n",
      "Сестрорецк           128            102274\n",
      "Самая высокая цена квадратного метра в населенном пункте: Санкт-Петербург Цена за метр =  115571\n",
      "Самая низкая цена квадратного метра в населенном пункте: деревня Вахнова Кара Цена за метр =  11688\n"
     ]
    }
   ],
   "source": [
    "# сгрупируем данные по населенному пункту без дубликатов\n",
    "# вычислим число объявлений и среднюю цену квадратного метра\n",
    "data_locality = data.groupby('locality_clear').agg(    \n",
    "    {'total_area':'count','price_metre':'mean'}).sort_values(\n",
    "    'total_area', ascending=False)\n",
    "# переименуем столбцы\n",
    "data_locality.columns=['count','price_metre_mean']\n",
    "# цену приведем к целочисленному типу\n",
    "data_locality['price_metre_mean'] = data_locality['price_metre_mean'].astype('int')\n",
    "print('Топ-10 населенных пунктов по числу объявлений:')\n",
    "print(data_locality.head(10))\n",
    "print('Самая высокая цена квадратного метра в населенном пункте:', \n",
    "      data_locality['price_metre_mean'].idxmax(),'Цена за метр = ',\n",
    "      data_locality['price_metre_mean'].max())\n",
    "print('Самая низкая цена квадратного метра в населенном пункте:', \n",
    "      data_locality['price_metre_mean'].idxmin(),'Цена за метр = ',\n",
    "      data_locality['price_metre_mean'].min())"
   ]
  },
  {
   "cell_type": "markdown",
   "id": "05470791",
   "metadata": {},
   "source": [
    "### Километры стоят денег"
   ]
  },
  {
   "cell_type": "code",
   "execution_count": 207,
   "id": "738dbd71",
   "metadata": {},
   "outputs": [
    {
     "name": "stdout",
     "output_type": "stream",
     "text": [
      "Средние цены каждого километра от центра:\n",
      "                       price_metre\n",
      "cityCenters_nearest               \n",
      "0.0                  192787.111111\n",
      "1.0                  184199.014925\n",
      "2.0                  161687.013825\n",
      "3.0                  119420.711864\n",
      "4.0                  131509.844944\n",
      "5.0                  139937.078534\n",
      "6.0                  148509.083784\n",
      "7.0                  157242.136882\n",
      "8.0                  127226.465649\n",
      "9.0                  117185.536649\n",
      "10.0                 114936.576520\n",
      "11.0                 108762.637483\n",
      "12.0                 108402.054795\n",
      "13.0                 108100.521081\n",
      "14.0                 104042.741897\n",
      "15.0                 105084.234146\n",
      "16.0                 100945.439850\n",
      "17.0                  97481.323420\n",
      "18.0                  94889.914286\n",
      "19.0                  96597.625000\n",
      "20.0                  98381.136364\n",
      "21.0                  97993.844156\n",
      "22.0                  91597.144231\n",
      "23.0                  95767.836364\n",
      "24.0                  90830.800000\n",
      "25.0                  87803.500000\n",
      "26.0                  85062.000000\n",
      "27.0                 193919.000000\n",
      "28.0                  68468.000000\n",
      "29.0                  71899.000000\n"
     ]
    },
    {
     "data": {
      "image/png": "[encoded data removed]",
      "text/plain": [
       "<Figure size 576x360 with 1 Axes>"
      ]
     },
     "metadata": {
      "needs_background": "light"
     },
     "output_type": "display_data"
    }
   ],
   "source": [
    "# выберем квартиры в Санкт-Петербурге с заполненными данными по удаленности от центра\n",
    "# и построим сводную таблицу сгруппировав по километрам и вычислив среднее значение цены\n",
    "dt_center = data.query('(locality_clear == \"Санкт-Петербург\") and (not cityCenters_nearest.isna())')[['cityCenters_nearest','price_metre']].pivot_table(index='cityCenters_nearest', values='price_metre', aggfunc='mean')\n",
    "print('Средние цены каждого километра от центра:')\n",
    "print(dt_center)     \n",
    "dt_center.plot(kind='bar', y='price_metre', figsize=(8,5))\n",
    "plt.show()"
   ]
  },
  {
   "cell_type": "markdown",
   "id": "41bc2060",
   "metadata": {},
   "source": [
    "Жить в самом центре - роскошь. Средняя цена за метр в центре самая высокая. По мере удаления от центра цена снижается. Но в районе 7-го километра есть локальный максимум, интересно один ли район города вносит вклад в этот рост или сказывается наличие на этом удалении жилых массивов? Изменение цены после 7-го километра возможно и определяет центр города."
   ]
  },
  {
   "cell_type": "markdown",
   "id": "57cccb3d",
   "metadata": {},
   "source": [
    "#### Результаты и выводы\n",
    "Согласно поставленной задачи предстояло обработать данные сервиса Яндекс Недвижимость за несколько лет о продаже квартир в Санкт-петрбурге и соседних населенных пунктах, изучить их. \n",
    "Целью было найти интересные особенности и зависимости, которые существуют на рынке недвижимости.\n",
    "\n",
    "##### Наблюдения по исходным данным\n",
    "\n",
    "1. Данные содержат информацию более чем о 23 тыс. публикаций за 2014-2019 годы.\n",
    "2. Полнота данных была достаточной для анализа в рамках поставленной задача, однако заполнение картографических данных вызывает вопросы. Требуется отработка баг-репорта разрабочиками - отсутствует значительная часть данных по удаленности квартир от аэропорта и от центра города (более 5 тыс. публикаций), от парков и водоемов (более 14 тыс. публикаций).\n",
    "3. Встречаются ошибки в занесении данных пользователями, например, значения высоты потолков. Предлагается реализовать в сервисе всплывающие уведомления для подтверждения \"подозрительных\" значений пользователем.\n",
    "4. Встречаются объявления с несогласованными значениями площади - таких выявлено 73, когда жилая площадь и площадь кухни превосходят значение общей площади. Предлагается устранить эти ошибки при вводе значений в сервисе, выдавая ошибку пользователю.\n",
    "\n",
    "##### Зависимости и выводы\n",
    "\n",
    "1.  Подавляющее число объявлений - это продажа квартир с площадью от 30 до 100 кв.м. Свыше 300 кв.м. продавалось 48 квартир. Можно сказать такие объявления редкость.\n",
    "2. Большинство объявлений это квартиры, имеющие от 1 до 3 комнат, реже 4 комнаты.\n",
    "3. Общая площадь квартир в объявлениях имеет в зависимости от комнат следующие типичные рамеры:\n",
    "    - 1-комнатные квартиры имеют площадь от 32 до 45 кв.м.\n",
    "    - 2-комнатные квартиры имеют площадь от 45 до 100 кв.м.\n",
    "    - 3-комнатные квартиры имеют площадь от 55 до 110 кв.м.\n",
    "    - 4-комнатные квартиры имеют площадь от 60 до 160 кв.м.\n",
    "4. С увеличением числа комнат жилая и общая площади растут, но размер кухни больше 20 кв.м. в основной массе объявлений не поднимается.\n",
    "5. На цены от 3.5 до 6.85 млн. руб. приходится половина объявлений о продаже квартир.\n",
    "6. По мере роста этажа квартиры, число объявлений снижается ступенями по группам:\n",
    "    - квартиры на первом этаже\n",
    "    - квартиры на 2-5 этажах\n",
    "    - квартиры на 6-9 этажах\n",
    "    - квартиры на 10 и выше этаже\n",
    "   \n",
    "   Очевидно это связано с этажностью домов основной массы жилой застройки, что подтверждается статистикой по общему числу этажей в доме. Чаще всего встречаются пятиэтажки, девятиэтажки, 16-ти и 25- этажные дома. \n",
    "7. Большинство квартир продается на средних этажах. Число публикаций о продаже квартир на первых и последних этажах почти равно.\n",
    "8. Большинство квартир в объявлениях имеет высоту потолков от 2.5 до 2.7 м.\n",
    "9. Большинство квартир в объявлениях расположены на расстоянии 8-15 км от центра.\n",
    "10. 50% квартир расположено на удалении от аэропорта 19-37 км. Это объясняется расположением крупных жилых массивов городской застройки.\n",
    "11. У более 80% квартир (где этот параметр указан) в пределах 800 м расположены парки.\n",
    "12. В январе, мае и декабре публикуется меньше всего объявлений. Пользователи более чем в 2 раза реже публикуют объявления в субботу и воскресенье.\n",
    "\n",
    "##### Как быстро продаются квартиры\n",
    "\n",
    "1. 25% квартир продают в течение 45 дней.\n",
    "2. 50% квартир успевают продать за 102 дня.\n",
    "2. 75% квартир снимают с публикации за 8 месяцев (240 дней).\n",
    "\n",
    "##### Факторы влияния на цену\n",
    "\n",
    "1. Значение коэффициента корреляции Пирсона для пары \"цена-общая площадь\" равен 0.7 и говорит о достаточно сильной зависимости. Цена следует за ростом общей площади в прямой зависимости. В меньшей степени имеется корреляция между ценой и жилой площадью, значение коэффициента равно 0.6.\n",
    "Зависимось цены от площади кухни слабая, коэффициент равен 0.5.\n",
    "\n",
    "2. Логичным образом с ростом числа комнат растет и цена квартиры. Для многокомнатных квартир (более 7 комнат) эта зависимость теряется - сказывается уникальность того или иного объекта.\n",
    "\n",
    "3. Для 1-4 -комнатных квартир средние этажи преимущество - цены на них выше. Цена на первом этаже всегда ниже остальных этажей. Сравнительно большая стоимость квартир на последних этажах для 5 и более комнат предположительно объясняется высоким классом объектов - вероятно это пентхаусы и квартиры с панорамными видами.\n",
    "\n",
    "4. Можно наблюдать снижение значений среднего и медианы цен к 2016 году и дальнейшее возрастание значений. 2014-2016 годы, судя по меньшему числу публикаций по сравнению с остальными годами, пришлись на раскрутку сервиса и возможно цена объектов была завышеной.\n",
    "\n",
    "5. Гипотеза зависимости цен от месяца или дня недели первой публикации не подтверждена.\n",
    "\n",
    "##### Топ-10 населенных пунктов по числу публикаций\n",
    "\n",
    "В лидерах по публикациям: Санкт-Петербург, поселок Мурино, поселок Шушары, Всеволожск, Пушкин, Колпино, Гатчина, поселок Парголово, деревня Кудрово, Выборг.\n",
    "\n",
    "Самая высокая цена квадратного метра в поселке Репино,  цена за метр =  127678 руб.\n",
    "\n",
    "Самая низкая цена квадратного метра в деревне Старополье, цена за метр =  10369 руб.\n",
    "\n",
    "##### Зависимость цены от расстояния до центра города\n",
    "\n",
    "Средняя цена за метр в центре самая высокая. По мере удаления от центра цена снижается. Но в районе 6-го и 7-го километра есть локальный максимум, возможно, престижные жилые районы находятся на разумном удалении от суеты центра. \n",
    "\n",
    "#### Общий вывод\n",
    "\n",
    "1. Заполнение картографических данных требует дополнительной проработки.  \n",
    "2. Предлагается реализовать проверку вводимых пользователем данных на корректность (высота потолка, согласованность значенией площадей).\n",
    "3. Судя по основному числу публикаций большинство пользователей - жители Санкт-Петербурга, в своем большинстве продающие 1-3 комнатные квартиры за 8 месяцев."
   ]
  }
 ],
 "metadata": {
  "kernelspec": {
   "display_name": "Python 3 (ipykernel)",
   "language": "python",
   "name": "python3"
  },
  "language_info": {
   "codemirror_mode": {
    "name": "ipython",
    "version": 3
   },
   "file_extension": ".py",
   "mimetype": "text/x-python",
   "name": "python",
   "nbconvert_exporter": "python",
   "pygments_lexer": "ipython3",
   "version": "3.9.12"
  },
  "toc": {
   "base_numbering": 1,
   "nav_menu": {},
   "number_sections": true,
   "sideBar": true,
   "skip_h1_title": true,
   "title_cell": "Table of Contents",
   "title_sidebar": "Contents",
   "toc_cell": true,
   "toc_position": {},
   "toc_section_display": true,
   "toc_window_display": false
  }
 },
 "nbformat": 4,
 "nbformat_minor": 5
}
