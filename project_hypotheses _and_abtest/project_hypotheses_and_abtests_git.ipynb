{
 "cells": [
  {
   "cell_type": "markdown",
   "id": "8d294708",
   "metadata": {
    "toc": true
   },
   "source": [
    "<h1>Table of Contents<span class=\"tocSkip\"></span></h1>\n",
    "<div class=\"toc\"><ul class=\"toc-item\"><li><span><a href=\"#Приоритизация-гипотез.\" data-toc-modified-id=\"Приоритизация-гипотез.-1\">Приоритизация гипотез.</a></span></li><li><span><a href=\"#Подготовка-данных\" data-toc-modified-id=\"Подготовка-данных-2\">Подготовка данных</a></span></li><li><span><a href=\"#Обработка-и-агрегирование-данных\" data-toc-modified-id=\"Обработка-и-агрегирование-данных-3\">Обработка и агрегирование данных</a></span></li><li><span><a href=\"#Анализ-A/B-теста\" data-toc-modified-id=\"Анализ-A/B-теста-4\">Анализ A/B-теста</a></span><ul class=\"toc-item\"><li><span><a href=\"#График-кумулятивной-выручки-по-группам\" data-toc-modified-id=\"График-кумулятивной-выручки-по-группам-4.1\">График кумулятивной выручки по группам</a></span></li><li><span><a href=\"#График-кумулятивного-среднего-чека-по-группам\" data-toc-modified-id=\"График-кумулятивного-среднего-чека-по-группам-4.2\">График кумулятивного среднего чека по группам</a></span></li><li><span><a href=\"#График-относительного-изменения-кумулятивного-среднего-чека-группы-B-к-группе-А\" data-toc-modified-id=\"График-относительного-изменения-кумулятивного-среднего-чека-группы-B-к-группе-А-4.3\">График относительного изменения кумулятивного среднего чека группы <code>B</code> к группе <code>А</code></a></span></li><li><span><a href=\"#График-кумулятивного-среднего-количества-заказов-на-посетителя-по-группам\" data-toc-modified-id=\"График-кумулятивного-среднего-количества-заказов-на-посетителя-по-группам-4.4\">График кумулятивного среднего количества заказов на посетителя по группам</a></span></li><li><span><a href=\"#График-относительного-изменения-кумулятивного-среднего-количества-заказов-на-посетителя-группы-B-к-группе-A\" data-toc-modified-id=\"График-относительного-изменения-кумулятивного-среднего-количества-заказов-на-посетителя-группы-B-к-группе-A-4.5\">График относительного изменения кумулятивного среднего количества заказов на посетителя группы <code>B</code> к группе <code>A</code></a></span></li><li><span><a href=\"#Точечный-график-количества-заказов-по-пользователям\" data-toc-modified-id=\"Точечный-график-количества-заказов-по-пользователям-4.6\">Точечный график количества заказов по пользователям</a></span></li><li><span><a href=\"#95-й-и-99-й-перцентили-количества-заказов-на-пользователя.--Граница-аномальных-пользователей\" data-toc-modified-id=\"95-й-и-99-й-перцентили-количества-заказов-на-пользователя.--Граница-аномальных-пользователей-4.7\">95-й и 99-й перцентили количества заказов на пользователя.  Граница аномальных пользователей</a></span></li><li><span><a href=\"#Точечный-график-стоимостей-заказов\" data-toc-modified-id=\"Точечный-график-стоимостей-заказов-4.8\">Точечный график стоимостей заказов</a></span></li><li><span><a href=\"#95-й-и-99-й-перцентили-стоимости-заказов.--Граница-аномальных-заказов\" data-toc-modified-id=\"95-й-и-99-й-перцентили-стоимости-заказов.--Граница-аномальных-заказов-4.9\">95-й и 99-й перцентили стоимости заказов.  Граница аномальных заказов</a></span></li><li><span><a href=\"#Статистическая-значимость-различий-в-среднем-количестве-заказов-на-посетителя-между-группами-по-«сырым»-данным\" data-toc-modified-id=\"Статистическая-значимость-различий-в-среднем-количестве-заказов-на-посетителя-между-группами-по-«сырым»-данным-4.10\">Статистическая значимость различий в среднем количестве заказов на посетителя между группами по «сырым» данным</a></span></li><li><span><a href=\"#Статистическая-значимость-различий-в-среднем-чеке-заказа-между-группами-по-«сырым»-данным\" data-toc-modified-id=\"Статистическая-значимость-различий-в-среднем-чеке-заказа-между-группами-по-«сырым»-данным-4.11\">Статистическая значимость различий в среднем чеке заказа между группами по «сырым» данным</a></span></li><li><span><a href=\"#Статистическая-значимость-различий-в-среднем-количестве-заказов-на-посетителя-между-группами-по-«очищенным»-данным\" data-toc-modified-id=\"Статистическая-значимость-различий-в-среднем-количестве-заказов-на-посетителя-между-группами-по-«очищенным»-данным-4.12\">Статистическая значимость различий в среднем количестве заказов на посетителя между группами по «очищенным» данным</a></span></li><li><span><a href=\"#Статистическая-значимость-различий-в-среднем-чеке-заказа-между-группами-по-«очищенным»-данным\" data-toc-modified-id=\"Статистическая-значимость-различий-в-среднем-чеке-заказа-между-группами-по-«очищенным»-данным-4.13\">Статистическая значимость различий в среднем чеке заказа между группами по «очищенным» данным</a></span></li></ul></li><li><span><a href=\"#Решение-по-результатам-теста\" data-toc-modified-id=\"Решение-по-результатам-теста-5\">Решение по результатам теста</a></span></li></ul></div>"
   ]
  },
  {
   "cell_type": "markdown",
   "id": "aff3ba45",
   "metadata": {},
   "source": [
    "Мною, как аналитику крупного интернет-магазина, совместно с отделом маркетинга подготовлен список гипотез для увеличения выручки. Требуется приоритизирровать гипотезы, запустить A/B-тест и проанализировать его результаты.\n",
    "\n",
    "*Описание данных*\n",
    "\n",
    "Файл `hypothesis.csv`:\n",
    " - Hypothesis — краткое описание гипотезы;\n",
    " - Reach — охват пользователей по 10-балльной шкале;\n",
    " - Impact — влияние на пользователей по 10-балльной шкале;\n",
    " - Confidence — уверенность в гипотезе по 10-балльной шкале;\n",
    " - Efforts — затраты ресурсов на проверку гипотезы по 10-балльной шкале. Чем больше значение Efforts, тем дороже проверка гипотезы.\n",
    "\n",
    "Файл `orders.csv`:\n",
    " - transactionId — идентификатор заказа;\n",
    " - visitorId — идентификатор пользователя, совершившего заказ;\n",
    " - date — дата, когда был совершён заказ;\n",
    " - revenue — выручка заказа;\n",
    " - group — группа A/B-теста, в которую попал заказ.\n",
    "\n",
    "Файл `visitors.csv`:\n",
    " - date — дата;\n",
    " - group — группа A/B-теста;\n",
    " - visitors — количество пользователей в указанную дату в указанной группе A/B-теста\n",
    "\n",
    "*План работы*\n",
    "\n",
    "Для отбора гипотез потребуется выполнить:\n",
    " - применить фреймворк ICE для приоритизации гипотез, отсортировать их по убыванию приоритета\n",
    " - применить фреймворк RICE для приоритизации гипотез, отсортировать их по убыванию приоритета\n",
    " - проанализировать как изменилась приоритизация гипотез при применении RICE вместо ICE, объяснить, почему так произошло\n",
    "\n",
    "По результатам A/B-теста выполнить анализ:\n",
    " - построить график кумулятивной выручки по группам. Сделать выводы и предположения.\n",
    " - построить график кумулятивного среднего чека по группам. Сделать выводы и предположения.\n",
    " - построить график относительного изменения кумулятивного среднего чека группы B к группе A. Сделать выводы и предположения.\n",
    " - построить график кумулятивного среднего количества заказов на посетителя по группам. Сделать выводы и предположения.\n",
    " - построить точечный график количества заказов по пользователям. Сделать выводы и предположения.\n",
    " - посчитать 95-й и 99-й перцентили количества заказов на пользователя. Выбрать границу для определения аномальных пользователей.\n",
    " - построить точечный график стоимостей заказов. Сделать выводы и предположения.\n",
    " - посчитать 95-й и 99-й перцентили стоимости заказов. Выбрать границу для определения аномальных заказов.\n",
    " - посчитать статистическую значимость различий в среднем количестве заказов на посетителя между группами по «сырым» данным. Сделать выводы и предположения.\n",
    " - посчитать статистическую значимость различий в среднем чеке заказа между группами по «сырым» данным. Сделать выводы и предположения.\n",
    " - посчитать статистическую значимость различий в среднем количестве заказов на посетителя между группами по «очищенным» данным. Сделать выводы и предположения.\n",
    " - посчитать статистическую значимость различий в среднем чеке заказа между группами по «очищенным» данным. Сделать выводы и предположения.\n",
    " - принять решение по результатам теста и объяснить его."
   ]
  },
  {
   "cell_type": "markdown",
   "id": "8642db8e",
   "metadata": {},
   "source": [
    "## Приоритизация гипотез."
   ]
  },
  {
   "cell_type": "code",
   "execution_count": 2,
   "id": "dd86b17c",
   "metadata": {},
   "outputs": [],
   "source": [
    "# подключаем библиотеки\n",
    "import pandas as pd\n",
    "import datetime as dt\n",
    "import scipy.stats as stats\n",
    "import numpy as np\n",
    "from datetime import datetime, timedelta\n",
    "from matplotlib import pyplot as plt"
   ]
  },
  {
   "cell_type": "code",
   "execution_count": 3,
   "id": "57bc5c17",
   "metadata": {},
   "outputs": [],
   "source": [
    "# загружаем данные из доступного источника\n",
    "try: # локально\n",
    "    hypothesis, orders, visitors = (\n",
    "        pd.read_csv('hypothesis.csv'),  # гипотезы        \n",
    "        pd.read_csv('orders.csv'), # заказы\n",
    "        pd.read_csv('visitors.csv') # посещения\n",
    "    )\n",
    "except: # обращаемся к яндексу, если не получилось локально\n",
    "    print('Локально не получилось')\n",
    "    hypothesis, orders, visitors = (\n",
    "        pd.read_csv('https://code.s3.yandex.net/datasets/hypothesis.csv'),  # гипотезы\n",
    "        pd.read_csv('https://code.s3.yandex.net/datasets/orders.csv'),  # заказы\n",
    "        pd.read_csv('https://code.s3.yandex.net/datasets/visitors.csv'),  # посещения\n",
    "        \n",
    "    )"
   ]
  },
  {
   "cell_type": "code",
   "execution_count": 4,
   "id": "2b651cf6",
   "metadata": {},
   "outputs": [],
   "source": [
    "# зададим функцию для первичного анализа датафрейма для упрощения проверок и манипуляций\n",
    "def start_info(df):\n",
    "    # имя таблицы\n",
    "    name = [x for x in globals() if globals()[x] is df][0]\n",
    "    print('\\nПервые 5 строк таблицы {}:'.format(name))\n",
    "    display(df.head())\n",
    "    print('\\nРаспределение численных значений в таблице {}:'.format(name))\n",
    "    display(df.describe())\n",
    "    # приведение к строчным буквам и замена пробелов в заголовках столбцов\n",
    "    df.columns = [x.lower().replace(' ', '_') for x in df.columns]\n",
    "    print('\\nЗаголовки приведены к змеиному стилю.  \\nИнформация о содержимом {}:'.format(name))\n",
    "    display(df.info())\n",
    "    # цикл по нечисловым столбцам для просмотра частоты значений в них\n",
    "    for x in df.columns:\n",
    "        if df[x].dtype == 'object':\n",
    "            print('\\nЧастота строк в столбце {}:'.format(x))\n",
    "            print(df[x].value_counts().sort_values(ascending=False))\n",
    "    print('\\nКоличество явных дубликатов в таблице {}:'.format(name), df.duplicated().sum())    "
   ]
  },
  {
   "cell_type": "code",
   "execution_count": 5,
   "id": "e8124fbe",
   "metadata": {},
   "outputs": [
    {
     "name": "stdout",
     "output_type": "stream",
     "text": [
      "\n",
      "Первые 5 строк таблицы hypothesis:\n"
     ]
    },
    {
     "data": {
      "text/html": [
       "<div>\n",
       "<style scoped>\n",
       "    .dataframe tbody tr th:only-of-type {\n",
       "        vertical-align: middle;\n",
       "    }\n",
       "\n",
       "    .dataframe tbody tr th {\n",
       "        vertical-align: top;\n",
       "    }\n",
       "\n",
       "    .dataframe thead th {\n",
       "        text-align: right;\n",
       "    }\n",
       "</style>\n",
       "<table border=\"1\" class=\"dataframe\">\n",
       "  <thead>\n",
       "    <tr style=\"text-align: right;\">\n",
       "      <th></th>\n",
       "      <th>Hypothesis</th>\n",
       "      <th>Reach</th>\n",
       "      <th>Impact</th>\n",
       "      <th>Confidence</th>\n",
       "      <th>Efforts</th>\n",
       "    </tr>\n",
       "  </thead>\n",
       "  <tbody>\n",
       "    <tr>\n",
       "      <th>0</th>\n",
       "      <td>Добавить два новых канала привлечения трафика,...</td>\n",
       "      <td>3</td>\n",
       "      <td>10</td>\n",
       "      <td>8</td>\n",
       "      <td>6</td>\n",
       "    </tr>\n",
       "    <tr>\n",
       "      <th>1</th>\n",
       "      <td>Запустить собственную службу доставки, что сок...</td>\n",
       "      <td>2</td>\n",
       "      <td>5</td>\n",
       "      <td>4</td>\n",
       "      <td>10</td>\n",
       "    </tr>\n",
       "    <tr>\n",
       "      <th>2</th>\n",
       "      <td>Добавить блоки рекомендаций товаров на сайт ин...</td>\n",
       "      <td>8</td>\n",
       "      <td>3</td>\n",
       "      <td>7</td>\n",
       "      <td>3</td>\n",
       "    </tr>\n",
       "    <tr>\n",
       "      <th>3</th>\n",
       "      <td>Изменить структура категорий, что увеличит кон...</td>\n",
       "      <td>8</td>\n",
       "      <td>3</td>\n",
       "      <td>3</td>\n",
       "      <td>8</td>\n",
       "    </tr>\n",
       "    <tr>\n",
       "      <th>4</th>\n",
       "      <td>Изменить цвет фона главной страницы, чтобы уве...</td>\n",
       "      <td>3</td>\n",
       "      <td>1</td>\n",
       "      <td>1</td>\n",
       "      <td>1</td>\n",
       "    </tr>\n",
       "  </tbody>\n",
       "</table>\n",
       "</div>"
      ],
      "text/plain": [
       "                                          Hypothesis  Reach  Impact  \\\n",
       "0  Добавить два новых канала привлечения трафика,...      3      10   \n",
       "1  Запустить собственную службу доставки, что сок...      2       5   \n",
       "2  Добавить блоки рекомендаций товаров на сайт ин...      8       3   \n",
       "3  Изменить структура категорий, что увеличит кон...      8       3   \n",
       "4  Изменить цвет фона главной страницы, чтобы уве...      3       1   \n",
       "\n",
       "   Confidence  Efforts  \n",
       "0           8        6  \n",
       "1           4       10  \n",
       "2           7        3  \n",
       "3           3        8  \n",
       "4           1        1  "
      ]
     },
     "metadata": {},
     "output_type": "display_data"
    },
    {
     "name": "stdout",
     "output_type": "stream",
     "text": [
      "\n",
      "Распределение численных значений в таблице hypothesis:\n"
     ]
    },
    {
     "data": {
      "text/html": [
       "<div>\n",
       "<style scoped>\n",
       "    .dataframe tbody tr th:only-of-type {\n",
       "        vertical-align: middle;\n",
       "    }\n",
       "\n",
       "    .dataframe tbody tr th {\n",
       "        vertical-align: top;\n",
       "    }\n",
       "\n",
       "    .dataframe thead th {\n",
       "        text-align: right;\n",
       "    }\n",
       "</style>\n",
       "<table border=\"1\" class=\"dataframe\">\n",
       "  <thead>\n",
       "    <tr style=\"text-align: right;\">\n",
       "      <th></th>\n",
       "      <th>Reach</th>\n",
       "      <th>Impact</th>\n",
       "      <th>Confidence</th>\n",
       "      <th>Efforts</th>\n",
       "    </tr>\n",
       "  </thead>\n",
       "  <tbody>\n",
       "    <tr>\n",
       "      <th>count</th>\n",
       "      <td>9.000000</td>\n",
       "      <td>9.000000</td>\n",
       "      <td>9.000000</td>\n",
       "      <td>9.000000</td>\n",
       "    </tr>\n",
       "    <tr>\n",
       "      <th>mean</th>\n",
       "      <td>4.777778</td>\n",
       "      <td>4.777778</td>\n",
       "      <td>5.555556</td>\n",
       "      <td>4.888889</td>\n",
       "    </tr>\n",
       "    <tr>\n",
       "      <th>std</th>\n",
       "      <td>3.153481</td>\n",
       "      <td>3.192874</td>\n",
       "      <td>3.045944</td>\n",
       "      <td>2.803767</td>\n",
       "    </tr>\n",
       "    <tr>\n",
       "      <th>min</th>\n",
       "      <td>1.000000</td>\n",
       "      <td>1.000000</td>\n",
       "      <td>1.000000</td>\n",
       "      <td>1.000000</td>\n",
       "    </tr>\n",
       "    <tr>\n",
       "      <th>25%</th>\n",
       "      <td>3.000000</td>\n",
       "      <td>3.000000</td>\n",
       "      <td>3.000000</td>\n",
       "      <td>3.000000</td>\n",
       "    </tr>\n",
       "    <tr>\n",
       "      <th>50%</th>\n",
       "      <td>3.000000</td>\n",
       "      <td>3.000000</td>\n",
       "      <td>7.000000</td>\n",
       "      <td>5.000000</td>\n",
       "    </tr>\n",
       "    <tr>\n",
       "      <th>75%</th>\n",
       "      <td>8.000000</td>\n",
       "      <td>7.000000</td>\n",
       "      <td>8.000000</td>\n",
       "      <td>6.000000</td>\n",
       "    </tr>\n",
       "    <tr>\n",
       "      <th>max</th>\n",
       "      <td>10.000000</td>\n",
       "      <td>10.000000</td>\n",
       "      <td>9.000000</td>\n",
       "      <td>10.000000</td>\n",
       "    </tr>\n",
       "  </tbody>\n",
       "</table>\n",
       "</div>"
      ],
      "text/plain": [
       "           Reach     Impact  Confidence    Efforts\n",
       "count   9.000000   9.000000    9.000000   9.000000\n",
       "mean    4.777778   4.777778    5.555556   4.888889\n",
       "std     3.153481   3.192874    3.045944   2.803767\n",
       "min     1.000000   1.000000    1.000000   1.000000\n",
       "25%     3.000000   3.000000    3.000000   3.000000\n",
       "50%     3.000000   3.000000    7.000000   5.000000\n",
       "75%     8.000000   7.000000    8.000000   6.000000\n",
       "max    10.000000  10.000000    9.000000  10.000000"
      ]
     },
     "metadata": {},
     "output_type": "display_data"
    },
    {
     "name": "stdout",
     "output_type": "stream",
     "text": [
      "\n",
      "Заголовки приведены к змеиному стилю.  \n",
      "Информация о содержимом hypothesis:\n",
      "<class 'pandas.core.frame.DataFrame'>\n",
      "RangeIndex: 9 entries, 0 to 8\n",
      "Data columns (total 5 columns):\n",
      " #   Column      Non-Null Count  Dtype \n",
      "---  ------      --------------  ----- \n",
      " 0   hypothesis  9 non-null      object\n",
      " 1   reach       9 non-null      int64 \n",
      " 2   impact      9 non-null      int64 \n",
      " 3   confidence  9 non-null      int64 \n",
      " 4   efforts     9 non-null      int64 \n",
      "dtypes: int64(4), object(1)\n",
      "memory usage: 488.0+ bytes\n"
     ]
    },
    {
     "data": {
      "text/plain": [
       "None"
      ]
     },
     "metadata": {},
     "output_type": "display_data"
    },
    {
     "name": "stdout",
     "output_type": "stream",
     "text": [
      "\n",
      "Частота строк в столбце hypothesis:\n",
      "Добавить два новых канала привлечения трафика, что позволит привлекать на 30% больше пользователей              1\n",
      "Запустить собственную службу доставки, что сократит срок доставки заказов                                       1\n",
      "Добавить блоки рекомендаций товаров на сайт интернет магазина, чтобы повысить конверсию и средний чек заказа    1\n",
      "Изменить структура категорий, что увеличит конверсию, т.к. пользователи быстрее найдут нужный товар             1\n",
      "Изменить цвет фона главной страницы, чтобы увеличить вовлеченность пользователей                                1\n",
      "Добавить страницу отзывов клиентов о магазине, что позволит увеличить количество заказов                        1\n",
      "Показать на главной странице баннеры с актуальными акциями и распродажами, чтобы увеличить конверсию            1\n",
      "Добавить форму подписки на все основные страницы, чтобы собрать базу клиентов для email-рассылок                1\n",
      "Запустить акцию, дающую скидку на товар в день рождения                                                         1\n",
      "Name: hypothesis, dtype: int64\n",
      "\n",
      "Количество явных дубликатов в таблице hypothesis: 0\n"
     ]
    }
   ],
   "source": [
    "# для уверенности в данных проведем начальный анализ таблицы hypothesis с помощью функции start_info\n",
    "start_info(hypothesis)"
   ]
  },
  {
   "cell_type": "code",
   "execution_count": 6,
   "id": "91f71c1e",
   "metadata": {},
   "outputs": [
    {
     "data": {
      "text/html": [
       "<div>\n",
       "<style scoped>\n",
       "    .dataframe tbody tr th:only-of-type {\n",
       "        vertical-align: middle;\n",
       "    }\n",
       "\n",
       "    .dataframe tbody tr th {\n",
       "        vertical-align: top;\n",
       "    }\n",
       "\n",
       "    .dataframe thead th {\n",
       "        text-align: right;\n",
       "    }\n",
       "</style>\n",
       "<table border=\"1\" class=\"dataframe\">\n",
       "  <thead>\n",
       "    <tr style=\"text-align: right;\">\n",
       "      <th></th>\n",
       "      <th>hypothesis</th>\n",
       "      <th>reach</th>\n",
       "      <th>impact</th>\n",
       "      <th>confidence</th>\n",
       "      <th>efforts</th>\n",
       "    </tr>\n",
       "  </thead>\n",
       "  <tbody>\n",
       "    <tr>\n",
       "      <th>0</th>\n",
       "      <td>Добавить два новых канала привлечения трафика, что позволит привлекать на 30% больше пользователей</td>\n",
       "      <td>3</td>\n",
       "      <td>10</td>\n",
       "      <td>8</td>\n",
       "      <td>6</td>\n",
       "    </tr>\n",
       "    <tr>\n",
       "      <th>1</th>\n",
       "      <td>Запустить собственную службу доставки, что сократит срок доставки заказов</td>\n",
       "      <td>2</td>\n",
       "      <td>5</td>\n",
       "      <td>4</td>\n",
       "      <td>10</td>\n",
       "    </tr>\n",
       "    <tr>\n",
       "      <th>2</th>\n",
       "      <td>Добавить блоки рекомендаций товаров на сайт интернет магазина, чтобы повысить конверсию и средний чек заказа</td>\n",
       "      <td>8</td>\n",
       "      <td>3</td>\n",
       "      <td>7</td>\n",
       "      <td>3</td>\n",
       "    </tr>\n",
       "    <tr>\n",
       "      <th>3</th>\n",
       "      <td>Изменить структура категорий, что увеличит конверсию, т.к. пользователи быстрее найдут нужный товар</td>\n",
       "      <td>8</td>\n",
       "      <td>3</td>\n",
       "      <td>3</td>\n",
       "      <td>8</td>\n",
       "    </tr>\n",
       "    <tr>\n",
       "      <th>4</th>\n",
       "      <td>Изменить цвет фона главной страницы, чтобы увеличить вовлеченность пользователей</td>\n",
       "      <td>3</td>\n",
       "      <td>1</td>\n",
       "      <td>1</td>\n",
       "      <td>1</td>\n",
       "    </tr>\n",
       "    <tr>\n",
       "      <th>5</th>\n",
       "      <td>Добавить страницу отзывов клиентов о магазине, что позволит увеличить количество заказов</td>\n",
       "      <td>3</td>\n",
       "      <td>2</td>\n",
       "      <td>2</td>\n",
       "      <td>3</td>\n",
       "    </tr>\n",
       "    <tr>\n",
       "      <th>6</th>\n",
       "      <td>Показать на главной странице баннеры с актуальными акциями и распродажами, чтобы увеличить конверсию</td>\n",
       "      <td>5</td>\n",
       "      <td>3</td>\n",
       "      <td>8</td>\n",
       "      <td>3</td>\n",
       "    </tr>\n",
       "    <tr>\n",
       "      <th>7</th>\n",
       "      <td>Добавить форму подписки на все основные страницы, чтобы собрать базу клиентов для email-рассылок</td>\n",
       "      <td>10</td>\n",
       "      <td>7</td>\n",
       "      <td>8</td>\n",
       "      <td>5</td>\n",
       "    </tr>\n",
       "    <tr>\n",
       "      <th>8</th>\n",
       "      <td>Запустить акцию, дающую скидку на товар в день рождения</td>\n",
       "      <td>1</td>\n",
       "      <td>9</td>\n",
       "      <td>9</td>\n",
       "      <td>5</td>\n",
       "    </tr>\n",
       "  </tbody>\n",
       "</table>\n",
       "</div>"
      ],
      "text/plain": [
       "                                                                                                     hypothesis  \\\n",
       "0            Добавить два новых канала привлечения трафика, что позволит привлекать на 30% больше пользователей   \n",
       "1                                     Запустить собственную службу доставки, что сократит срок доставки заказов   \n",
       "2  Добавить блоки рекомендаций товаров на сайт интернет магазина, чтобы повысить конверсию и средний чек заказа   \n",
       "3           Изменить структура категорий, что увеличит конверсию, т.к. пользователи быстрее найдут нужный товар   \n",
       "4                              Изменить цвет фона главной страницы, чтобы увеличить вовлеченность пользователей   \n",
       "5                      Добавить страницу отзывов клиентов о магазине, что позволит увеличить количество заказов   \n",
       "6          Показать на главной странице баннеры с актуальными акциями и распродажами, чтобы увеличить конверсию   \n",
       "7              Добавить форму подписки на все основные страницы, чтобы собрать базу клиентов для email-рассылок   \n",
       "8                                                       Запустить акцию, дающую скидку на товар в день рождения   \n",
       "\n",
       "   reach  impact  confidence  efforts  \n",
       "0      3      10           8        6  \n",
       "1      2       5           4       10  \n",
       "2      8       3           7        3  \n",
       "3      8       3           3        8  \n",
       "4      3       1           1        1  \n",
       "5      3       2           2        3  \n",
       "6      5       3           8        3  \n",
       "7     10       7           8        5  \n",
       "8      1       9           9        5  "
      ]
     },
     "metadata": {},
     "output_type": "display_data"
    }
   ],
   "source": [
    "# сброс ограничений на количество символов в записи\n",
    "pd.set_option('display.max_colwidth', None)\n",
    "# выведем всю таблицу\n",
    "display(hypothesis)"
   ]
  },
  {
   "cell_type": "markdown",
   "id": "801b0a7a",
   "metadata": {},
   "source": [
    "Таблица не требует дополнительных проверок. Предложены 9 гипотез. Столбцы в каждой записи в имеют значения, можно провести сравнение гипотез."
   ]
  },
  {
   "cell_type": "code",
   "execution_count": 7,
   "id": "a0a2d5bb",
   "metadata": {},
   "outputs": [
    {
     "data": {
      "text/html": [
       "<style type=\"text/css\">\n",
       "#T_a0b8d_row0_col1 {\n",
       "  background-color: #b40426;\n",
       "  color: #f1f1f1;\n",
       "}\n",
       "#T_a0b8d_row1_col1 {\n",
       "  background-color: #ec7f63;\n",
       "  color: #f1f1f1;\n",
       "}\n",
       "#T_a0b8d_row2_col1 {\n",
       "  background-color: #f7b79b;\n",
       "  color: #000000;\n",
       "}\n",
       "#T_a0b8d_row3_col1 {\n",
       "  background-color: #d2dbe8;\n",
       "  color: #000000;\n",
       "}\n",
       "#T_a0b8d_row4_col1 {\n",
       "  background-color: #bfd3f6;\n",
       "  color: #000000;\n",
       "}\n",
       "#T_a0b8d_row5_col1 {\n",
       "  background-color: #4e68d8;\n",
       "  color: #f1f1f1;\n",
       "}\n",
       "#T_a0b8d_row6_col1 {\n",
       "  background-color: #4055c8;\n",
       "  color: #f1f1f1;\n",
       "}\n",
       "#T_a0b8d_row7_col1 {\n",
       "  background-color: #3d50c3;\n",
       "  color: #f1f1f1;\n",
       "}\n",
       "#T_a0b8d_row8_col1 {\n",
       "  background-color: #3b4cc0;\n",
       "  color: #f1f1f1;\n",
       "}\n",
       "</style>\n",
       "<table id=\"T_a0b8d\">\n",
       "  <thead>\n",
       "    <tr>\n",
       "      <th class=\"blank level0\" >&nbsp;</th>\n",
       "      <th id=\"T_a0b8d_level0_col0\" class=\"col_heading level0 col0\" >hypothesis</th>\n",
       "      <th id=\"T_a0b8d_level0_col1\" class=\"col_heading level0 col1\" >ICE</th>\n",
       "    </tr>\n",
       "  </thead>\n",
       "  <tbody>\n",
       "    <tr>\n",
       "      <th id=\"T_a0b8d_level0_row0\" class=\"row_heading level0 row0\" >0</th>\n",
       "      <td id=\"T_a0b8d_row0_col0\" class=\"data row0 col0\" >Запустить акцию, дающую скидку на товар в день рождения</td>\n",
       "      <td id=\"T_a0b8d_row0_col1\" class=\"data row0 col1\" >16.20</td>\n",
       "    </tr>\n",
       "    <tr>\n",
       "      <th id=\"T_a0b8d_level0_row1\" class=\"row_heading level0 row1\" >1</th>\n",
       "      <td id=\"T_a0b8d_row1_col0\" class=\"data row1 col0\" >Добавить два новых канала привлечения трафика, что позволит привлекать на 30% больше пользователей</td>\n",
       "      <td id=\"T_a0b8d_row1_col1\" class=\"data row1 col1\" >13.33</td>\n",
       "    </tr>\n",
       "    <tr>\n",
       "      <th id=\"T_a0b8d_level0_row2\" class=\"row_heading level0 row2\" >2</th>\n",
       "      <td id=\"T_a0b8d_row2_col0\" class=\"data row2 col0\" >Добавить форму подписки на все основные страницы, чтобы собрать базу клиентов для email-рассылок</td>\n",
       "      <td id=\"T_a0b8d_row2_col1\" class=\"data row2 col1\" >11.20</td>\n",
       "    </tr>\n",
       "    <tr>\n",
       "      <th id=\"T_a0b8d_level0_row3\" class=\"row_heading level0 row3\" >3</th>\n",
       "      <td id=\"T_a0b8d_row3_col0\" class=\"data row3 col0\" >Показать на главной странице баннеры с актуальными акциями и распродажами, чтобы увеличить конверсию</td>\n",
       "      <td id=\"T_a0b8d_row3_col1\" class=\"data row3 col1\" >8.00</td>\n",
       "    </tr>\n",
       "    <tr>\n",
       "      <th id=\"T_a0b8d_level0_row4\" class=\"row_heading level0 row4\" >4</th>\n",
       "      <td id=\"T_a0b8d_row4_col0\" class=\"data row4 col0\" >Добавить блоки рекомендаций товаров на сайт интернет магазина, чтобы повысить конверсию и средний чек заказа</td>\n",
       "      <td id=\"T_a0b8d_row4_col1\" class=\"data row4 col1\" >7.00</td>\n",
       "    </tr>\n",
       "    <tr>\n",
       "      <th id=\"T_a0b8d_level0_row5\" class=\"row_heading level0 row5\" >5</th>\n",
       "      <td id=\"T_a0b8d_row5_col0\" class=\"data row5 col0\" >Запустить собственную службу доставки, что сократит срок доставки заказов</td>\n",
       "      <td id=\"T_a0b8d_row5_col1\" class=\"data row5 col1\" >2.00</td>\n",
       "    </tr>\n",
       "    <tr>\n",
       "      <th id=\"T_a0b8d_level0_row6\" class=\"row_heading level0 row6\" >6</th>\n",
       "      <td id=\"T_a0b8d_row6_col0\" class=\"data row6 col0\" >Добавить страницу отзывов клиентов о магазине, что позволит увеличить количество заказов</td>\n",
       "      <td id=\"T_a0b8d_row6_col1\" class=\"data row6 col1\" >1.33</td>\n",
       "    </tr>\n",
       "    <tr>\n",
       "      <th id=\"T_a0b8d_level0_row7\" class=\"row_heading level0 row7\" >7</th>\n",
       "      <td id=\"T_a0b8d_row7_col0\" class=\"data row7 col0\" >Изменить структура категорий, что увеличит конверсию, т.к. пользователи быстрее найдут нужный товар</td>\n",
       "      <td id=\"T_a0b8d_row7_col1\" class=\"data row7 col1\" >1.12</td>\n",
       "    </tr>\n",
       "    <tr>\n",
       "      <th id=\"T_a0b8d_level0_row8\" class=\"row_heading level0 row8\" >8</th>\n",
       "      <td id=\"T_a0b8d_row8_col0\" class=\"data row8 col0\" >Изменить цвет фона главной страницы, чтобы увеличить вовлеченность пользователей</td>\n",
       "      <td id=\"T_a0b8d_row8_col1\" class=\"data row8 col1\" >1.00</td>\n",
       "    </tr>\n",
       "  </tbody>\n",
       "</table>\n"
      ],
      "text/plain": [
       "<pandas.io.formats.style.Styler at 0x28245ae8880>"
      ]
     },
     "metadata": {},
     "output_type": "display_data"
    }
   ],
   "source": [
    "# вычислим для каждой гипотезы значение критерия ICE\n",
    "hypothesis['ICE'] = (hypothesis['impact'] * hypothesis['confidence']) / hypothesis['efforts']\n",
    "\n",
    "# выведем гипотезы согласно убыванию значения ICE\n",
    "display(\n",
    "    pd.DataFrame(hypothesis[['hypothesis', 'ICE']].sort_values('ICE', ascending=False))\n",
    "    .reset_index(drop=True).style.format({'ICE': '{:.2f}'}).background_gradient('coolwarm')\n",
    ")"
   ]
  },
  {
   "cell_type": "markdown",
   "id": "f918c4ca",
   "metadata": {},
   "source": [
    "Топ-3 гипотез по ICE:\n",
    "\n",
    " - Запустить акцию, дающую скидку на товар в день рождения\n",
    " - Добавить два новых канала привлечения трафика, что позволит привлекать на 30% больше пользователей\n",
    " - Добавить форму подписки на все основные страницы, чтобы собрать базу клиентов для email-рассылок"
   ]
  },
  {
   "cell_type": "code",
   "execution_count": 8,
   "id": "1331e5be",
   "metadata": {},
   "outputs": [
    {
     "data": {
      "text/html": [
       "<style type=\"text/css\">\n",
       "#T_a7139_row0_col1 {\n",
       "  background-color: #b40426;\n",
       "  color: #f1f1f1;\n",
       "}\n",
       "#T_a7139_row1_col1 {\n",
       "  background-color: #d9dce1;\n",
       "  color: #000000;\n",
       "}\n",
       "#T_a7139_row2_col1, #T_a7139_row3_col1 {\n",
       "  background-color: #abc8fd;\n",
       "  color: #000000;\n",
       "}\n",
       "#T_a7139_row4_col1 {\n",
       "  background-color: #6180e9;\n",
       "  color: #f1f1f1;\n",
       "}\n",
       "#T_a7139_row5_col1 {\n",
       "  background-color: #4b64d5;\n",
       "  color: #f1f1f1;\n",
       "}\n",
       "#T_a7139_row6_col1, #T_a7139_row7_col1 {\n",
       "  background-color: #3d50c3;\n",
       "  color: #f1f1f1;\n",
       "}\n",
       "#T_a7139_row8_col1 {\n",
       "  background-color: #3b4cc0;\n",
       "  color: #f1f1f1;\n",
       "}\n",
       "</style>\n",
       "<table id=\"T_a7139\">\n",
       "  <thead>\n",
       "    <tr>\n",
       "      <th class=\"blank level0\" >&nbsp;</th>\n",
       "      <th id=\"T_a7139_level0_col0\" class=\"col_heading level0 col0\" >hypothesis</th>\n",
       "      <th id=\"T_a7139_level0_col1\" class=\"col_heading level0 col1\" >RICE</th>\n",
       "    </tr>\n",
       "  </thead>\n",
       "  <tbody>\n",
       "    <tr>\n",
       "      <th id=\"T_a7139_level0_row0\" class=\"row_heading level0 row0\" >0</th>\n",
       "      <td id=\"T_a7139_row0_col0\" class=\"data row0 col0\" >Добавить форму подписки на все основные страницы, чтобы собрать базу клиентов для email-рассылок</td>\n",
       "      <td id=\"T_a7139_row0_col1\" class=\"data row0 col1\" >112.00</td>\n",
       "    </tr>\n",
       "    <tr>\n",
       "      <th id=\"T_a7139_level0_row1\" class=\"row_heading level0 row1\" >1</th>\n",
       "      <td id=\"T_a7139_row1_col0\" class=\"data row1 col0\" >Добавить блоки рекомендаций товаров на сайт интернет магазина, чтобы повысить конверсию и средний чек заказа</td>\n",
       "      <td id=\"T_a7139_row1_col1\" class=\"data row1 col1\" >56.00</td>\n",
       "    </tr>\n",
       "    <tr>\n",
       "      <th id=\"T_a7139_level0_row2\" class=\"row_heading level0 row2\" >2</th>\n",
       "      <td id=\"T_a7139_row2_col0\" class=\"data row2 col0\" >Добавить два новых канала привлечения трафика, что позволит привлекать на 30% больше пользователей</td>\n",
       "      <td id=\"T_a7139_row2_col1\" class=\"data row2 col1\" >40.00</td>\n",
       "    </tr>\n",
       "    <tr>\n",
       "      <th id=\"T_a7139_level0_row3\" class=\"row_heading level0 row3\" >3</th>\n",
       "      <td id=\"T_a7139_row3_col0\" class=\"data row3 col0\" >Показать на главной странице баннеры с актуальными акциями и распродажами, чтобы увеличить конверсию</td>\n",
       "      <td id=\"T_a7139_row3_col1\" class=\"data row3 col1\" >40.00</td>\n",
       "    </tr>\n",
       "    <tr>\n",
       "      <th id=\"T_a7139_level0_row4\" class=\"row_heading level0 row4\" >4</th>\n",
       "      <td id=\"T_a7139_row4_col0\" class=\"data row4 col0\" >Запустить акцию, дающую скидку на товар в день рождения</td>\n",
       "      <td id=\"T_a7139_row4_col1\" class=\"data row4 col1\" >16.20</td>\n",
       "    </tr>\n",
       "    <tr>\n",
       "      <th id=\"T_a7139_level0_row5\" class=\"row_heading level0 row5\" >5</th>\n",
       "      <td id=\"T_a7139_row5_col0\" class=\"data row5 col0\" >Изменить структура категорий, что увеличит конверсию, т.к. пользователи быстрее найдут нужный товар</td>\n",
       "      <td id=\"T_a7139_row5_col1\" class=\"data row5 col1\" >9.00</td>\n",
       "    </tr>\n",
       "    <tr>\n",
       "      <th id=\"T_a7139_level0_row6\" class=\"row_heading level0 row6\" >6</th>\n",
       "      <td id=\"T_a7139_row6_col0\" class=\"data row6 col0\" >Запустить собственную службу доставки, что сократит срок доставки заказов</td>\n",
       "      <td id=\"T_a7139_row6_col1\" class=\"data row6 col1\" >4.00</td>\n",
       "    </tr>\n",
       "    <tr>\n",
       "      <th id=\"T_a7139_level0_row7\" class=\"row_heading level0 row7\" >7</th>\n",
       "      <td id=\"T_a7139_row7_col0\" class=\"data row7 col0\" >Добавить страницу отзывов клиентов о магазине, что позволит увеличить количество заказов</td>\n",
       "      <td id=\"T_a7139_row7_col1\" class=\"data row7 col1\" >4.00</td>\n",
       "    </tr>\n",
       "    <tr>\n",
       "      <th id=\"T_a7139_level0_row8\" class=\"row_heading level0 row8\" >8</th>\n",
       "      <td id=\"T_a7139_row8_col0\" class=\"data row8 col0\" >Изменить цвет фона главной страницы, чтобы увеличить вовлеченность пользователей</td>\n",
       "      <td id=\"T_a7139_row8_col1\" class=\"data row8 col1\" >3.00</td>\n",
       "    </tr>\n",
       "  </tbody>\n",
       "</table>\n"
      ],
      "text/plain": [
       "<pandas.io.formats.style.Styler at 0x28241233a90>"
      ]
     },
     "metadata": {},
     "output_type": "display_data"
    }
   ],
   "source": [
    "# вычислим для каждой гипотезы значение критерия RICE\n",
    "hypothesis['RICE'] = (hypothesis['reach'] * hypothesis['impact'] * hypothesis['confidence']) / hypothesis['efforts']\n",
    "\n",
    "# выведем гипотезы согласно убыванию значения RICE\n",
    "display(\n",
    "    pd.DataFrame(hypothesis[['hypothesis', 'RICE']].sort_values('RICE', ascending=False))\n",
    "    .reset_index(drop=True).style.format({'RICE': '{:.2f}'}).background_gradient('coolwarm')\n",
    ")"
   ]
  },
  {
   "cell_type": "markdown",
   "id": "64a3a1f7",
   "metadata": {},
   "source": [
    "Итоговое сводное ранжирование:"
   ]
  },
  {
   "cell_type": "code",
   "execution_count": 10,
   "id": "bd5702ad",
   "metadata": {},
   "outputs": [
    {
     "data": {
      "text/html": [
       "<style type=\"text/css\">\n",
       "#T_1c047_row0_col1 {\n",
       "  background-color: #8db0fe;\n",
       "  color: #000000;\n",
       "}\n",
       "#T_1c047_row0_col2, #T_1c047_row4_col1 {\n",
       "  background-color: #3b4cc0;\n",
       "  color: #f1f1f1;\n",
       "}\n",
       "#T_1c047_row1_col1, #T_1c047_row4_col2 {\n",
       "  background-color: #dddcdc;\n",
       "  color: #000000;\n",
       "}\n",
       "#T_1c047_row1_col2 {\n",
       "  background-color: #6f92f3;\n",
       "  color: #f1f1f1;\n",
       "}\n",
       "#T_1c047_row2_col1 {\n",
       "  background-color: #6282ea;\n",
       "  color: #f1f1f1;\n",
       "}\n",
       "#T_1c047_row2_col2, #T_1c047_row3_col2 {\n",
       "  background-color: #aac7fd;\n",
       "  color: #000000;\n",
       "}\n",
       "#T_1c047_row3_col1 {\n",
       "  background-color: #b9d0f9;\n",
       "  color: #000000;\n",
       "}\n",
       "#T_1c047_row5_col1 {\n",
       "  background-color: #dd5f4b;\n",
       "  color: #f1f1f1;\n",
       "}\n",
       "#T_1c047_row5_col2 {\n",
       "  background-color: #f7b89c;\n",
       "  color: #000000;\n",
       "}\n",
       "#T_1c047_row6_col1 {\n",
       "  background-color: #f5c4ac;\n",
       "  color: #000000;\n",
       "}\n",
       "#T_1c047_row6_col2, #T_1c047_row7_col2 {\n",
       "  background-color: #e7745b;\n",
       "  color: #f1f1f1;\n",
       "}\n",
       "#T_1c047_row7_col1 {\n",
       "  background-color: #f4987a;\n",
       "  color: #000000;\n",
       "}\n",
       "#T_1c047_row8_col1, #T_1c047_row8_col2 {\n",
       "  background-color: #b40426;\n",
       "  color: #f1f1f1;\n",
       "}\n",
       "</style>\n",
       "<table id=\"T_1c047\">\n",
       "  <thead>\n",
       "    <tr>\n",
       "      <th class=\"blank level0\" >&nbsp;</th>\n",
       "      <th id=\"T_1c047_level0_col0\" class=\"col_heading level0 col0\" >hypothesis</th>\n",
       "      <th id=\"T_1c047_level0_col1\" class=\"col_heading level0 col1\" >rank_ICE</th>\n",
       "      <th id=\"T_1c047_level0_col2\" class=\"col_heading level0 col2\" >rank_RICE</th>\n",
       "    </tr>\n",
       "  </thead>\n",
       "  <tbody>\n",
       "    <tr>\n",
       "      <th id=\"T_1c047_level0_row0\" class=\"row_heading level0 row0\" >0</th>\n",
       "      <td id=\"T_1c047_row0_col0\" class=\"data row0 col0\" >Добавить форму подписки на все основные страницы, чтобы собрать базу клиентов для email-рассылок</td>\n",
       "      <td id=\"T_1c047_row0_col1\" class=\"data row0 col1\" >3</td>\n",
       "      <td id=\"T_1c047_row0_col2\" class=\"data row0 col2\" >1</td>\n",
       "    </tr>\n",
       "    <tr>\n",
       "      <th id=\"T_1c047_level0_row1\" class=\"row_heading level0 row1\" >1</th>\n",
       "      <td id=\"T_1c047_row1_col0\" class=\"data row1 col0\" >Добавить блоки рекомендаций товаров на сайт интернет магазина, чтобы повысить конверсию и средний чек заказа</td>\n",
       "      <td id=\"T_1c047_row1_col1\" class=\"data row1 col1\" >5</td>\n",
       "      <td id=\"T_1c047_row1_col2\" class=\"data row1 col2\" >2</td>\n",
       "    </tr>\n",
       "    <tr>\n",
       "      <th id=\"T_1c047_level0_row2\" class=\"row_heading level0 row2\" >2</th>\n",
       "      <td id=\"T_1c047_row2_col0\" class=\"data row2 col0\" >Добавить два новых канала привлечения трафика, что позволит привлекать на 30% больше пользователей</td>\n",
       "      <td id=\"T_1c047_row2_col1\" class=\"data row2 col1\" >2</td>\n",
       "      <td id=\"T_1c047_row2_col2\" class=\"data row2 col2\" >3</td>\n",
       "    </tr>\n",
       "    <tr>\n",
       "      <th id=\"T_1c047_level0_row3\" class=\"row_heading level0 row3\" >3</th>\n",
       "      <td id=\"T_1c047_row3_col0\" class=\"data row3 col0\" >Показать на главной странице баннеры с актуальными акциями и распродажами, чтобы увеличить конверсию</td>\n",
       "      <td id=\"T_1c047_row3_col1\" class=\"data row3 col1\" >4</td>\n",
       "      <td id=\"T_1c047_row3_col2\" class=\"data row3 col2\" >3</td>\n",
       "    </tr>\n",
       "    <tr>\n",
       "      <th id=\"T_1c047_level0_row4\" class=\"row_heading level0 row4\" >4</th>\n",
       "      <td id=\"T_1c047_row4_col0\" class=\"data row4 col0\" >Запустить акцию, дающую скидку на товар в день рождения</td>\n",
       "      <td id=\"T_1c047_row4_col1\" class=\"data row4 col1\" >1</td>\n",
       "      <td id=\"T_1c047_row4_col2\" class=\"data row4 col2\" >4</td>\n",
       "    </tr>\n",
       "    <tr>\n",
       "      <th id=\"T_1c047_level0_row5\" class=\"row_heading level0 row5\" >5</th>\n",
       "      <td id=\"T_1c047_row5_col0\" class=\"data row5 col0\" >Изменить структура категорий, что увеличит конверсию, т.к. пользователи быстрее найдут нужный товар</td>\n",
       "      <td id=\"T_1c047_row5_col1\" class=\"data row5 col1\" >8</td>\n",
       "      <td id=\"T_1c047_row5_col2\" class=\"data row5 col2\" >5</td>\n",
       "    </tr>\n",
       "    <tr>\n",
       "      <th id=\"T_1c047_level0_row6\" class=\"row_heading level0 row6\" >6</th>\n",
       "      <td id=\"T_1c047_row6_col0\" class=\"data row6 col0\" >Запустить собственную службу доставки, что сократит срок доставки заказов</td>\n",
       "      <td id=\"T_1c047_row6_col1\" class=\"data row6 col1\" >6</td>\n",
       "      <td id=\"T_1c047_row6_col2\" class=\"data row6 col2\" >6</td>\n",
       "    </tr>\n",
       "    <tr>\n",
       "      <th id=\"T_1c047_level0_row7\" class=\"row_heading level0 row7\" >7</th>\n",
       "      <td id=\"T_1c047_row7_col0\" class=\"data row7 col0\" >Добавить страницу отзывов клиентов о магазине, что позволит увеличить количество заказов</td>\n",
       "      <td id=\"T_1c047_row7_col1\" class=\"data row7 col1\" >7</td>\n",
       "      <td id=\"T_1c047_row7_col2\" class=\"data row7 col2\" >6</td>\n",
       "    </tr>\n",
       "    <tr>\n",
       "      <th id=\"T_1c047_level0_row8\" class=\"row_heading level0 row8\" >8</th>\n",
       "      <td id=\"T_1c047_row8_col0\" class=\"data row8 col0\" >Изменить цвет фона главной страницы, чтобы увеличить вовлеченность пользователей</td>\n",
       "      <td id=\"T_1c047_row8_col1\" class=\"data row8 col1\" >9</td>\n",
       "      <td id=\"T_1c047_row8_col2\" class=\"data row8 col2\" >7</td>\n",
       "    </tr>\n",
       "  </tbody>\n",
       "</table>\n"
      ],
      "text/plain": [
       "<pandas.io.formats.style.Styler at 0x28245c6c160>"
      ]
     },
     "metadata": {},
     "output_type": "display_data"
    }
   ],
   "source": [
    "# ранжируем значения критериев\n",
    "hypothesis['rank_ICE'] = hypothesis[['ICE']].transform('rank', \n",
    "                                                       method='dense', \n",
    "                                                       ascending=False)\n",
    "hypothesis['rank_RICE'] = hypothesis[['RICE']].transform('rank', \n",
    "                                                         method='dense', \n",
    "                                                         ascending=False)\n",
    "\n",
    "# выведем итоговое ранжирование\n",
    "display(\n",
    "    pd.DataFrame(hypothesis[['hypothesis', 'rank_ICE', 'rank_RICE']]\n",
    "                 .sort_values('rank_RICE'))\n",
    "    .reset_index(drop=True)\n",
    "    .style.format({'rank_ICE': '{:.0f}', 'rank_RICE': '{:.0f}'})\n",
    "    .background_gradient('coolwarm')\n",
    ")"
   ]
  },
  {
   "cell_type": "markdown",
   "id": "646f6590",
   "metadata": {},
   "source": [
    "Топ - 3 гипотез по RICE: \n",
    "\n",
    " - Добавить форму подписки на все основные страницы, чтобы собрать базу клиентов для email-рассылок\n",
    " - Добавить блоки рекомендаций товаров на сайт интернет магазина, чтобы повысить конверсию и средний чек заказа\n",
    " - Добавить два новых канала привлечения трафика, что позволит привлекать на 30% больше пользователей\n",
    " \n",
    "В фреймворке RICE параметр Reach определяет степень охвата изменением пользователей, поэтому в лидеры RICE выбились гипотезы с Reach большим чем у других. В принятии решения о выборе гипотез в проработку предлагается опираться на фреймворк RICE, который кроме силы гипотез учитывает как много пользователей затрагивает гипотеза."
   ]
  },
  {
   "cell_type": "markdown",
   "id": "734c3b41",
   "metadata": {},
   "source": [
    "## Подготовка данных"
   ]
  },
  {
   "cell_type": "code",
   "execution_count": 11,
   "id": "20459f1c",
   "metadata": {},
   "outputs": [
    {
     "name": "stdout",
     "output_type": "stream",
     "text": [
      "\n",
      "Первые 5 строк таблицы orders:\n"
     ]
    },
    {
     "data": {
      "text/html": [
       "<div>\n",
       "<style scoped>\n",
       "    .dataframe tbody tr th:only-of-type {\n",
       "        vertical-align: middle;\n",
       "    }\n",
       "\n",
       "    .dataframe tbody tr th {\n",
       "        vertical-align: top;\n",
       "    }\n",
       "\n",
       "    .dataframe thead th {\n",
       "        text-align: right;\n",
       "    }\n",
       "</style>\n",
       "<table border=\"1\" class=\"dataframe\">\n",
       "  <thead>\n",
       "    <tr style=\"text-align: right;\">\n",
       "      <th></th>\n",
       "      <th>transactionId</th>\n",
       "      <th>visitorId</th>\n",
       "      <th>date</th>\n",
       "      <th>revenue</th>\n",
       "      <th>group</th>\n",
       "    </tr>\n",
       "  </thead>\n",
       "  <tbody>\n",
       "    <tr>\n",
       "      <th>0</th>\n",
       "      <td>3667963787</td>\n",
       "      <td>3312258926</td>\n",
       "      <td>2019-08-15</td>\n",
       "      <td>1650</td>\n",
       "      <td>B</td>\n",
       "    </tr>\n",
       "    <tr>\n",
       "      <th>1</th>\n",
       "      <td>2804400009</td>\n",
       "      <td>3642806036</td>\n",
       "      <td>2019-08-15</td>\n",
       "      <td>730</td>\n",
       "      <td>B</td>\n",
       "    </tr>\n",
       "    <tr>\n",
       "      <th>2</th>\n",
       "      <td>2961555356</td>\n",
       "      <td>4069496402</td>\n",
       "      <td>2019-08-15</td>\n",
       "      <td>400</td>\n",
       "      <td>A</td>\n",
       "    </tr>\n",
       "    <tr>\n",
       "      <th>3</th>\n",
       "      <td>3797467345</td>\n",
       "      <td>1196621759</td>\n",
       "      <td>2019-08-15</td>\n",
       "      <td>9759</td>\n",
       "      <td>B</td>\n",
       "    </tr>\n",
       "    <tr>\n",
       "      <th>4</th>\n",
       "      <td>2282983706</td>\n",
       "      <td>2322279887</td>\n",
       "      <td>2019-08-15</td>\n",
       "      <td>2308</td>\n",
       "      <td>B</td>\n",
       "    </tr>\n",
       "  </tbody>\n",
       "</table>\n",
       "</div>"
      ],
      "text/plain": [
       "   transactionId   visitorId        date  revenue group\n",
       "0     3667963787  3312258926  2019-08-15     1650     B\n",
       "1     2804400009  3642806036  2019-08-15      730     B\n",
       "2     2961555356  4069496402  2019-08-15      400     A\n",
       "3     3797467345  1196621759  2019-08-15     9759     B\n",
       "4     2282983706  2322279887  2019-08-15     2308     B"
      ]
     },
     "metadata": {},
     "output_type": "display_data"
    },
    {
     "name": "stdout",
     "output_type": "stream",
     "text": [
      "\n",
      "Распределение численных значений в таблице orders:\n"
     ]
    },
    {
     "data": {
      "text/html": [
       "<div>\n",
       "<style scoped>\n",
       "    .dataframe tbody tr th:only-of-type {\n",
       "        vertical-align: middle;\n",
       "    }\n",
       "\n",
       "    .dataframe tbody tr th {\n",
       "        vertical-align: top;\n",
       "    }\n",
       "\n",
       "    .dataframe thead th {\n",
       "        text-align: right;\n",
       "    }\n",
       "</style>\n",
       "<table border=\"1\" class=\"dataframe\">\n",
       "  <thead>\n",
       "    <tr style=\"text-align: right;\">\n",
       "      <th></th>\n",
       "      <th>transactionId</th>\n",
       "      <th>visitorId</th>\n",
       "      <th>revenue</th>\n",
       "    </tr>\n",
       "  </thead>\n",
       "  <tbody>\n",
       "    <tr>\n",
       "      <th>count</th>\n",
       "      <td>1.197000e+03</td>\n",
       "      <td>1.197000e+03</td>\n",
       "      <td>1.197000e+03</td>\n",
       "    </tr>\n",
       "    <tr>\n",
       "      <th>mean</th>\n",
       "      <td>2.155621e+09</td>\n",
       "      <td>2.165960e+09</td>\n",
       "      <td>8.348006e+03</td>\n",
       "    </tr>\n",
       "    <tr>\n",
       "      <th>std</th>\n",
       "      <td>1.229085e+09</td>\n",
       "      <td>1.236014e+09</td>\n",
       "      <td>3.919113e+04</td>\n",
       "    </tr>\n",
       "    <tr>\n",
       "      <th>min</th>\n",
       "      <td>1.062393e+06</td>\n",
       "      <td>5.114589e+06</td>\n",
       "      <td>5.000000e+01</td>\n",
       "    </tr>\n",
       "    <tr>\n",
       "      <th>25%</th>\n",
       "      <td>1.166776e+09</td>\n",
       "      <td>1.111826e+09</td>\n",
       "      <td>1.220000e+03</td>\n",
       "    </tr>\n",
       "    <tr>\n",
       "      <th>50%</th>\n",
       "      <td>2.145194e+09</td>\n",
       "      <td>2.217985e+09</td>\n",
       "      <td>2.978000e+03</td>\n",
       "    </tr>\n",
       "    <tr>\n",
       "      <th>75%</th>\n",
       "      <td>3.237740e+09</td>\n",
       "      <td>3.177606e+09</td>\n",
       "      <td>8.290000e+03</td>\n",
       "    </tr>\n",
       "    <tr>\n",
       "      <th>max</th>\n",
       "      <td>4.293856e+09</td>\n",
       "      <td>4.283872e+09</td>\n",
       "      <td>1.294500e+06</td>\n",
       "    </tr>\n",
       "  </tbody>\n",
       "</table>\n",
       "</div>"
      ],
      "text/plain": [
       "       transactionId     visitorId       revenue\n",
       "count   1.197000e+03  1.197000e+03  1.197000e+03\n",
       "mean    2.155621e+09  2.165960e+09  8.348006e+03\n",
       "std     1.229085e+09  1.236014e+09  3.919113e+04\n",
       "min     1.062393e+06  5.114589e+06  5.000000e+01\n",
       "25%     1.166776e+09  1.111826e+09  1.220000e+03\n",
       "50%     2.145194e+09  2.217985e+09  2.978000e+03\n",
       "75%     3.237740e+09  3.177606e+09  8.290000e+03\n",
       "max     4.293856e+09  4.283872e+09  1.294500e+06"
      ]
     },
     "metadata": {},
     "output_type": "display_data"
    },
    {
     "name": "stdout",
     "output_type": "stream",
     "text": [
      "\n",
      "Заголовки приведены к змеиному стилю.  \n",
      "Информация о содержимом orders:\n",
      "<class 'pandas.core.frame.DataFrame'>\n",
      "RangeIndex: 1197 entries, 0 to 1196\n",
      "Data columns (total 5 columns):\n",
      " #   Column         Non-Null Count  Dtype \n",
      "---  ------         --------------  ----- \n",
      " 0   transactionid  1197 non-null   int64 \n",
      " 1   visitorid      1197 non-null   int64 \n",
      " 2   date           1197 non-null   object\n",
      " 3   revenue        1197 non-null   int64 \n",
      " 4   group          1197 non-null   object\n",
      "dtypes: int64(3), object(2)\n",
      "memory usage: 46.9+ KB\n"
     ]
    },
    {
     "data": {
      "text/plain": [
       "None"
      ]
     },
     "metadata": {},
     "output_type": "display_data"
    },
    {
     "name": "stdout",
     "output_type": "stream",
     "text": [
      "\n",
      "Частота строк в столбце date:\n",
      "2019-08-05    48\n",
      "2019-08-12    47\n",
      "2019-08-14    47\n",
      "2019-08-06    46\n",
      "2019-08-15    46\n",
      "2019-08-01    45\n",
      "2019-08-28    45\n",
      "2019-08-02    44\n",
      "2019-08-27    44\n",
      "2019-08-08    43\n",
      "2019-08-19    43\n",
      "2019-08-29    42\n",
      "2019-08-07    42\n",
      "2019-08-09    41\n",
      "2019-08-26    41\n",
      "2019-08-22    41\n",
      "2019-08-03    40\n",
      "2019-08-23    40\n",
      "2019-08-10    39\n",
      "2019-08-16    38\n",
      "2019-08-21    37\n",
      "2019-08-30    35\n",
      "2019-08-13    35\n",
      "2019-08-04    33\n",
      "2019-08-20    32\n",
      "2019-08-31    32\n",
      "2019-08-24    31\n",
      "2019-08-11    26\n",
      "2019-08-18    26\n",
      "2019-08-17    24\n",
      "2019-08-25    24\n",
      "Name: date, dtype: int64\n",
      "\n",
      "Частота строк в столбце group:\n",
      "B    640\n",
      "A    557\n",
      "Name: group, dtype: int64\n",
      "\n",
      "Количество явных дубликатов в таблице orders: 0\n"
     ]
    }
   ],
   "source": [
    "# для уверенности в данных проведем начальный анализ таблицы orders с помощью функции start_info\n",
    "start_info(orders)"
   ]
  },
  {
   "cell_type": "code",
   "execution_count": 12,
   "id": "17762738",
   "metadata": {},
   "outputs": [
    {
     "name": "stdout",
     "output_type": "stream",
     "text": [
      "\n",
      "Первые 5 строк таблицы visitors:\n"
     ]
    },
    {
     "data": {
      "text/html": [
       "<div>\n",
       "<style scoped>\n",
       "    .dataframe tbody tr th:only-of-type {\n",
       "        vertical-align: middle;\n",
       "    }\n",
       "\n",
       "    .dataframe tbody tr th {\n",
       "        vertical-align: top;\n",
       "    }\n",
       "\n",
       "    .dataframe thead th {\n",
       "        text-align: right;\n",
       "    }\n",
       "</style>\n",
       "<table border=\"1\" class=\"dataframe\">\n",
       "  <thead>\n",
       "    <tr style=\"text-align: right;\">\n",
       "      <th></th>\n",
       "      <th>date</th>\n",
       "      <th>group</th>\n",
       "      <th>visitors</th>\n",
       "    </tr>\n",
       "  </thead>\n",
       "  <tbody>\n",
       "    <tr>\n",
       "      <th>0</th>\n",
       "      <td>2019-08-01</td>\n",
       "      <td>A</td>\n",
       "      <td>719</td>\n",
       "    </tr>\n",
       "    <tr>\n",
       "      <th>1</th>\n",
       "      <td>2019-08-02</td>\n",
       "      <td>A</td>\n",
       "      <td>619</td>\n",
       "    </tr>\n",
       "    <tr>\n",
       "      <th>2</th>\n",
       "      <td>2019-08-03</td>\n",
       "      <td>A</td>\n",
       "      <td>507</td>\n",
       "    </tr>\n",
       "    <tr>\n",
       "      <th>3</th>\n",
       "      <td>2019-08-04</td>\n",
       "      <td>A</td>\n",
       "      <td>717</td>\n",
       "    </tr>\n",
       "    <tr>\n",
       "      <th>4</th>\n",
       "      <td>2019-08-05</td>\n",
       "      <td>A</td>\n",
       "      <td>756</td>\n",
       "    </tr>\n",
       "  </tbody>\n",
       "</table>\n",
       "</div>"
      ],
      "text/plain": [
       "         date group  visitors\n",
       "0  2019-08-01     A       719\n",
       "1  2019-08-02     A       619\n",
       "2  2019-08-03     A       507\n",
       "3  2019-08-04     A       717\n",
       "4  2019-08-05     A       756"
      ]
     },
     "metadata": {},
     "output_type": "display_data"
    },
    {
     "name": "stdout",
     "output_type": "stream",
     "text": [
      "\n",
      "Распределение численных значений в таблице visitors:\n"
     ]
    },
    {
     "data": {
      "text/html": [
       "<div>\n",
       "<style scoped>\n",
       "    .dataframe tbody tr th:only-of-type {\n",
       "        vertical-align: middle;\n",
       "    }\n",
       "\n",
       "    .dataframe tbody tr th {\n",
       "        vertical-align: top;\n",
       "    }\n",
       "\n",
       "    .dataframe thead th {\n",
       "        text-align: right;\n",
       "    }\n",
       "</style>\n",
       "<table border=\"1\" class=\"dataframe\">\n",
       "  <thead>\n",
       "    <tr style=\"text-align: right;\">\n",
       "      <th></th>\n",
       "      <th>visitors</th>\n",
       "    </tr>\n",
       "  </thead>\n",
       "  <tbody>\n",
       "    <tr>\n",
       "      <th>count</th>\n",
       "      <td>62.000000</td>\n",
       "    </tr>\n",
       "    <tr>\n",
       "      <th>mean</th>\n",
       "      <td>607.290323</td>\n",
       "    </tr>\n",
       "    <tr>\n",
       "      <th>std</th>\n",
       "      <td>114.400560</td>\n",
       "    </tr>\n",
       "    <tr>\n",
       "      <th>min</th>\n",
       "      <td>361.000000</td>\n",
       "    </tr>\n",
       "    <tr>\n",
       "      <th>25%</th>\n",
       "      <td>534.000000</td>\n",
       "    </tr>\n",
       "    <tr>\n",
       "      <th>50%</th>\n",
       "      <td>624.500000</td>\n",
       "    </tr>\n",
       "    <tr>\n",
       "      <th>75%</th>\n",
       "      <td>710.500000</td>\n",
       "    </tr>\n",
       "    <tr>\n",
       "      <th>max</th>\n",
       "      <td>770.000000</td>\n",
       "    </tr>\n",
       "  </tbody>\n",
       "</table>\n",
       "</div>"
      ],
      "text/plain": [
       "         visitors\n",
       "count   62.000000\n",
       "mean   607.290323\n",
       "std    114.400560\n",
       "min    361.000000\n",
       "25%    534.000000\n",
       "50%    624.500000\n",
       "75%    710.500000\n",
       "max    770.000000"
      ]
     },
     "metadata": {},
     "output_type": "display_data"
    },
    {
     "name": "stdout",
     "output_type": "stream",
     "text": [
      "\n",
      "Заголовки приведены к змеиному стилю.  \n",
      "Информация о содержимом visitors:\n",
      "<class 'pandas.core.frame.DataFrame'>\n",
      "RangeIndex: 62 entries, 0 to 61\n",
      "Data columns (total 3 columns):\n",
      " #   Column    Non-Null Count  Dtype \n",
      "---  ------    --------------  ----- \n",
      " 0   date      62 non-null     object\n",
      " 1   group     62 non-null     object\n",
      " 2   visitors  62 non-null     int64 \n",
      "dtypes: int64(1), object(2)\n",
      "memory usage: 1.6+ KB\n"
     ]
    },
    {
     "data": {
      "text/plain": [
       "None"
      ]
     },
     "metadata": {},
     "output_type": "display_data"
    },
    {
     "name": "stdout",
     "output_type": "stream",
     "text": [
      "\n",
      "Частота строк в столбце date:\n",
      "2019-08-01    2\n",
      "2019-08-02    2\n",
      "2019-08-03    2\n",
      "2019-08-04    2\n",
      "2019-08-05    2\n",
      "2019-08-06    2\n",
      "2019-08-07    2\n",
      "2019-08-08    2\n",
      "2019-08-09    2\n",
      "2019-08-10    2\n",
      "2019-08-11    2\n",
      "2019-08-12    2\n",
      "2019-08-13    2\n",
      "2019-08-14    2\n",
      "2019-08-15    2\n",
      "2019-08-16    2\n",
      "2019-08-17    2\n",
      "2019-08-18    2\n",
      "2019-08-19    2\n",
      "2019-08-20    2\n",
      "2019-08-21    2\n",
      "2019-08-22    2\n",
      "2019-08-23    2\n",
      "2019-08-24    2\n",
      "2019-08-25    2\n",
      "2019-08-26    2\n",
      "2019-08-27    2\n",
      "2019-08-28    2\n",
      "2019-08-29    2\n",
      "2019-08-30    2\n",
      "2019-08-31    2\n",
      "Name: date, dtype: int64\n",
      "\n",
      "Частота строк в столбце group:\n",
      "A    31\n",
      "B    31\n",
      "Name: group, dtype: int64\n",
      "\n",
      "Количество явных дубликатов в таблице visitors: 0\n"
     ]
    }
   ],
   "source": [
    "# для уверенности в данных проведем начальный анализ таблицы visitors с помощью функции start_info\n",
    "start_info(visitors)"
   ]
  },
  {
   "cell_type": "code",
   "execution_count": 13,
   "id": "88d35aba",
   "metadata": {},
   "outputs": [],
   "source": [
    "# приведем столбцы дат к типу Datetime\n",
    "orders['date'] = orders['date'].map(lambda x: dt.datetime.strptime(x, '%Y-%m-%d'))\n",
    "visitors['date'] = visitors['date'].map(lambda x: dt.datetime.strptime(x, '%Y-%m-%d'))"
   ]
  },
  {
   "cell_type": "markdown",
   "id": "cc31b97e",
   "metadata": {},
   "source": [
    "Проверим условие проведения A/B теста - каждый пользователь должен принадлежать к одной тестовой группе."
   ]
  },
  {
   "cell_type": "code",
   "execution_count": 14,
   "id": "20b794a7",
   "metadata": {},
   "outputs": [
    {
     "data": {
      "text/html": [
       "<div>\n",
       "<style scoped>\n",
       "    .dataframe tbody tr th:only-of-type {\n",
       "        vertical-align: middle;\n",
       "    }\n",
       "\n",
       "    .dataframe tbody tr th {\n",
       "        vertical-align: top;\n",
       "    }\n",
       "\n",
       "    .dataframe thead th {\n",
       "        text-align: right;\n",
       "    }\n",
       "</style>\n",
       "<table border=\"1\" class=\"dataframe\">\n",
       "  <thead>\n",
       "    <tr style=\"text-align: right;\">\n",
       "      <th></th>\n",
       "      <th>visitorid</th>\n",
       "      <th>group</th>\n",
       "    </tr>\n",
       "  </thead>\n",
       "  <tbody>\n",
       "    <tr>\n",
       "      <th>0</th>\n",
       "      <td>8300375</td>\n",
       "      <td>2</td>\n",
       "    </tr>\n",
       "    <tr>\n",
       "      <th>1</th>\n",
       "      <td>199603092</td>\n",
       "      <td>2</td>\n",
       "    </tr>\n",
       "    <tr>\n",
       "      <th>2</th>\n",
       "      <td>232979603</td>\n",
       "      <td>2</td>\n",
       "    </tr>\n",
       "    <tr>\n",
       "      <th>3</th>\n",
       "      <td>237748145</td>\n",
       "      <td>2</td>\n",
       "    </tr>\n",
       "    <tr>\n",
       "      <th>4</th>\n",
       "      <td>276558944</td>\n",
       "      <td>2</td>\n",
       "    </tr>\n",
       "    <tr>\n",
       "      <th>5</th>\n",
       "      <td>351125977</td>\n",
       "      <td>2</td>\n",
       "    </tr>\n",
       "    <tr>\n",
       "      <th>6</th>\n",
       "      <td>393266494</td>\n",
       "      <td>2</td>\n",
       "    </tr>\n",
       "    <tr>\n",
       "      <th>7</th>\n",
       "      <td>457167155</td>\n",
       "      <td>2</td>\n",
       "    </tr>\n",
       "    <tr>\n",
       "      <th>8</th>\n",
       "      <td>471551937</td>\n",
       "      <td>2</td>\n",
       "    </tr>\n",
       "    <tr>\n",
       "      <th>9</th>\n",
       "      <td>477780734</td>\n",
       "      <td>2</td>\n",
       "    </tr>\n",
       "  </tbody>\n",
       "</table>\n",
       "</div>"
      ],
      "text/plain": [
       "   visitorid  group\n",
       "0    8300375      2\n",
       "1  199603092      2\n",
       "2  232979603      2\n",
       "3  237748145      2\n",
       "4  276558944      2\n",
       "5  351125977      2\n",
       "6  393266494      2\n",
       "7  457167155      2\n",
       "8  471551937      2\n",
       "9  477780734      2"
      ]
     },
     "metadata": {},
     "output_type": "display_data"
    },
    {
     "name": "stdout",
     "output_type": "stream",
     "text": [
      "58\n"
     ]
    }
   ],
   "source": [
    "# найдем пользователей, которые имеют заказы как в группе A так и в группе B\n",
    "ab_visitors = (\n",
    "    orders.groupby('visitorid', as_index=False)\n",
    "    .agg({'group':'nunique'}).query('group>1').drop_duplicates().reset_index(drop=True)\n",
    ")\n",
    "\n",
    "display(ab_visitors.head(10))\n",
    "# число таких пользователей\n",
    "print(ab_visitors.shape[0])"
   ]
  },
  {
   "cell_type": "code",
   "execution_count": 15,
   "id": "9ced9a30",
   "metadata": {},
   "outputs": [],
   "source": [
    "# очистим данные от некорректного траффика теста\n",
    "orders = orders[np.logical_not(orders['visitorid'].isin(ab_visitors['visitorid']))]"
   ]
  },
  {
   "cell_type": "markdown",
   "id": "00217c14",
   "metadata": {},
   "source": [
    "## Обработка и агрегирование данных"
   ]
  },
  {
   "cell_type": "markdown",
   "id": "3a45e3d8",
   "metadata": {},
   "source": [
    "Для удобства анализа результатов теста выполним сбор и вычисление агрегированных данных в одной таблице."
   ]
  },
  {
   "cell_type": "code",
   "execution_count": 16,
   "id": "4510fe10",
   "metadata": {},
   "outputs": [
    {
     "data": {
      "text/html": [
       "<div>\n",
       "<style scoped>\n",
       "    .dataframe tbody tr th:only-of-type {\n",
       "        vertical-align: middle;\n",
       "    }\n",
       "\n",
       "    .dataframe tbody tr th {\n",
       "        vertical-align: top;\n",
       "    }\n",
       "\n",
       "    .dataframe thead th {\n",
       "        text-align: right;\n",
       "    }\n",
       "</style>\n",
       "<table border=\"1\" class=\"dataframe\">\n",
       "  <thead>\n",
       "    <tr style=\"text-align: right;\">\n",
       "      <th></th>\n",
       "      <th>date</th>\n",
       "      <th>visitorsCummulativeA</th>\n",
       "    </tr>\n",
       "  </thead>\n",
       "  <tbody>\n",
       "    <tr>\n",
       "      <th>0</th>\n",
       "      <td>2019-08-01</td>\n",
       "      <td>719</td>\n",
       "    </tr>\n",
       "    <tr>\n",
       "      <th>1</th>\n",
       "      <td>2019-08-02</td>\n",
       "      <td>1338</td>\n",
       "    </tr>\n",
       "    <tr>\n",
       "      <th>2</th>\n",
       "      <td>2019-08-03</td>\n",
       "      <td>1845</td>\n",
       "    </tr>\n",
       "    <tr>\n",
       "      <th>3</th>\n",
       "      <td>2019-08-04</td>\n",
       "      <td>2562</td>\n",
       "    </tr>\n",
       "    <tr>\n",
       "      <th>4</th>\n",
       "      <td>2019-08-05</td>\n",
       "      <td>3318</td>\n",
       "    </tr>\n",
       "  </tbody>\n",
       "</table>\n",
       "</div>"
      ],
      "text/plain": [
       "        date  visitorsCummulativeA\n",
       "0 2019-08-01                   719\n",
       "1 2019-08-02                  1338\n",
       "2 2019-08-03                  1845\n",
       "3 2019-08-04                  2562\n",
       "4 2019-08-05                  3318"
      ]
     },
     "metadata": {},
     "output_type": "display_data"
    },
    {
     "data": {
      "text/html": [
       "<div>\n",
       "<style scoped>\n",
       "    .dataframe tbody tr th:only-of-type {\n",
       "        vertical-align: middle;\n",
       "    }\n",
       "\n",
       "    .dataframe tbody tr th {\n",
       "        vertical-align: top;\n",
       "    }\n",
       "\n",
       "    .dataframe thead th {\n",
       "        text-align: right;\n",
       "    }\n",
       "</style>\n",
       "<table border=\"1\" class=\"dataframe\">\n",
       "  <thead>\n",
       "    <tr style=\"text-align: right;\">\n",
       "      <th></th>\n",
       "      <th>date</th>\n",
       "      <th>visitorsCummulativeB</th>\n",
       "    </tr>\n",
       "  </thead>\n",
       "  <tbody>\n",
       "    <tr>\n",
       "      <th>31</th>\n",
       "      <td>2019-08-01</td>\n",
       "      <td>713</td>\n",
       "    </tr>\n",
       "    <tr>\n",
       "      <th>32</th>\n",
       "      <td>2019-08-02</td>\n",
       "      <td>1294</td>\n",
       "    </tr>\n",
       "    <tr>\n",
       "      <th>33</th>\n",
       "      <td>2019-08-03</td>\n",
       "      <td>1803</td>\n",
       "    </tr>\n",
       "    <tr>\n",
       "      <th>34</th>\n",
       "      <td>2019-08-04</td>\n",
       "      <td>2573</td>\n",
       "    </tr>\n",
       "    <tr>\n",
       "      <th>35</th>\n",
       "      <td>2019-08-05</td>\n",
       "      <td>3280</td>\n",
       "    </tr>\n",
       "  </tbody>\n",
       "</table>\n",
       "</div>"
      ],
      "text/plain": [
       "         date  visitorsCummulativeB\n",
       "31 2019-08-01                   713\n",
       "32 2019-08-02                  1294\n",
       "33 2019-08-03                  1803\n",
       "34 2019-08-04                  2573\n",
       "35 2019-08-05                  3280"
      ]
     },
     "metadata": {},
     "output_type": "display_data"
    }
   ],
   "source": [
    "# создадим датафрейм с информацией о посещениях по датам для группы A\n",
    "visitorsADaily = visitors[visitors['group'] == 'A'][['date', 'visitors']]\n",
    "visitorsADaily.columns = ['date', 'visitorsPerDateA']\n",
    "# создадим датафрейм с кумулятивным числом посещений по датам группы A\n",
    "visitorsACummulative = visitorsADaily.apply(\n",
    "    lambda x: visitorsADaily[visitorsADaily['date'] <= x['date']].agg(\n",
    "        {'date': 'max', 'visitorsPerDateA': 'sum'}\n",
    "    ),\n",
    "    axis=1,\n",
    ")\n",
    "# переименовываем столбцы для понимания\n",
    "visitorsACummulative.columns = ['date', 'visitorsCummulativeA']\n",
    "\n",
    "# создадим датафрейм с информацией о посещениях по датам для группы B\n",
    "visitorsBDaily = visitors[visitors['group'] == 'B'][['date', 'visitors']]\n",
    "visitorsBDaily.columns = ['date', 'visitorsPerDateB']\n",
    "# создадим датафрейм с кумулятивным числом посещений по датам группы B\n",
    "visitorsBCummulative = visitorsBDaily.apply(\n",
    "    lambda x: visitorsBDaily[visitorsBDaily['date'] <= x['date']].agg(\n",
    "        {'date': 'max', 'visitorsPerDateB': 'sum'}\n",
    "    ),\n",
    "    axis=1,\n",
    ")\n",
    "# переименовываем столбцы для понимания\n",
    "visitorsBCummulative.columns = ['date', 'visitorsCummulativeB']\n",
    "\n",
    "# посмотрим на получившиеся данные\n",
    "display(visitorsACummulative.head(5))\n",
    "display(visitorsBCummulative.head(5))"
   ]
  },
  {
   "cell_type": "code",
   "execution_count": 17,
   "id": "01ca80b7",
   "metadata": {},
   "outputs": [
    {
     "data": {
      "text/html": [
       "<div>\n",
       "<style scoped>\n",
       "    .dataframe tbody tr th:only-of-type {\n",
       "        vertical-align: middle;\n",
       "    }\n",
       "\n",
       "    .dataframe tbody tr th {\n",
       "        vertical-align: top;\n",
       "    }\n",
       "\n",
       "    .dataframe thead th {\n",
       "        text-align: right;\n",
       "    }\n",
       "</style>\n",
       "<table border=\"1\" class=\"dataframe\">\n",
       "  <thead>\n",
       "    <tr style=\"text-align: right;\">\n",
       "      <th></th>\n",
       "      <th>date</th>\n",
       "      <th>ordersCummulativeA</th>\n",
       "      <th>revenueCummulativeA</th>\n",
       "    </tr>\n",
       "  </thead>\n",
       "  <tbody>\n",
       "    <tr>\n",
       "      <th>0</th>\n",
       "      <td>2019-08-01</td>\n",
       "      <td>23</td>\n",
       "      <td>142779</td>\n",
       "    </tr>\n",
       "    <tr>\n",
       "      <th>1</th>\n",
       "      <td>2019-08-02</td>\n",
       "      <td>42</td>\n",
       "      <td>234381</td>\n",
       "    </tr>\n",
       "    <tr>\n",
       "      <th>2</th>\n",
       "      <td>2019-08-03</td>\n",
       "      <td>66</td>\n",
       "      <td>346854</td>\n",
       "    </tr>\n",
       "    <tr>\n",
       "      <th>3</th>\n",
       "      <td>2019-08-04</td>\n",
       "      <td>77</td>\n",
       "      <td>388030</td>\n",
       "    </tr>\n",
       "    <tr>\n",
       "      <th>4</th>\n",
       "      <td>2019-08-05</td>\n",
       "      <td>99</td>\n",
       "      <td>474413</td>\n",
       "    </tr>\n",
       "  </tbody>\n",
       "</table>\n",
       "</div>"
      ],
      "text/plain": [
       "        date  ordersCummulativeA  revenueCummulativeA\n",
       "0 2019-08-01                  23               142779\n",
       "1 2019-08-02                  42               234381\n",
       "2 2019-08-03                  66               346854\n",
       "3 2019-08-04                  77               388030\n",
       "4 2019-08-05                  99               474413"
      ]
     },
     "metadata": {},
     "output_type": "display_data"
    },
    {
     "data": {
      "text/html": [
       "<div>\n",
       "<style scoped>\n",
       "    .dataframe tbody tr th:only-of-type {\n",
       "        vertical-align: middle;\n",
       "    }\n",
       "\n",
       "    .dataframe tbody tr th {\n",
       "        vertical-align: top;\n",
       "    }\n",
       "\n",
       "    .dataframe thead th {\n",
       "        text-align: right;\n",
       "    }\n",
       "</style>\n",
       "<table border=\"1\" class=\"dataframe\">\n",
       "  <thead>\n",
       "    <tr style=\"text-align: right;\">\n",
       "      <th></th>\n",
       "      <th>date</th>\n",
       "      <th>ordersCummulativeB</th>\n",
       "      <th>revenueCummulativeB</th>\n",
       "    </tr>\n",
       "  </thead>\n",
       "  <tbody>\n",
       "    <tr>\n",
       "      <th>0</th>\n",
       "      <td>2019-08-01</td>\n",
       "      <td>17</td>\n",
       "      <td>59758</td>\n",
       "    </tr>\n",
       "    <tr>\n",
       "      <th>1</th>\n",
       "      <td>2019-08-02</td>\n",
       "      <td>40</td>\n",
       "      <td>221801</td>\n",
       "    </tr>\n",
       "    <tr>\n",
       "      <th>2</th>\n",
       "      <td>2019-08-03</td>\n",
       "      <td>54</td>\n",
       "      <td>288850</td>\n",
       "    </tr>\n",
       "    <tr>\n",
       "      <th>3</th>\n",
       "      <td>2019-08-04</td>\n",
       "      <td>68</td>\n",
       "      <td>385740</td>\n",
       "    </tr>\n",
       "    <tr>\n",
       "      <th>4</th>\n",
       "      <td>2019-08-05</td>\n",
       "      <td>89</td>\n",
       "      <td>475648</td>\n",
       "    </tr>\n",
       "  </tbody>\n",
       "</table>\n",
       "</div>"
      ],
      "text/plain": [
       "        date  ordersCummulativeB  revenueCummulativeB\n",
       "0 2019-08-01                  17                59758\n",
       "1 2019-08-02                  40               221801\n",
       "2 2019-08-03                  54               288850\n",
       "3 2019-08-04                  68               385740\n",
       "4 2019-08-05                  89               475648"
      ]
     },
     "metadata": {},
     "output_type": "display_data"
    }
   ],
   "source": [
    "# сгруппируем число заказов и сумму заказов по дням в группе A\n",
    "ordersADaily = (\n",
    "    orders[orders['group'] == 'A'][['date', 'transactionid', 'visitorid', 'revenue']]\n",
    "    .groupby('date', as_index=False)\n",
    "    .agg({'transactionid': pd.Series.nunique, 'revenue': 'sum'})\n",
    ")\n",
    "# переименовываем столбцы для ясности\n",
    "ordersADaily.columns = ['date', 'ordersPerDateA', 'revenuePerDateA']\n",
    "\n",
    "# создадим датафрейм с кумулятивными числом заказов и суммой заказов по дням для группы A\n",
    "ordersACummulative = ordersADaily.apply(\n",
    "    lambda x: ordersADaily[ordersADaily['date'] <= x['date']].agg(\n",
    "        {'date': 'max', 'ordersPerDateA': 'sum', 'revenuePerDateA': 'sum'}\n",
    "    ),\n",
    "    axis=1,\n",
    ").sort_values(by=['date'])\n",
    "# переименовываем столбцы для ясности\n",
    "ordersACummulative.columns = [\n",
    "    'date',\n",
    "    'ordersCummulativeA',\n",
    "    'revenueCummulativeA',\n",
    "]\n",
    "\n",
    "# сгруппируем число заказов и сумму заказов по дням в группе B\n",
    "ordersBDaily = (\n",
    "    orders[orders['group'] == 'B'][['date', 'transactionid', 'visitorid', 'revenue']]\n",
    "    .groupby('date', as_index=False)\n",
    "    .agg({'transactionid': pd.Series.nunique, 'revenue': 'sum'})\n",
    ")\n",
    "# переименовываем столбцы для ясности\n",
    "ordersBDaily.columns = ['date', 'ordersPerDateB', 'revenuePerDateB']\n",
    "\n",
    "# создадим датафрейм с кумулятивными числом заказов и суммой заказов по дням для группы B\n",
    "ordersBCummulative = ordersBDaily.apply(\n",
    "    lambda x: ordersBDaily[ordersBDaily['date'] <= x['date']].agg(\n",
    "        {'date': 'max', 'ordersPerDateB': 'sum', 'revenuePerDateB': 'sum'}\n",
    "    ),\n",
    "    axis=1,\n",
    ").sort_values(by=['date'])\n",
    "# переименовываем столбцы для ясности\n",
    "ordersBCummulative.columns = ['date', 'ordersCummulativeB', 'revenueCummulativeB']\n",
    "\n",
    "# посмотрим на получившиеся данные\n",
    "display(ordersACummulative.head(5))\n",
    "display(ordersBCummulative.head(5))"
   ]
  },
  {
   "cell_type": "code",
   "execution_count": 18,
   "id": "bd21b381",
   "metadata": {
    "scrolled": true
   },
   "outputs": [
    {
     "data": {
      "text/html": [
       "<div>\n",
       "<style scoped>\n",
       "    .dataframe tbody tr th:only-of-type {\n",
       "        vertical-align: middle;\n",
       "    }\n",
       "\n",
       "    .dataframe tbody tr th {\n",
       "        vertical-align: top;\n",
       "    }\n",
       "\n",
       "    .dataframe thead th {\n",
       "        text-align: right;\n",
       "    }\n",
       "</style>\n",
       "<table border=\"1\" class=\"dataframe\">\n",
       "  <thead>\n",
       "    <tr style=\"text-align: right;\">\n",
       "      <th></th>\n",
       "      <th>date</th>\n",
       "      <th>ordersPerDateA</th>\n",
       "      <th>revenuePerDateA</th>\n",
       "      <th>ordersPerDateB</th>\n",
       "      <th>revenuePerDateB</th>\n",
       "      <th>ordersCummulativeA</th>\n",
       "      <th>revenueCummulativeA</th>\n",
       "      <th>ordersCummulativeB</th>\n",
       "      <th>revenueCummulativeB</th>\n",
       "      <th>visitorsPerDateA</th>\n",
       "      <th>visitorsPerDateB</th>\n",
       "      <th>visitorsCummulativeA</th>\n",
       "      <th>visitorsCummulativeB</th>\n",
       "    </tr>\n",
       "  </thead>\n",
       "  <tbody>\n",
       "    <tr>\n",
       "      <th>0</th>\n",
       "      <td>2019-08-01</td>\n",
       "      <td>23</td>\n",
       "      <td>142779</td>\n",
       "      <td>17</td>\n",
       "      <td>59758</td>\n",
       "      <td>23</td>\n",
       "      <td>142779</td>\n",
       "      <td>17</td>\n",
       "      <td>59758</td>\n",
       "      <td>719</td>\n",
       "      <td>713</td>\n",
       "      <td>719</td>\n",
       "      <td>713</td>\n",
       "    </tr>\n",
       "    <tr>\n",
       "      <th>1</th>\n",
       "      <td>2019-08-02</td>\n",
       "      <td>19</td>\n",
       "      <td>91602</td>\n",
       "      <td>23</td>\n",
       "      <td>162043</td>\n",
       "      <td>42</td>\n",
       "      <td>234381</td>\n",
       "      <td>40</td>\n",
       "      <td>221801</td>\n",
       "      <td>619</td>\n",
       "      <td>581</td>\n",
       "      <td>1338</td>\n",
       "      <td>1294</td>\n",
       "    </tr>\n",
       "    <tr>\n",
       "      <th>2</th>\n",
       "      <td>2019-08-03</td>\n",
       "      <td>24</td>\n",
       "      <td>112473</td>\n",
       "      <td>14</td>\n",
       "      <td>67049</td>\n",
       "      <td>66</td>\n",
       "      <td>346854</td>\n",
       "      <td>54</td>\n",
       "      <td>288850</td>\n",
       "      <td>507</td>\n",
       "      <td>509</td>\n",
       "      <td>1845</td>\n",
       "      <td>1803</td>\n",
       "    </tr>\n",
       "    <tr>\n",
       "      <th>3</th>\n",
       "      <td>2019-08-04</td>\n",
       "      <td>11</td>\n",
       "      <td>41176</td>\n",
       "      <td>14</td>\n",
       "      <td>96890</td>\n",
       "      <td>77</td>\n",
       "      <td>388030</td>\n",
       "      <td>68</td>\n",
       "      <td>385740</td>\n",
       "      <td>717</td>\n",
       "      <td>770</td>\n",
       "      <td>2562</td>\n",
       "      <td>2573</td>\n",
       "    </tr>\n",
       "    <tr>\n",
       "      <th>4</th>\n",
       "      <td>2019-08-05</td>\n",
       "      <td>22</td>\n",
       "      <td>86383</td>\n",
       "      <td>21</td>\n",
       "      <td>89908</td>\n",
       "      <td>99</td>\n",
       "      <td>474413</td>\n",
       "      <td>89</td>\n",
       "      <td>475648</td>\n",
       "      <td>756</td>\n",
       "      <td>707</td>\n",
       "      <td>3318</td>\n",
       "      <td>3280</td>\n",
       "    </tr>\n",
       "  </tbody>\n",
       "</table>\n",
       "</div>"
      ],
      "text/plain": [
       "        date  ordersPerDateA  revenuePerDateA  ordersPerDateB  \\\n",
       "0 2019-08-01              23           142779              17   \n",
       "1 2019-08-02              19            91602              23   \n",
       "2 2019-08-03              24           112473              14   \n",
       "3 2019-08-04              11            41176              14   \n",
       "4 2019-08-05              22            86383              21   \n",
       "\n",
       "   revenuePerDateB  ordersCummulativeA  revenueCummulativeA  \\\n",
       "0            59758                  23               142779   \n",
       "1           162043                  42               234381   \n",
       "2            67049                  66               346854   \n",
       "3            96890                  77               388030   \n",
       "4            89908                  99               474413   \n",
       "\n",
       "   ordersCummulativeB  revenueCummulativeB  visitorsPerDateA  \\\n",
       "0                  17                59758               719   \n",
       "1                  40               221801               619   \n",
       "2                  54               288850               507   \n",
       "3                  68               385740               717   \n",
       "4                  89               475648               756   \n",
       "\n",
       "   visitorsPerDateB  visitorsCummulativeA  visitorsCummulativeB  \n",
       "0               713                   719                   713  \n",
       "1               581                  1338                  1294  \n",
       "2               509                  1845                  1803  \n",
       "3               770                  2562                  2573  \n",
       "4               707                  3318                  3280  "
      ]
     },
     "metadata": {},
     "output_type": "display_data"
    }
   ],
   "source": [
    "# Объединим все созданные таблицы по дате\n",
    "data = (\n",
    "    ordersADaily.merge(\n",
    "        ordersBDaily, left_on='date', right_on='date', how='left'\n",
    "    )\n",
    "    .merge(ordersACummulative, left_on='date', right_on='date', how='left')\n",
    "    .merge(ordersBCummulative, left_on='date', right_on='date', how='left')\n",
    "    .merge(visitorsADaily, left_on='date', right_on='date', how='left')\n",
    "    .merge(visitorsBDaily, left_on='date', right_on='date', how='left')\n",
    "    .merge(visitorsACummulative, left_on='date', right_on='date', how='left')\n",
    "    .merge(visitorsBCummulative, left_on='date', right_on='date', how='left')\n",
    ")\n",
    "\n",
    "# посмотрим на получившиеся данные\n",
    "display(data.head(5))"
   ]
  },
  {
   "cell_type": "markdown",
   "id": "22ffc686",
   "metadata": {},
   "source": [
    "## Анализ A/B-теста"
   ]
  },
  {
   "cell_type": "markdown",
   "id": "2c03f6f5",
   "metadata": {},
   "source": [
    "### График кумулятивной выручки по группам"
   ]
  },
  {
   "cell_type": "code",
   "execution_count": 19,
   "id": "c70a5260",
   "metadata": {},
   "outputs": [
    {
     "data": {
      "image/png": "[encoded data removed]",
      "text/plain": [
       "<Figure size 576x360 with 1 Axes>"
      ]
     },
     "metadata": {
      "needs_background": "light"
     },
     "output_type": "display_data"
    }
   ],
   "source": [
    "# зададим размер графика\n",
    "plt.figure(figsize=(8, 5))\n",
    "# Строим график выручки группы А\n",
    "plt.plot(data['date'], data['revenueCummulativeA'], label='A')\n",
    "# Строим график выручки группы B\n",
    "plt.plot(data['date'], data['revenueCummulativeB'], label='B')\n",
    "plt.xlabel('Дата')\n",
    "plt.xticks(rotation = 45)\n",
    "plt.ylabel('Выручка')\n",
    "plt.title('Динамика кумулятивной выручки')\n",
    "plt.legend()\n",
    "plt.show() "
   ]
  },
  {
   "cell_type": "markdown",
   "id": "1cde9495",
   "metadata": {},
   "source": [
    "Выручка увеличивается в течение всего теста, что косвенно говорит о корректности данных.\n",
    "График выручки группы `B` резко растет во второй половине месяца. Это может сигнализировать о всплесках числа заказов, либо о появлении очень дорогих заказов в выборке. В теории такой всплеск может быть связан с отложенным эффектом тестируемого изменения. Необходимо детальней проанализировать причины такой динамики."
   ]
  },
  {
   "cell_type": "markdown",
   "id": "460cd9ce",
   "metadata": {},
   "source": [
    "### График кумулятивного среднего чека по группам"
   ]
  },
  {
   "cell_type": "code",
   "execution_count": 20,
   "id": "229a2812",
   "metadata": {},
   "outputs": [
    {
     "data": {
      "image/png": "[encoded data removed]",
      "text/plain": [
       "<Figure size 576x360 with 1 Axes>"
      ]
     },
     "metadata": {
      "needs_background": "light"
     },
     "output_type": "display_data"
    }
   ],
   "source": [
    "# зададим размер графика\n",
    "plt.figure(figsize=(8, 5))\n",
    "#Построим графики среднего чека по группам — разделим кумулятивную выручку на кумулятивное число заказов:\n",
    "plt.plot(data['date'], data['revenueCummulativeA']/data['ordersCummulativeA'], label='A')\n",
    "plt.plot(data['date'], data['revenueCummulativeB']/data['ordersCummulativeB'], label='B')\n",
    "plt.xlabel('Дата')\n",
    "plt.xticks(rotation = 45)\n",
    "plt.ylabel('Кумулятивный средний чек')\n",
    "plt.title('Динамика кумулятивного среднего чека')\n",
    "plt.legend()\n",
    "plt.show() "
   ]
  },
  {
   "cell_type": "markdown",
   "id": "b1dc1c41",
   "metadata": {},
   "source": [
    "Средний чек имеет большие колебания в первой половине месяца, возможно сказывается влияние больших сумм заказов или отдельные пользователи делают большое число заказов. В группе `B` в 17-18 чиcлах имеется существенный скачек в значениях. Лишь после 17-18-х чисел значения в группах стабилизируются. Группа `B` в сравнении с группой `A` почти на протяжении всего месяца имеет большее значение среднего чека, но в дальнейшем средний чек показывает динамику на сближение значений."
   ]
  },
  {
   "cell_type": "markdown",
   "id": "872be0f9",
   "metadata": {},
   "source": [
    "### График относительного изменения кумулятивного среднего чека группы `B` к группе `А`"
   ]
  },
  {
   "cell_type": "code",
   "execution_count": 21,
   "id": "5096f51d",
   "metadata": {},
   "outputs": [
    {
     "data": {
      "image/png": "[encoded data removed]",
      "text/plain": [
       "<Figure size 576x360 with 1 Axes>"
      ]
     },
     "metadata": {
      "needs_background": "light"
     },
     "output_type": "display_data"
    }
   ],
   "source": [
    "# зададим размер графика\n",
    "plt.figure(figsize=(8, 5))\n",
    "# cтроим отношение средних чеков\n",
    "plt.plot(\n",
    "    data['date'], \n",
    "    (data['revenueCummulativeB']/data['ordersCummulativeB'])/\n",
    "    (data['revenueCummulativeA']/data['ordersCummulativeA']) - 1\n",
    ")\n",
    "plt.xlabel('Дата')\n",
    "plt.xticks(rotation = 45)\n",
    "plt.ylabel('Относительный прирост')\n",
    "plt.title('Динамика относительного изменения кумулятивного среднего чека группы B к группе А')\n",
    "plt.axhline(y=0, color='black', linestyle='--')\n",
    "plt.axis([dt.datetime.strptime('2019-08-01', '%Y-%m-%d'), dt.datetime.strptime('2019-09-01', '%Y-%m-%d'),-0.5,0.55])\n",
    "plt.show()"
   ]
  },
  {
   "cell_type": "markdown",
   "id": "676f1346",
   "metadata": {},
   "source": [
    "Отношение кумулятивного среднего чека группы `B` к группе `A` в некоторые дни резко меняется. Если бы не \"просадка\" относительного прироста в середине месяца, то можно говорить, что относитльный прирост положителен весь период. Для того, чтобы сделать корректные выводы требуется проверка на наличие аномально крупных заказов и выбросов. "
   ]
  },
  {
   "cell_type": "markdown",
   "id": "a8e981a5",
   "metadata": {},
   "source": [
    "### График кумулятивного среднего количества заказов на посетителя по группам"
   ]
  },
  {
   "cell_type": "code",
   "execution_count": 22,
   "id": "9dfd3156",
   "metadata": {},
   "outputs": [
    {
     "data": {
      "image/png": "[encoded data removed]",
      "text/plain": [
       "<Figure size 576x360 with 1 Axes>"
      ]
     },
     "metadata": {
      "needs_background": "light"
     },
     "output_type": "display_data"
    }
   ],
   "source": [
    "# зададим размер графика\n",
    "plt.figure(figsize=(8, 5))\n",
    "# строим графики отношения числа заказов к числу посетителей накопительным итогом \n",
    "plt.plot(data['date'], data['ordersCummulativeA']/data['visitorsCummulativeA'], label='A')\n",
    "plt.plot(data['date'], data['ordersCummulativeB']/data['visitorsCummulativeB'], label='B')\n",
    "plt.xlabel('Дата')\n",
    "plt.xticks(rotation = 45)\n",
    "plt.ylabel('Количество заказов на посетителя')\n",
    "plt.title('Динамика кумулятивного среднего количества заказов на посетителя')\n",
    "plt.axis([dt.datetime.strptime('2019-08-01', '%Y-%m-%d'), dt.datetime.strptime('2019-09-01', '%Y-%m-%d'),0,0.038])\n",
    "plt.legend()\n",
    "plt.show()"
   ]
  },
  {
   "cell_type": "markdown",
   "id": "1aea8960",
   "metadata": {},
   "source": [
    "После колебаний в начале месяца кумулятивное среднее количество заказов на посетителя стабизировалось. Причем среднее количество заказов на посетителя группы `B` имеет слабую динамику снижения, но в целом уверенно превышает группу `A`."
   ]
  },
  {
   "cell_type": "markdown",
   "id": "f98deb51",
   "metadata": {},
   "source": [
    "### График относительного изменения кумулятивного среднего количества заказов на посетителя группы `B` к группе `A`"
   ]
  },
  {
   "cell_type": "code",
   "execution_count": 23,
   "id": "3461a5c2",
   "metadata": {},
   "outputs": [
    {
     "data": {
      "image/png": "[encoded data removed]",
      "text/plain": [
       "<Figure size 576x360 with 1 Axes>"
      ]
     },
     "metadata": {
      "needs_background": "light"
     },
     "output_type": "display_data"
    }
   ],
   "source": [
    "# зададим размер графика\n",
    "plt.figure(figsize=(8, 5))\n",
    "#Построим график относительного различия кумулятивных конверсий:\n",
    "plt.plot(data['date'], \n",
    "         (data['ordersCummulativeB']/data['visitorsCummulativeB'])/\n",
    "         (data['ordersCummulativeA']/data['visitorsCummulativeA'])-1 \n",
    "         )\n",
    "plt.axhline(y=0, color='black', linestyle='--')\n",
    "plt.axhline(y=0.15, color='grey', linestyle='--')\n",
    "plt.axhline(y=0.10, color='grey', linestyle='--')\n",
    "plt.axis([dt.datetime.strptime('2019-08-01', '%Y-%m-%d'), dt.datetime.strptime('2019-09-01', '%Y-%m-%d'),-0.25,0.25])\n",
    "plt.xlabel('Дата')\n",
    "plt.xticks(rotation = 45)\n",
    "plt.ylabel('Относительны прирост')\n",
    "plt.title('Динамика относительного прироста среднего кол-ва заказов на посетителя группы B относительно группы A')\n",
    "plt.show() "
   ]
  },
  {
   "cell_type": "markdown",
   "id": "2db2f08c",
   "metadata": {},
   "source": [
    "С 7-го числа месяца группа `B` уверненно выигрывает  у группы `A`. С середины месяца в группе `B` прирост начал падать, но в конце снова растёт. Видно, что на протяжении почти всего теста число заказов группы `B` было выше более чем на 10% группы `A`.\n",
    "Наблюдается некоторая стабилизация значений, но стоит проанализировать аномалии, которые могут изменить результаты."
   ]
  },
  {
   "cell_type": "markdown",
   "id": "a4d4a9e0",
   "metadata": {},
   "source": [
    "### Точечный график количества заказов по пользователям"
   ]
  },
  {
   "cell_type": "code",
   "execution_count": 24,
   "id": "5a7c704c",
   "metadata": {},
   "outputs": [
    {
     "data": {
      "image/png": "[encoded data removed]",
      "text/plain": [
       "<Figure size 576x360 with 1 Axes>"
      ]
     },
     "metadata": {
      "needs_background": "light"
     },
     "output_type": "display_data"
    }
   ],
   "source": [
    "# зададим размер графика\n",
    "plt.figure(figsize=(8, 5))\n",
    "# сгруппируем данные по пользователям и вычислим число заказов у каждого\n",
    "ordersByUsers = (orders.groupby('visitorid', as_index=False)\n",
    "    .agg({'transactionid': 'nunique'}))\n",
    "# переименуем столбцы для ясности\n",
    "ordersByUsers.columns = ['visitorid', 'orders']\n",
    "# формируем список значений для оси х и выводим точечную диаграмму числа заказов\n",
    "# x_values — сгенерированные номера наблюдений\n",
    "x_values = pd.Series(range(0,len(ordersByUsers)))\n",
    "plt.scatter(x_values, ordersByUsers['orders'])\n",
    "plt.xlabel('Уникальные пользователи')\n",
    "plt.ylabel('Число заказов')\n",
    "plt.title('Число заказов на пользователя')\n",
    "plt.show() "
   ]
  },
  {
   "cell_type": "markdown",
   "id": "e002ee37",
   "metadata": {},
   "source": [
    "Большинство пользователей делало по одному заказу. Реже пользователи совершали по 2 и 3 заказа. Более 3 заказов на пользователя не встречаются (после удаления пользователей, которые попали в обе группы). По данному графику судить о доле пользователей с тем или иным числом заказов нельзя. Для определения аномальных значений вычислим 95-й и 99-й перцентили количества заказов на пользователя."
   ]
  },
  {
   "cell_type": "markdown",
   "id": "f1b37dc1",
   "metadata": {},
   "source": [
    "### 95-й и 99-й перцентили количества заказов на пользователя.  Граница аномальных пользователей"
   ]
  },
  {
   "cell_type": "code",
   "execution_count": 25,
   "id": "39674bc1",
   "metadata": {},
   "outputs": [
    {
     "name": "stdout",
     "output_type": "stream",
     "text": [
      "[1. 2.]\n"
     ]
    }
   ],
   "source": [
    "print(np.percentile(ordersByUsers['orders'],[95,99]))"
   ]
  },
  {
   "cell_type": "code",
   "execution_count": 26,
   "id": "e55120bc",
   "metadata": {},
   "outputs": [
    {
     "data": {
      "image/png": "[encoded data removed]",
      "text/plain": [
       "<Figure size 576x360 with 1 Axes>"
      ]
     },
     "metadata": {
      "needs_background": "light"
     },
     "output_type": "display_data"
    }
   ],
   "source": [
    "# зададим размер графика\n",
    "plt.figure(figsize=(8, 5))\n",
    "# визуализируем распределение пользователей по числу заказов\n",
    "plt.hist(ordersByUsers['orders']) \n",
    "plt.xlabel('Количество заказов')\n",
    "plt.ylabel('Число пользователей')\n",
    "plt.title('Распределение пользователей по числу заказов')\n",
    "plt.show() "
   ]
  },
  {
   "cell_type": "markdown",
   "id": "6c4c52f1",
   "metadata": {},
   "source": [
    "Не более 5% пользователей оформляли больше чем один заказ и 1% пользователей заказывали более двух раз. \n",
    "Целесообразно выбрать верхнюю границу числа заказов - 2, и отсеять аномальных пользователей по ней."
   ]
  },
  {
   "cell_type": "code",
   "execution_count": 27,
   "id": "427e8121",
   "metadata": {},
   "outputs": [],
   "source": [
    "# запомним границу аномалий по числу заказов\n",
    "true_orders = np.percentile(ordersByUsers['orders'],[99])[0]"
   ]
  },
  {
   "cell_type": "markdown",
   "id": "10b4befd",
   "metadata": {},
   "source": [
    "### Точечный график стоимостей заказов"
   ]
  },
  {
   "cell_type": "code",
   "execution_count": 28,
   "id": "4b932fbe",
   "metadata": {},
   "outputs": [
    {
     "data": {
      "image/png": "[encoded data removed]",
      "text/plain": [
       "<Figure size 576x360 with 1 Axes>"
      ]
     },
     "metadata": {
      "needs_background": "light"
     },
     "output_type": "display_data"
    }
   ],
   "source": [
    "# зададим размер графика\n",
    "plt.figure(figsize=(8, 5))\n",
    "# x_values — сгенерированные номера наблюдений\n",
    "x_values = pd.Series(range(0,len(orders['revenue'])))\n",
    "plt.scatter(x_values, orders['revenue'])\n",
    "plt.show()"
   ]
  },
  {
   "cell_type": "code",
   "execution_count": 29,
   "id": "a7bf152e",
   "metadata": {},
   "outputs": [
    {
     "data": {
      "image/png": "[encoded data removed]",
      "text/plain": [
       "<Figure size 576x360 with 1 Axes>"
      ]
     },
     "metadata": {
      "needs_background": "light"
     },
     "output_type": "display_data"
    }
   ],
   "source": [
    "# зададим размер графика\n",
    "plt.figure(figsize=(8, 5))\n",
    "# посмотрим на заказы с суммой до 100 000\n",
    "plt.scatter(x_values, orders['revenue'])\n",
    "plt.axis([0, len(orders['revenue']),0,100000])\n",
    "plt.show()"
   ]
  },
  {
   "cell_type": "markdown",
   "id": "838c8bf2",
   "metadata": {},
   "source": [
    "Заказов больше 100 000 практически нет. Границы для распределения заказов по стоимости из этого графика определить сложно, вычислим 95-й и 99-й перцентили."
   ]
  },
  {
   "cell_type": "markdown",
   "id": "3437268a",
   "metadata": {},
   "source": [
    "### 95-й и 99-й перцентили стоимости заказов.  Граница аномальных заказов"
   ]
  },
  {
   "cell_type": "code",
   "execution_count": 30,
   "id": "dafa40f1",
   "metadata": {},
   "outputs": [
    {
     "name": "stdout",
     "output_type": "stream",
     "text": [
      "[26785. 53904.]\n"
     ]
    }
   ],
   "source": [
    "# вычисление перцентилей по сумме заказов\n",
    "print(np.percentile(orders['revenue'],[95,99]))"
   ]
  },
  {
   "cell_type": "code",
   "execution_count": 31,
   "id": "abf33bb0",
   "metadata": {},
   "outputs": [
    {
     "data": {
      "image/png": "[encoded data removed]",
      "text/plain": [
       "<Figure size 576x360 with 1 Axes>"
      ]
     },
     "metadata": {
      "needs_background": "light"
     },
     "output_type": "display_data"
    }
   ],
   "source": [
    "# зададим размер графика\n",
    "plt.figure(figsize=(8, 5))\n",
    "# визуализируем распределение пользователей по стоимости заказов\n",
    "plt.hist(orders['revenue']) \n",
    "plt.xlabel('Стоимость заказов')\n",
    "plt.ylabel('Число пользователей')\n",
    "plt.title('Распределение пользователей по стоимости заказов')\n",
    "plt.show() "
   ]
  },
  {
   "cell_type": "markdown",
   "id": "d658f62a",
   "metadata": {},
   "source": [
    "Не более чем у 5% пользователей чек заказов более 26785. И не больше, чем у 1% заказы дороже 53904. Определим границу стоимости аномальных заказов - 26785."
   ]
  },
  {
   "cell_type": "code",
   "execution_count": 32,
   "id": "08d7c72d",
   "metadata": {},
   "outputs": [],
   "source": [
    "# запомним границу аномалий по чеку\n",
    "true_revenue = np.percentile(orders['revenue'],[95])[0]"
   ]
  },
  {
   "cell_type": "markdown",
   "id": "9868ed65",
   "metadata": {},
   "source": [
    "### Статистическая значимость различий в среднем количестве заказов на посетителя между группами по «сырым» данным"
   ]
  },
  {
   "cell_type": "markdown",
   "id": "7eeac36f",
   "metadata": {},
   "source": [
    "Сформулируем гипотезы:\n",
    "\n",
    "H0 - среднее количество заказов на посетителя в тестовых группах равно;\n",
    "\n",
    "H1 - среднее количество заказов на посетителя в тестовых группах различно."
   ]
  },
  {
   "cell_type": "code",
   "execution_count": 33,
   "id": "191c2b2b",
   "metadata": {},
   "outputs": [
    {
     "name": "stdout",
     "output_type": "stream",
     "text": [
      "0.011\n",
      "0.160\n"
     ]
    }
   ],
   "source": [
    "# Посчитаем статистическую значимость различия в среднем количестве заказов на посетителя между группами\n",
    "\n",
    "# группируем заказы по пользователям и считаем число уникальных заказов в группе A\n",
    "ordersByUsersA = (\n",
    "    orders[orders['group'] == 'A']\n",
    "    .groupby('visitorid', as_index=False)\n",
    "    .agg({'transactionid': pd.Series.nunique})\n",
    ")\n",
    "# переименовываем столбцы\n",
    "ordersByUsersA.columns = ['visitorid', 'orders']\n",
    "\n",
    "# группируем заказы по пользователям и считаем число уникальных заказов в группе B\n",
    "ordersByUsersB = (\n",
    "    orders[orders['group'] == 'B']\n",
    "    .groupby('visitorid', as_index=False)\n",
    "    .agg({'transactionid': pd.Series.nunique})\n",
    ")\n",
    "# переименовываем столбцы\n",
    "ordersByUsersB.columns = ['visitorid', 'orders']\n",
    "\n",
    "\n",
    "# Объявим переменные sampleA и sampleB, в которых пользователям из разных групп будет соответствовать количество заказов.\n",
    "# Тем, кто ничего не заказал, будут соответствовать нули. Это нужно, чтобы подготовить выборки к проверке критерием Манна-Уитни.\n",
    "\n",
    "sampleA = pd.concat(\n",
    "    [ordersByUsersA['orders'],\n",
    "        pd.Series(\n",
    "            0,\n",
    "            index=np.arange(\n",
    "                data['visitorsPerDateA'].sum() - len(ordersByUsersA['orders'])\n",
    "            ),\n",
    "            name='orders',\n",
    "        )], axis=0)\n",
    "\n",
    "sampleB = pd.concat(\n",
    "    [ordersByUsersB['orders'],\n",
    "        pd.Series(\n",
    "            0,\n",
    "            index=np.arange(\n",
    "                data['visitorsPerDateB'].sum() - len(ordersByUsersB['orders'])\n",
    "            ),\n",
    "            name='orders',\n",
    "        )], axis=0)\n",
    "\n",
    "# вычисляем значение критерия Манна-Уитни для числа заказов на посетителя в сравнении групп A и B\n",
    "print(\"{0:.3f}\".format(stats.mannwhitneyu(sampleA, sampleB)[1]))\n",
    "\n",
    "#  вычисляем различие среднего числа заказов на посетителя в группе B по отношению к группе A\n",
    "print(\"{0:.3f}\".format(sampleB.mean() / sampleA.mean() - 1))"
   ]
  },
  {
   "cell_type": "markdown",
   "id": "b42a1053",
   "metadata": {},
   "source": [
    "По \"сырым\" данным P-value менее принятого уровня значимости 0.05, что позволяет отклонить гипотезу о равенстве среднего количества заказов на посетителя в тестовых группах. Относительное различие 16% в пользу группы `B` можно было наблюдать на графике выше. Но требуется проверить эти значения без аномалий и выбросов."
   ]
  },
  {
   "cell_type": "markdown",
   "id": "045ef46e",
   "metadata": {},
   "source": [
    "### Статистическая значимость различий в среднем чеке заказа между группами по «сырым» данным"
   ]
  },
  {
   "cell_type": "markdown",
   "id": "39d42141",
   "metadata": {},
   "source": [
    "Сформулируем гипотезы:\n",
    "\n",
    "H0 - средний чек в тестовых группах равен;\n",
    "\n",
    "H1 - средний чек в группах имеет различие."
   ]
  },
  {
   "cell_type": "code",
   "execution_count": 34,
   "id": "6e7b30d7",
   "metadata": {},
   "outputs": [
    {
     "name": "stdout",
     "output_type": "stream",
     "text": [
      "0.829\n",
      "0.287\n"
     ]
    }
   ],
   "source": [
    "# вычисляем значение критерия Манна-Уитни для средних чеков в сравнении групп A и B\n",
    "print('{0:.3f}'.format(stats.mannwhitneyu(orders[orders['group']=='A']['revenue'], orders[orders['group']=='B']['revenue'])[1]))\n",
    "\n",
    "#  вычисляем различие среднего чека в группе B по отношению к группе A\n",
    "print('{0:.3f}'.format(orders[orders['group']=='B']['revenue'].mean()/orders[orders['group']=='A']['revenue'].mean()-1))"
   ]
  },
  {
   "cell_type": "markdown",
   "id": "756d0571",
   "metadata": {},
   "source": [
    "P-value значительно больше 0.05. Значит, причин отвергать нулевую гипотезу и считать, что в среднем чеке есть различия, нет. Но по относительной разнице средний чек группы `B` выше среднего чека группы `A`. Существенная относительная разница при отсутствии статистической значимости указывает на влияние выбросов на метрику."
   ]
  },
  {
   "cell_type": "markdown",
   "id": "aba7dee6",
   "metadata": {},
   "source": [
    "### Статистическая значимость различий в среднем количестве заказов на посетителя между группами по «очищенным» данным"
   ]
  },
  {
   "cell_type": "markdown",
   "id": "036a44b3",
   "metadata": {},
   "source": [
    "Сформулируем гипотезы:\n",
    "\n",
    "H0 - среднее количество заказов на посетителя в тестовых группах равно;\n",
    "\n",
    "H1 - среднее количество заказов на посетителя в тестовых группах различно."
   ]
  },
  {
   "cell_type": "markdown",
   "id": "eff6924f",
   "metadata": {},
   "source": [
    "Для начала выполним \"очистку\" данных, применив границу аномального числа заказов и аномальной суммы заказов."
   ]
  },
  {
   "cell_type": "code",
   "execution_count": 35,
   "id": "f015d3ad",
   "metadata": {},
   "outputs": [
    {
     "name": "stdout",
     "output_type": "stream",
     "text": [
      "568     113298937\n",
      "1099    148427295\n",
      "928     204675465\n",
      "33      249864742\n",
      "684     358944393\n",
      "Name: visitorid, dtype: int64\n",
      "58\n"
     ]
    }
   ],
   "source": [
    "# выбираем из таблиц пользователей по группам с числом заказов более 2 и пользователей с суммой заказов более 30000\n",
    "# и собираем id пользователей в единый список, очищая его от дубликатов\n",
    "usersWithManyOrders = pd.concat(\n",
    "    [\n",
    "        ordersByUsersA[ordersByUsersA['orders'] > true_orders]['visitorid'],\n",
    "        ordersByUsersB[ordersByUsersB['orders'] > true_orders]['visitorid'],\n",
    "    ],\n",
    "    axis=0,\n",
    ")\n",
    "usersWithExpensiveOrders = orders[orders['revenue'] > true_revenue]['visitorid']\n",
    "abnormalUsers = (\n",
    "    pd.concat([usersWithManyOrders, usersWithExpensiveOrders], axis=0)\n",
    "    .drop_duplicates()\n",
    "    .sort_values()\n",
    ")\n",
    "# первые 5 строк списка id аномальных пользователей\n",
    "print(abnormalUsers.head(5))\n",
    "# число таких ползователей\n",
    "print(abnormalUsers.shape[0]) "
   ]
  },
  {
   "cell_type": "code",
   "execution_count": 36,
   "id": "0f9714b5",
   "metadata": {},
   "outputs": [],
   "source": [
    "# Объявим переменные sampleAFiltered и sampleBFiltered, в которых пользователям из разных групп будет\n",
    "# соответствовать количество заказов.\n",
    "# Тем, кто ничего не заказал, будут соответствовать нули. \n",
    "# Это нужно, чтобы подготовить выборки к проверке критерием Манна-Уитни.\n",
    "\n",
    "sampleAFiltered = pd.concat(\n",
    "    [\n",
    "        ordersByUsersA[\n",
    "            np.logical_not(ordersByUsersA['visitorid'].isin(abnormalUsers)) # очищаем данные от аномальных пользователей\n",
    "        ]['orders'],\n",
    "        pd.Series(\n",
    "            0,\n",
    "            index=np.arange(\n",
    "                data['visitorsPerDateA'].sum() - len(ordersByUsersA['orders'])\n",
    "            ),\n",
    "            name='orders',\n",
    "        ),\n",
    "    ],\n",
    "    axis=0,\n",
    ")\n",
    "\n",
    "sampleBFiltered = pd.concat(\n",
    "    [\n",
    "        ordersByUsersB[\n",
    "            np.logical_not(ordersByUsersB['visitorid'].isin(abnormalUsers)) # очищаем данные от аномальных пользователей\n",
    "        ]['orders'],\n",
    "        pd.Series(\n",
    "            0,\n",
    "            index=np.arange(\n",
    "                data['visitorsPerDateB'].sum() - len(ordersByUsersB['orders'])\n",
    "            ),\n",
    "            name='orders',\n",
    "        ),\n",
    "    ],\n",
    "    axis=0,\n",
    ") "
   ]
  },
  {
   "cell_type": "code",
   "execution_count": 37,
   "id": "1f2d07b4",
   "metadata": {},
   "outputs": [
    {
     "name": "stdout",
     "output_type": "stream",
     "text": [
      "0.012\n",
      "0.182\n"
     ]
    }
   ],
   "source": [
    "# вычисляем значение критерия Манна-Уитни для числа заказов на посетителя в сравнении групп A и B по очищенным данным\n",
    "print('{0:.3f}'.format(stats.mannwhitneyu(sampleAFiltered, sampleBFiltered)[1]))\n",
    "\n",
    "#  вычисляем различие среднего числа заказов на посетителя в группе B по отношению к группе A по очищенным данным\n",
    "print('{0:.3f}'.format(sampleBFiltered.mean()/sampleAFiltered.mean()-1)) "
   ]
  },
  {
   "cell_type": "markdown",
   "id": "72f06f86",
   "metadata": {},
   "source": [
    "По \"очищенным\" данным P-value менее принятого уровня значимости 0.05, еще раз позволяет отклонить гипотезу о равенстве среднего количества заказов на посетителя в тестовых группах. Относительное различие выросло на 2,7 процентных пункта по сравнению с \"неочищенными\" данными и теперь вместо 16% составляет 18.7% в пользу группы `B`."
   ]
  },
  {
   "cell_type": "markdown",
   "id": "0f7c5588",
   "metadata": {},
   "source": [
    "### Статистическая значимость различий в среднем чеке заказа между группами по «очищенным» данным"
   ]
  },
  {
   "cell_type": "markdown",
   "id": "c0801c3e",
   "metadata": {},
   "source": [
    "Сформулируем гипотезы:\n",
    "\n",
    "H0 - средний чек в тестовых группах равен;\n",
    "\n",
    "H1 - средний чек в группах имеет различие."
   ]
  },
  {
   "cell_type": "code",
   "execution_count": 38,
   "id": "67d26428",
   "metadata": {},
   "outputs": [
    {
     "name": "stdout",
     "output_type": "stream",
     "text": [
      "0.646\n",
      "-0.048\n"
     ]
    }
   ],
   "source": [
    "# вычисляем значение критерия Манна-Уитни для средних чеков в сравнении групп A и B по очищенным данным\n",
    "print(\n",
    "    '{0:.3f}'.format(\n",
    "        stats.mannwhitneyu(orders[np.logical_and(orders['group'] == 'A',\n",
    "                                                 np.logical_not(orders['visitorid'].isin(abnormalUsers)))]['revenue'],\n",
    "                           orders[np.logical_and(orders['group'] == 'B',\n",
    "                                                 np.logical_not(orders['visitorid'].isin(abnormalUsers)))]['revenue'],)[1])\n",
    ")\n",
    "\n",
    "#  вычисляем различие среднего чека в группе B по отношению к группе A по очищенным данным\n",
    "print(\n",
    "    \"{0:.3f}\".format(\n",
    "        orders[np.logical_and(orders['group'] == 'B',\n",
    "                              np.logical_not(orders['visitorid'].isin(abnormalUsers)),)]['revenue'].mean()\n",
    "        / orders[np.logical_and(orders['group'] == 'A',\n",
    "                                np.logical_not(orders['visitorid'].isin(abnormalUsers)),)]['revenue'].mean()- 1)\n",
    ") "
   ]
  },
  {
   "cell_type": "markdown",
   "id": "eb5d9aa5",
   "metadata": {},
   "source": [
    "По \"очищенным\" данным P-value значительно выше уровня значимости 0.05 - он вырос с 0.415 до 0.741, это не позволяет отклонить гипотезу о равенстве средних чеков в тестовых группах. Относительное различие на \"очищенных\" данных изменилось почти на 30 процентных пунктов -2% против 28.7% на \"неочищенных\" данных, средние чеки почти равны."
   ]
  },
  {
   "cell_type": "markdown",
   "id": "2d35264e",
   "metadata": {},
   "source": [
    "## Решение по результатам теста"
   ]
  },
  {
   "cell_type": "markdown",
   "id": "861dff48",
   "metadata": {},
   "source": [
    "Гипотеза о равенстве средних чеков подтверждена как при расчете на \"сырых\" данных, так и при расчете на \"очищенных\" данных. \n",
    "\n",
    "Гипотеза о равенстве среднего числа заказов на пользователя отклонена, среднее число заказов на пользователя в группе `B` выше, чем в группе `A`.\n",
    "\n",
    "Учитывая устоявшуюся динамику кумулятивных значений среднего числа заказов на посетителя и динамику относительного прироста среднего числа заказов на пользователя группы `B` относительно группы `A` рекомендуется остановить тест и зафиксировать победу группы `B` над группой `A`.\n",
    "\n",
    "Можно ожидать, что тестируемое изменение приведет к росту числа заказов, с которым будет расти и выручка при том же среднем чеке.\n",
    "\n",
    "На будущее требуется проверить алгоритм деления траффика, поскольку выявлены пользователи, заказы которых попали в обе группы."
   ]
  }
 ],
 "metadata": {
  "ExecuteTimeLog": [
   {
    "duration": 1187,
    "start_time": "2023-04-04T21:17:01.188Z"
   },
   {
    "duration": 5,
    "start_time": "2023-04-04T21:17:02.377Z"
   },
   {
    "duration": 106,
    "start_time": "2023-04-04T21:17:02.383Z"
   },
   {
    "duration": 0,
    "start_time": "2023-04-04T21:17:02.492Z"
   },
   {
    "duration": 0,
    "start_time": "2023-04-04T21:17:02.493Z"
   },
   {
    "duration": 0,
    "start_time": "2023-04-04T21:17:02.495Z"
   },
   {
    "duration": 0,
    "start_time": "2023-04-04T21:17:02.496Z"
   },
   {
    "duration": 0,
    "start_time": "2023-04-04T21:17:02.498Z"
   },
   {
    "duration": 0,
    "start_time": "2023-04-04T21:17:02.499Z"
   },
   {
    "duration": 0,
    "start_time": "2023-04-04T21:17:02.500Z"
   },
   {
    "duration": 0,
    "start_time": "2023-04-04T21:17:02.501Z"
   },
   {
    "duration": 0,
    "start_time": "2023-04-04T21:17:02.502Z"
   },
   {
    "duration": 0,
    "start_time": "2023-04-04T21:17:02.504Z"
   },
   {
    "duration": 0,
    "start_time": "2023-04-04T21:17:02.505Z"
   },
   {
    "duration": 0,
    "start_time": "2023-04-04T21:17:02.506Z"
   },
   {
    "duration": 0,
    "start_time": "2023-04-04T21:17:02.507Z"
   },
   {
    "duration": 0,
    "start_time": "2023-04-04T21:17:02.509Z"
   },
   {
    "duration": 0,
    "start_time": "2023-04-04T21:17:02.510Z"
   },
   {
    "duration": 0,
    "start_time": "2023-04-04T21:17:02.511Z"
   },
   {
    "duration": 0,
    "start_time": "2023-04-04T21:17:02.512Z"
   },
   {
    "duration": 0,
    "start_time": "2023-04-04T21:17:02.514Z"
   },
   {
    "duration": 0,
    "start_time": "2023-04-04T21:17:02.515Z"
   },
   {
    "duration": 0,
    "start_time": "2023-04-04T21:17:02.516Z"
   },
   {
    "duration": 0,
    "start_time": "2023-04-04T21:17:02.517Z"
   },
   {
    "duration": 0,
    "start_time": "2023-04-04T21:17:02.518Z"
   },
   {
    "duration": 0,
    "start_time": "2023-04-04T21:17:02.519Z"
   },
   {
    "duration": 0,
    "start_time": "2023-04-04T21:17:02.568Z"
   },
   {
    "duration": 0,
    "start_time": "2023-04-04T21:17:02.570Z"
   },
   {
    "duration": 0,
    "start_time": "2023-04-04T21:17:02.571Z"
   },
   {
    "duration": 0,
    "start_time": "2023-04-04T21:17:02.575Z"
   },
   {
    "duration": 0,
    "start_time": "2023-04-04T21:17:02.576Z"
   },
   {
    "duration": 0,
    "start_time": "2023-04-04T21:17:02.577Z"
   },
   {
    "duration": 1623,
    "start_time": "2023-04-05T03:39:30.990Z"
   },
   {
    "duration": 5,
    "start_time": "2023-04-05T03:39:32.616Z"
   },
   {
    "duration": 200,
    "start_time": "2023-04-05T03:39:32.622Z"
   },
   {
    "duration": 6,
    "start_time": "2023-04-05T03:40:14.413Z"
   },
   {
    "duration": 17,
    "start_time": "2023-04-05T03:40:14.425Z"
   },
   {
    "duration": 0,
    "start_time": "2023-04-05T03:40:14.443Z"
   },
   {
    "duration": 0,
    "start_time": "2023-04-05T03:40:14.445Z"
   },
   {
    "duration": 0,
    "start_time": "2023-04-05T03:40:14.446Z"
   },
   {
    "duration": 0,
    "start_time": "2023-04-05T03:40:14.448Z"
   },
   {
    "duration": 0,
    "start_time": "2023-04-05T03:40:14.449Z"
   },
   {
    "duration": 0,
    "start_time": "2023-04-05T03:40:14.450Z"
   },
   {
    "duration": 0,
    "start_time": "2023-04-05T03:40:14.451Z"
   },
   {
    "duration": 0,
    "start_time": "2023-04-05T03:40:14.452Z"
   },
   {
    "duration": 0,
    "start_time": "2023-04-05T03:40:14.453Z"
   },
   {
    "duration": 36,
    "start_time": "2023-04-05T03:40:14.456Z"
   },
   {
    "duration": 0,
    "start_time": "2023-04-05T03:40:14.494Z"
   },
   {
    "duration": 0,
    "start_time": "2023-04-05T03:40:14.495Z"
   },
   {
    "duration": 0,
    "start_time": "2023-04-05T03:40:14.496Z"
   },
   {
    "duration": 0,
    "start_time": "2023-04-05T03:40:14.497Z"
   },
   {
    "duration": 0,
    "start_time": "2023-04-05T03:40:14.498Z"
   },
   {
    "duration": 0,
    "start_time": "2023-04-05T03:40:14.500Z"
   },
   {
    "duration": 0,
    "start_time": "2023-04-05T03:40:14.501Z"
   },
   {
    "duration": 26,
    "start_time": "2023-04-05T03:40:14.511Z"
   },
   {
    "duration": 0,
    "start_time": "2023-04-05T03:40:14.540Z"
   },
   {
    "duration": 0,
    "start_time": "2023-04-05T03:40:14.541Z"
   },
   {
    "duration": 0,
    "start_time": "2023-04-05T03:40:14.543Z"
   },
   {
    "duration": 0,
    "start_time": "2023-04-05T03:40:14.545Z"
   },
   {
    "duration": 0,
    "start_time": "2023-04-05T03:40:14.546Z"
   },
   {
    "duration": 0,
    "start_time": "2023-04-05T03:40:14.548Z"
   },
   {
    "duration": 0,
    "start_time": "2023-04-05T03:40:14.549Z"
   },
   {
    "duration": 0,
    "start_time": "2023-04-05T03:40:14.551Z"
   },
   {
    "duration": 0,
    "start_time": "2023-04-05T03:40:14.552Z"
   },
   {
    "duration": 0,
    "start_time": "2023-04-05T03:40:14.553Z"
   },
   {
    "duration": 0,
    "start_time": "2023-04-05T03:40:14.583Z"
   },
   {
    "duration": 23,
    "start_time": "2023-04-05T03:40:43.789Z"
   },
   {
    "duration": 8,
    "start_time": "2023-04-05T03:40:56.867Z"
   },
   {
    "duration": 8,
    "start_time": "2023-04-05T03:41:15.155Z"
   },
   {
    "duration": 166,
    "start_time": "2023-04-05T03:41:29.850Z"
   },
   {
    "duration": 5,
    "start_time": "2023-04-05T03:41:32.813Z"
   },
   {
    "duration": 8,
    "start_time": "2023-04-05T03:41:36.199Z"
   },
   {
    "duration": 9,
    "start_time": "2023-04-05T03:43:08.737Z"
   },
   {
    "duration": 164,
    "start_time": "2023-04-05T03:43:28.297Z"
   },
   {
    "duration": 5,
    "start_time": "2023-04-05T03:43:29.056Z"
   },
   {
    "duration": 14,
    "start_time": "2023-04-05T03:43:30.087Z"
   },
   {
    "duration": 120,
    "start_time": "2023-04-05T06:30:59.683Z"
   },
   {
    "duration": 1643,
    "start_time": "2023-04-05T06:31:55.896Z"
   },
   {
    "duration": 11,
    "start_time": "2023-04-05T06:32:05.972Z"
   },
   {
    "duration": 16,
    "start_time": "2023-04-05T06:32:09.794Z"
   },
   {
    "duration": 7,
    "start_time": "2023-04-05T06:32:15.031Z"
   },
   {
    "duration": 64,
    "start_time": "2023-04-05T06:32:16.639Z"
   },
   {
    "duration": 13,
    "start_time": "2023-04-05T06:32:22.576Z"
   },
   {
    "duration": 73,
    "start_time": "2023-04-05T06:32:28.209Z"
   },
   {
    "duration": 16,
    "start_time": "2023-04-05T06:32:29.922Z"
   },
   {
    "duration": 44,
    "start_time": "2023-04-05T06:32:33.764Z"
   },
   {
    "duration": 36,
    "start_time": "2023-04-05T06:32:35.977Z"
   },
   {
    "duration": 19,
    "start_time": "2023-04-05T06:32:38.070Z"
   },
   {
    "duration": 18,
    "start_time": "2023-04-05T06:32:45.210Z"
   },
   {
    "duration": 6,
    "start_time": "2023-04-05T06:32:48.425Z"
   },
   {
    "duration": 101,
    "start_time": "2023-04-05T06:33:24.369Z"
   },
   {
    "duration": 133,
    "start_time": "2023-04-05T06:33:26.174Z"
   },
   {
    "duration": 37,
    "start_time": "2023-04-05T06:33:27.480Z"
   },
   {
    "duration": 296,
    "start_time": "2023-04-05T06:33:58.684Z"
   },
   {
    "duration": 219,
    "start_time": "2023-04-05T06:34:49.904Z"
   },
   {
    "duration": 433,
    "start_time": "2023-04-05T06:34:57.965Z"
   },
   {
    "duration": 277,
    "start_time": "2023-04-05T06:36:03.469Z"
   },
   {
    "duration": 327,
    "start_time": "2023-04-05T06:36:15.444Z"
   },
   {
    "duration": 235,
    "start_time": "2023-04-05T06:36:19.673Z"
   },
   {
    "duration": 219,
    "start_time": "2023-04-05T06:38:29.764Z"
   },
   {
    "duration": 288,
    "start_time": "2023-04-05T06:38:35.578Z"
   },
   {
    "duration": 424,
    "start_time": "2023-04-05T06:38:43.660Z"
   },
   {
    "duration": 177,
    "start_time": "2023-04-05T06:38:50.493Z"
   },
   {
    "duration": 5,
    "start_time": "2023-04-05T06:38:56.624Z"
   },
   {
    "duration": 161,
    "start_time": "2023-04-05T06:39:00.465Z"
   },
   {
    "duration": 146,
    "start_time": "2023-04-05T06:39:04.074Z"
   },
   {
    "duration": 121,
    "start_time": "2023-04-05T06:39:06.794Z"
   },
   {
    "duration": 5,
    "start_time": "2023-04-05T06:39:10.309Z"
   },
   {
    "duration": 174,
    "start_time": "2023-04-05T06:39:11.014Z"
   },
   {
    "duration": 275,
    "start_time": "2023-04-05T06:39:16.777Z"
   },
   {
    "duration": 14,
    "start_time": "2023-04-05T06:39:54.379Z"
   },
   {
    "duration": 14,
    "start_time": "2023-04-05T06:45:03.714Z"
   },
   {
    "duration": 14,
    "start_time": "2023-04-05T06:45:06.129Z"
   },
   {
    "duration": 34,
    "start_time": "2023-04-05T06:45:07.335Z"
   },
   {
    "duration": 27,
    "start_time": "2023-04-05T06:45:40.922Z"
   },
   {
    "duration": 174,
    "start_time": "2023-04-05T06:48:14.635Z"
   },
   {
    "duration": 8,
    "start_time": "2023-04-05T06:48:15.732Z"
   },
   {
    "duration": 52,
    "start_time": "2023-04-05T06:48:16.741Z"
   },
   {
    "duration": 13,
    "start_time": "2023-04-05T06:48:21.270Z"
   },
   {
    "duration": 23,
    "start_time": "2023-04-05T06:48:26.398Z"
   },
   {
    "duration": 23,
    "start_time": "2023-04-05T06:48:27.806Z"
   },
   {
    "duration": 61,
    "start_time": "2023-04-05T06:48:30.925Z"
   },
   {
    "duration": 52,
    "start_time": "2023-04-05T06:48:31.732Z"
   },
   {
    "duration": 22,
    "start_time": "2023-04-05T06:48:32.737Z"
   },
   {
    "duration": 23,
    "start_time": "2023-04-05T06:48:40.687Z"
   },
   {
    "duration": 6,
    "start_time": "2023-04-05T06:48:43.803Z"
   },
   {
    "duration": 153,
    "start_time": "2023-04-05T06:48:45.096Z"
   },
   {
    "duration": 197,
    "start_time": "2023-04-05T06:48:46.102Z"
   },
   {
    "duration": 50,
    "start_time": "2023-04-05T06:48:47.928Z"
   },
   {
    "duration": 334,
    "start_time": "2023-04-05T06:48:51.565Z"
   },
   {
    "duration": 298,
    "start_time": "2023-04-05T06:48:54.073Z"
   },
   {
    "duration": 355,
    "start_time": "2023-04-05T06:49:00.105Z"
   },
   {
    "duration": 318,
    "start_time": "2023-04-05T06:49:10.772Z"
   },
   {
    "duration": 401,
    "start_time": "2023-04-05T06:49:14.911Z"
   },
   {
    "duration": 391,
    "start_time": "2023-04-05T06:49:22.371Z"
   },
   {
    "duration": 5,
    "start_time": "2023-04-05T06:49:28.413Z"
   },
   {
    "duration": 242,
    "start_time": "2023-04-05T06:49:29.596Z"
   },
   {
    "duration": 193,
    "start_time": "2023-04-05T06:49:33.422Z"
   },
   {
    "duration": 182,
    "start_time": "2023-04-05T06:49:34.228Z"
   },
   {
    "duration": 6,
    "start_time": "2023-04-05T06:49:39.665Z"
   },
   {
    "duration": 156,
    "start_time": "2023-04-05T06:49:40.426Z"
   },
   {
    "duration": 244,
    "start_time": "2023-04-05T06:49:59.576Z"
   },
   {
    "duration": 15,
    "start_time": "2023-04-05T06:50:09.541Z"
   },
   {
    "duration": 15,
    "start_time": "2023-04-05T06:50:13.966Z"
   },
   {
    "duration": 15,
    "start_time": "2023-04-05T06:50:17.083Z"
   },
   {
    "duration": 34,
    "start_time": "2023-04-05T06:50:26.244Z"
   },
   {
    "duration": 23,
    "start_time": "2023-04-05T06:50:32.988Z"
   },
   {
    "duration": 1326,
    "start_time": "2023-04-05T12:05:26.347Z"
   },
   {
    "duration": 6,
    "start_time": "2023-04-05T12:05:27.675Z"
   },
   {
    "duration": 48,
    "start_time": "2023-04-05T12:05:27.683Z"
   },
   {
    "duration": 8,
    "start_time": "2023-04-05T12:05:27.733Z"
   },
   {
    "duration": 59,
    "start_time": "2023-04-05T12:05:27.743Z"
   },
   {
    "duration": 23,
    "start_time": "2023-04-05T12:05:27.804Z"
   },
   {
    "duration": 50,
    "start_time": "2023-04-05T12:05:27.829Z"
   },
   {
    "duration": 55,
    "start_time": "2023-04-05T12:05:27.881Z"
   },
   {
    "duration": 14,
    "start_time": "2023-04-05T12:05:27.938Z"
   },
   {
    "duration": 25,
    "start_time": "2023-04-05T12:05:27.953Z"
   },
   {
    "duration": 4,
    "start_time": "2023-04-05T12:05:27.980Z"
   },
   {
    "duration": 123,
    "start_time": "2023-04-05T12:05:27.986Z"
   },
   {
    "duration": 153,
    "start_time": "2023-04-05T12:05:28.111Z"
   },
   {
    "duration": 30,
    "start_time": "2023-04-05T12:05:28.267Z"
   },
   {
    "duration": 301,
    "start_time": "2023-04-05T12:05:28.298Z"
   },
   {
    "duration": 228,
    "start_time": "2023-04-05T12:05:28.601Z"
   },
   {
    "duration": 313,
    "start_time": "2023-04-05T12:05:28.831Z"
   },
   {
    "duration": 226,
    "start_time": "2023-04-05T12:05:29.145Z"
   },
   {
    "duration": 284,
    "start_time": "2023-04-05T12:05:29.372Z"
   },
   {
    "duration": 159,
    "start_time": "2023-04-05T12:05:29.658Z"
   },
   {
    "duration": 5,
    "start_time": "2023-04-05T12:05:29.823Z"
   },
   {
    "duration": 170,
    "start_time": "2023-04-05T12:05:29.829Z"
   },
   {
    "duration": 141,
    "start_time": "2023-04-05T12:05:30.000Z"
   },
   {
    "duration": 217,
    "start_time": "2023-04-05T12:05:30.142Z"
   },
   {
    "duration": 5,
    "start_time": "2023-04-05T12:05:30.360Z"
   },
   {
    "duration": 201,
    "start_time": "2023-04-05T12:05:30.367Z"
   },
   {
    "duration": 247,
    "start_time": "2023-04-05T12:05:30.570Z"
   },
   {
    "duration": 14,
    "start_time": "2023-04-05T12:05:30.822Z"
   },
   {
    "duration": 50,
    "start_time": "2023-04-05T12:05:30.838Z"
   },
   {
    "duration": 34,
    "start_time": "2023-04-05T12:05:30.890Z"
   },
   {
    "duration": 62,
    "start_time": "2023-04-05T12:05:30.926Z"
   },
   {
    "duration": 49,
    "start_time": "2023-04-05T12:05:30.990Z"
   }
  ],
  "kernelspec": {
   "display_name": "Python 3 (ipykernel)",
   "language": "python",
   "name": "python3"
  },
  "language_info": {
   "codemirror_mode": {
    "name": "ipython",
    "version": 3
   },
   "file_extension": ".py",
   "mimetype": "text/x-python",
   "name": "python",
   "nbconvert_exporter": "python",
   "pygments_lexer": "ipython3",
   "version": "3.9.12"
  },
  "toc": {
   "base_numbering": 1,
   "nav_menu": {},
   "number_sections": false,
   "sideBar": true,
   "skip_h1_title": false,
   "title_cell": "Table of Contents",
   "title_sidebar": "Contents",
   "toc_cell": true,
   "toc_position": {
    "height": "calc(100% - 180px)",
    "left": "10px",
    "top": "150px",
    "width": "219.261px"
   },
   "toc_section_display": true,
   "toc_window_display": true
  }
 },
 "nbformat": 4,
 "nbformat_minor": 5
}
